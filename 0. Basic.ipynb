{
 "cells": [
  {
   "cell_type": "code",
   "execution_count": null,
   "metadata": {
    "collapsed": true
   },
   "outputs": [],
   "source": []
  },
  {
   "cell_type": "markdown",
   "metadata": {},
   "source": [
    "# 1. Load Data\n",
    "- [Naver sentiment movie corpus v1.0](https://github.com/e9t/nsmc)"
   ]
  },
  {
   "cell_type": "code",
   "execution_count": 1,
   "metadata": {
    "collapsed": false
   },
   "outputs": [
    {
     "name": "stdout",
     "output_type": "stream",
     "text": [
      "--2017-05-20 11:11:29--  https://raw.githubusercontent.com/e9t/nsmc/master/ratings_train.txt\n",
      "Resolving raw.githubusercontent.com... 151.101.40.133\n",
      "Connecting to raw.githubusercontent.com|151.101.40.133|:443... connected.\n",
      "HTTP request sent, awaiting response... 200 OK\n",
      "Length: 14628807 (14M) [text/plain]\n",
      "Saving to: ‘data/ratings_train.txt.2’\n",
      "\n",
      "ratings_train.txt.2 100%[===================>]  13.95M   828KB/s    in 15s     \n",
      "\n",
      "2017-05-20 11:11:46 (950 KB/s) - ‘data/ratings_train.txt.2’ saved [14628807/14628807]\n",
      "\n",
      "--2017-05-20 11:11:46--  https://raw.githubusercontent.com/e9t/nsmc/master/ratings_test.txt\n",
      "Resolving raw.githubusercontent.com... 151.101.24.133\n",
      "Connecting to raw.githubusercontent.com|151.101.24.133|:443... connected.\n",
      "HTTP request sent, awaiting response... 200 OK\n",
      "Length: 4893335 (4.7M) [text/plain]\n",
      "Saving to: ‘data/ratings_test.txt.2’\n",
      "\n",
      "ratings_test.txt.2  100%[===================>]   4.67M  2.68MB/s    in 1.7s    \n",
      "\n",
      "2017-05-20 11:11:50 (2.68 MB/s) - ‘data/ratings_test.txt.2’ saved [4893335/4893335]\n",
      "\n"
     ]
    }
   ],
   "source": [
    "# data download\n",
    "# wget -P A B : B의 데이터를 A에 저장.\n",
    "!wget -P data https://raw.githubusercontent.com/e9t/nsmc/master/ratings_train.txt # train data \n",
    "!wget -P data https://raw.githubusercontent.com/e9t/nsmc/master/ratings_test.txt # test data "
   ]
  },
  {
   "cell_type": "code",
   "execution_count": 2,
   "metadata": {
    "collapsed": true
   },
   "outputs": [],
   "source": [
    "TRAIN_FILE = 'data/ratings_train.txt'\n",
    "TEST_FILE = 'data/ratings_test.txt'"
   ]
  },
  {
   "cell_type": "code",
   "execution_count": 3,
   "metadata": {
    "collapsed": false
   },
   "outputs": [
    {
     "name": "stdout",
     "output_type": "stream",
     "text": [
      "id\tdocument\tlabel\r\n",
      "9976970\t아 더빙.. 진짜 짜증나네요 목소리\t0\r\n",
      "3819312\t흠...포스터보고 초딩영화줄....오버연기조차 가볍지 않구나\t1\r\n",
      "10265843\t너무재밓었다그래서보는것을추천한다\t0\r\n",
      "9045019\t교도소 이야기구먼 ..솔직히 재미는 없다..평점 조정\t0\r\n",
      "6483659\t사이몬페그의 익살스런 연기가 돋보였던 영화!스파이더맨에서 늙어보이기만 했던 커스틴 던스트가 너무나도 이뻐보였다\t1\r\n",
      "5403919\t막 걸음마 뗀 3세부터 초등학교 1학년생인 8살용영화.ㅋㅋㅋ...별반개도 아까움.\t0\r\n",
      "7797314\t원작의 긴장감을 제대로 살려내지못했다.\t0\r\n",
      "9443947\t별 반개도 아깝다 욕나온다 이응경 길용우 연기생활이몇년인지..정말 발로해도 그것보단 낫겟다 납치.감금만반복반복..이드라마는 가족도없다 연기못하는사람만모엿네\t0\r\n",
      "7156791\t액션이 없는데도 재미 있는 몇안되는 영화\t1\r\n"
     ]
    }
   ],
   "source": [
    "!head data/ratings_train.txt"
   ]
  },
  {
   "cell_type": "code",
   "execution_count": 4,
   "metadata": {
    "collapsed": true
   },
   "outputs": [],
   "source": [
    "reviews = []\n",
    "with open(TRAIN_FILE, 'r') as f:\n",
    "    next(f) # header skip\n",
    "    for line in f.readlines():\n",
    "        _, review, _ = line.strip().split('\\t')\n",
    "        reviews.append(review.strip())\n",
    "        \n",
    "with open(TEST_FILE, 'r') as f:\n",
    "    next(f) # header skip\n",
    "    for line in f.readlines():\n",
    "        _, review, _ = line.strip().split('\\t')\n",
    "        reviews.append(review.strip())"
   ]
  },
  {
   "cell_type": "code",
   "execution_count": 5,
   "metadata": {
    "collapsed": false
   },
   "outputs": [
    {
     "data": {
      "text/plain": [
       "['아 더빙.. 진짜 짜증나네요 목소리',\n",
       " '흠...포스터보고 초딩영화줄....오버연기조차 가볍지 않구나',\n",
       " '너무재밓었다그래서보는것을추천한다',\n",
       " '교도소 이야기구먼 ..솔직히 재미는 없다..평점 조정',\n",
       " '사이몬페그의 익살스런 연기가 돋보였던 영화!스파이더맨에서 늙어보이기만 했던 커스틴 던스트가 너무나도 이뻐보였다',\n",
       " '막 걸음마 뗀 3세부터 초등학교 1학년생인 8살용영화.ㅋㅋㅋ...별반개도 아까움.',\n",
       " '원작의 긴장감을 제대로 살려내지못했다.',\n",
       " '별 반개도 아깝다 욕나온다 이응경 길용우 연기생활이몇년인지..정말 발로해도 그것보단 낫겟다 납치.감금만반복반복..이드라마는 가족도없다 연기못하는사람만모엿네',\n",
       " '액션이 없는데도 재미 있는 몇안되는 영화',\n",
       " '왜케 평점이 낮은건데? 꽤 볼만한데.. 헐리우드식 화려함에만 너무 길들여져 있나?']"
      ]
     },
     "execution_count": 5,
     "metadata": {},
     "output_type": "execute_result"
    }
   ],
   "source": [
    "reviews[:10]"
   ]
  },
  {
   "cell_type": "code",
   "execution_count": null,
   "metadata": {
    "collapsed": true
   },
   "outputs": [],
   "source": []
  },
  {
   "cell_type": "markdown",
   "metadata": {},
   "source": [
    "# 2. 토큰화 (Tokenization) & 품사(POS; part-of-speech) 부착(Tagging)\n",
    "- 문장을 분석의 최소단위인 토큰으로 분리.\n",
    "    - 어절 단위 : 나는 / 치킨을 / 먹었다\n",
    "    - 형태소 단위 : 나 / 는 / 치킨 / 을 / 먹 / 었 / 다\n",
    "- [Konlpy](http://konlpy-ko.readthedocs.io/ko/v0.4.3/)의 [트위터 형태소 분석기](https://github.com/twitter/twitter-korean-text)를 사용.\n",
    "- 트위터 형태소 분석기 장점:\n",
    "    - 정규화(입니닼ㅋㅋ -> 입니다 ㅋㅋ), 어근화(입니다 -> 이다) 옵션 기능 지원.\n",
    "    - 한글 통신어체 처리에 좋음.\n",
    "    - 형태소 종류가 보다 간단하여 비전공자도 쉽게 구분이 가능. [(참고)](https://docs.google.com/spreadsheets/d/1OGAjUvalBuX-oZvZ_-9tEfYD2gQe7hTGsgUpiiBSXI8/edit#gid=0)"
   ]
  },
  {
   "cell_type": "code",
   "execution_count": 6,
   "metadata": {
    "collapsed": true
   },
   "outputs": [],
   "source": [
    "from konlpy.tag import Twitter\n",
    "twi_tagger = Twitter()"
   ]
  },
  {
   "cell_type": "code",
   "execution_count": 7,
   "metadata": {
    "collapsed": false
   },
   "outputs": [
    {
     "data": {
      "text/plain": [
       "[('자연어', 'Noun'),\n",
       " ('처리', 'Noun'),\n",
       " ('는', 'Josa'),\n",
       " ('정말', 'Noun'),\n",
       " ('재밌다', 'Adjective'),\n",
       " ('ㅋㅋ', 'KoreanParticle')]"
      ]
     },
     "execution_count": 7,
     "metadata": {},
     "output_type": "execute_result"
    }
   ],
   "source": [
    "sentence = '자연어처리는 정말 재밌겠닼ㅋㅋㅋ'\n",
    "twi_tagger.pos(sentence, norm=True, stem=True)"
   ]
  },
  {
   "cell_type": "code",
   "execution_count": null,
   "metadata": {
    "collapsed": true
   },
   "outputs": [],
   "source": []
  },
  {
   "cell_type": "markdown",
   "metadata": {},
   "source": [
    "# 3. Word Embedding \n",
    "- 단어를 벡터에 임베딩함.\n",
    "- CNN에서 학습할때 사용.\n",
    "- word2vec은 gensim을 통해 쉽게 만들 수 있음.\n",
    "- [시나브로 배우는 자연어처리](https://www.slideshare.net/shuraba1/ss-56479835) 참고"
   ]
  },
  {
   "cell_type": "code",
   "execution_count": 22,
   "metadata": {
    "collapsed": false
   },
   "outputs": [
    {
     "data": {
      "text/html": [
       "\n",
       "    <div class=\"bk-root\">\n",
       "        <a href=\"http://bokeh.pydata.org\" target=\"_blank\" class=\"bk-logo bk-logo-small bk-logo-notebook\"></a>\n",
       "        <span id=\"bcd8685a-0d44-4e78-98c2-03a1fbf6dcdb\">Loading BokehJS ...</span>\n",
       "    </div>"
      ]
     },
     "metadata": {},
     "output_type": "display_data"
    },
    {
     "data": {
      "application/javascript": [
       "\n",
       "(function(global) {\n",
       "  function now() {\n",
       "    return new Date();\n",
       "  }\n",
       "\n",
       "  var force = \"1\";\n",
       "\n",
       "  if (typeof (window._bokeh_onload_callbacks) === \"undefined\" || force !== \"\") {\n",
       "    window._bokeh_onload_callbacks = [];\n",
       "    window._bokeh_is_loading = undefined;\n",
       "  }\n",
       "\n",
       "\n",
       "  \n",
       "  if (typeof (window._bokeh_timeout) === \"undefined\" || force !== \"\") {\n",
       "    window._bokeh_timeout = Date.now() + 5000;\n",
       "    window._bokeh_failed_load = false;\n",
       "  }\n",
       "\n",
       "  var NB_LOAD_WARNING = {'data': {'text/html':\n",
       "     \"<div style='background-color: #fdd'>\\n\"+\n",
       "     \"<p>\\n\"+\n",
       "     \"BokehJS does not appear to have successfully loaded. If loading BokehJS from CDN, this \\n\"+\n",
       "     \"may be due to a slow or bad network connection. Possible fixes:\\n\"+\n",
       "     \"</p>\\n\"+\n",
       "     \"<ul>\\n\"+\n",
       "     \"<li>re-rerun `output_notebook()` to attempt to load from CDN again, or</li>\\n\"+\n",
       "     \"<li>use INLINE resources instead, as so:</li>\\n\"+\n",
       "     \"</ul>\\n\"+\n",
       "     \"<code>\\n\"+\n",
       "     \"from bokeh.resources import INLINE\\n\"+\n",
       "     \"output_notebook(resources=INLINE)\\n\"+\n",
       "     \"</code>\\n\"+\n",
       "     \"</div>\"}};\n",
       "\n",
       "  function display_loaded() {\n",
       "    if (window.Bokeh !== undefined) {\n",
       "      Bokeh.$(\"#bcd8685a-0d44-4e78-98c2-03a1fbf6dcdb\").text(\"BokehJS successfully loaded.\");\n",
       "    } else if (Date.now() < window._bokeh_timeout) {\n",
       "      setTimeout(display_loaded, 100)\n",
       "    }\n",
       "  }\n",
       "\n",
       "  function run_callbacks() {\n",
       "    window._bokeh_onload_callbacks.forEach(function(callback) { callback() });\n",
       "    delete window._bokeh_onload_callbacks\n",
       "    console.info(\"Bokeh: all callbacks have finished\");\n",
       "  }\n",
       "\n",
       "  function load_libs(js_urls, callback) {\n",
       "    window._bokeh_onload_callbacks.push(callback);\n",
       "    if (window._bokeh_is_loading > 0) {\n",
       "      console.log(\"Bokeh: BokehJS is being loaded, scheduling callback at\", now());\n",
       "      return null;\n",
       "    }\n",
       "    if (js_urls == null || js_urls.length === 0) {\n",
       "      run_callbacks();\n",
       "      return null;\n",
       "    }\n",
       "    console.log(\"Bokeh: BokehJS not loaded, scheduling load and callback at\", now());\n",
       "    window._bokeh_is_loading = js_urls.length;\n",
       "    for (var i = 0; i < js_urls.length; i++) {\n",
       "      var url = js_urls[i];\n",
       "      var s = document.createElement('script');\n",
       "      s.src = url;\n",
       "      s.async = false;\n",
       "      s.onreadystatechange = s.onload = function() {\n",
       "        window._bokeh_is_loading--;\n",
       "        if (window._bokeh_is_loading === 0) {\n",
       "          console.log(\"Bokeh: all BokehJS libraries loaded\");\n",
       "          run_callbacks()\n",
       "        }\n",
       "      };\n",
       "      s.onerror = function() {\n",
       "        console.warn(\"failed to load library \" + url);\n",
       "      };\n",
       "      console.log(\"Bokeh: injecting script tag for BokehJS library: \", url);\n",
       "      document.getElementsByTagName(\"head\")[0].appendChild(s);\n",
       "    }\n",
       "  };var element = document.getElementById(\"bcd8685a-0d44-4e78-98c2-03a1fbf6dcdb\");\n",
       "  if (element == null) {\n",
       "    console.log(\"Bokeh: ERROR: autoload.js configured with elementid 'bcd8685a-0d44-4e78-98c2-03a1fbf6dcdb' but no matching script tag was found. \")\n",
       "    return false;\n",
       "  }\n",
       "\n",
       "  var js_urls = ['https://cdn.pydata.org/bokeh/release/bokeh-0.12.2.min.js', 'https://cdn.pydata.org/bokeh/release/bokeh-widgets-0.12.2.min.js', 'https://cdn.pydata.org/bokeh/release/bokeh-compiler-0.12.2.min.js'];\n",
       "\n",
       "  var inline_js = [\n",
       "    function(Bokeh) {\n",
       "      Bokeh.set_log_level(\"info\");\n",
       "    },\n",
       "    \n",
       "    function(Bokeh) {\n",
       "      \n",
       "      Bokeh.$(\"#bcd8685a-0d44-4e78-98c2-03a1fbf6dcdb\").text(\"BokehJS is loading...\");\n",
       "    },\n",
       "    function(Bokeh) {\n",
       "      console.log(\"Bokeh: injecting CSS: https://cdn.pydata.org/bokeh/release/bokeh-0.12.2.min.css\");\n",
       "      Bokeh.embed.inject_css(\"https://cdn.pydata.org/bokeh/release/bokeh-0.12.2.min.css\");\n",
       "      console.log(\"Bokeh: injecting CSS: https://cdn.pydata.org/bokeh/release/bokeh-widgets-0.12.2.min.css\");\n",
       "      Bokeh.embed.inject_css(\"https://cdn.pydata.org/bokeh/release/bokeh-widgets-0.12.2.min.css\");\n",
       "    }\n",
       "  ];\n",
       "\n",
       "  function run_inline_js() {\n",
       "    \n",
       "    if ((window.Bokeh !== undefined) || (force === \"1\")) {\n",
       "      for (var i = 0; i < inline_js.length; i++) {\n",
       "        inline_js[i](window.Bokeh);\n",
       "      }if (force === \"1\") {\n",
       "        display_loaded();\n",
       "      }} else if (Date.now() < window._bokeh_timeout) {\n",
       "      setTimeout(run_inline_js, 100);\n",
       "    } else if (!window._bokeh_failed_load) {\n",
       "      console.log(\"Bokeh: BokehJS failed to load within specified timeout.\");\n",
       "      window._bokeh_failed_load = true;\n",
       "    } else if (!force) {\n",
       "      var cell = $(\"#bcd8685a-0d44-4e78-98c2-03a1fbf6dcdb\").parents('.cell').data().cell;\n",
       "      cell.output_area.append_execute_result(NB_LOAD_WARNING)\n",
       "    }\n",
       "\n",
       "  }\n",
       "\n",
       "  if (window._bokeh_is_loading === 0) {\n",
       "    console.log(\"Bokeh: BokehJS loaded, going straight to plotting\");\n",
       "    run_inline_js();\n",
       "  } else {\n",
       "    load_libs(js_urls, function() {\n",
       "      console.log(\"Bokeh: BokehJS plotting callback run at\", now());\n",
       "      run_inline_js();\n",
       "    });\n",
       "  }\n",
       "}(this));"
      ]
     },
     "metadata": {},
     "output_type": "display_data"
    }
   ],
   "source": [
    "import os\n",
    "import sys\n",
    "import multiprocessing\n",
    "import numpy as np\n",
    "\n",
    "# 토큰화\n",
    "from konlpy.tag import Twitter\n",
    "twi_tagger = Twitter()\n",
    "\n",
    "# word2vec 모델링\n",
    "import gensim\n",
    "from gensim.models import word2vec\n",
    "\n",
    "# 차원 축소 및 시각화\n",
    "from sklearn.manifold import TSNE\n",
    "from bokeh.plotting import figure, show, save, output_notebook\n",
    "from bokeh.models import ColumnDataSource, LabelSet\n",
    "from bokeh import palettes\n",
    "output_notebook()\n",
    "%matplotlib inline"
   ]
  },
  {
   "cell_type": "code",
   "execution_count": 13,
   "metadata": {
    "collapsed": true
   },
   "outputs": [],
   "source": [
    "def tokenizer(doc):\n",
    "    tokens = ['/'.join(t) for t in twi_tagger.pos(doc, norm=True, stem=True)]\n",
    "    return tokens"
   ]
  },
  {
   "cell_type": "code",
   "execution_count": 14,
   "metadata": {
    "collapsed": false
   },
   "outputs": [
    {
     "data": {
      "text/plain": [
       "['흠/Noun',\n",
       " '.../Punctuation',\n",
       " '포스터/Noun',\n",
       " '보고/Noun',\n",
       " '초딩/Noun',\n",
       " '영화/Noun',\n",
       " '줄/Noun',\n",
       " '..../Punctuation',\n",
       " '오버/Noun',\n",
       " '연기/Noun',\n",
       " '조차/Josa',\n",
       " '가볍다/Adjective',\n",
       " '않다/Verb']"
      ]
     },
     "execution_count": 14,
     "metadata": {},
     "output_type": "execute_result"
    }
   ],
   "source": [
    "tokenizer(reviews[1])"
   ]
  },
  {
   "cell_type": "code",
   "execution_count": 15,
   "metadata": {
    "collapsed": false
   },
   "outputs": [
    {
     "name": "stdout",
     "output_type": "stream",
     "text": [
      "CPU times: user 3min 43s, sys: 2.49 s, total: 3min 45s\n",
      "Wall time: 3min 35s\n"
     ]
    }
   ],
   "source": [
    "%%time\n",
    "# Tokenize on every reviews.\n",
    "reviews = [tokenizer(review) for review in reviews]"
   ]
  },
  {
   "cell_type": "code",
   "execution_count": null,
   "metadata": {
    "collapsed": true
   },
   "outputs": [],
   "source": []
  },
  {
   "cell_type": "code",
   "execution_count": 16,
   "metadata": {
    "collapsed": true
   },
   "outputs": [],
   "source": [
    "# Set parameters\n",
    "num_features = 300    # Word vector dimensionality                      \n",
    "min_word_count = 1   # Minimum word count                        \n",
    "num_workers = multiprocessing.cpu_count() # Number of threads to run in parallel\n",
    "context = 4 # Context window size                                                                                    \n",
    "iter_ = 100 # Iteration\n",
    "sg=1 # Skip-gram or not(CBOW)\n",
    "\n",
    "model_name = '{}dim_{}minwords_{}context_twi'.format(num_features, min_word_count, context)"
   ]
  },
  {
   "cell_type": "code",
   "execution_count": 17,
   "metadata": {
    "collapsed": false
   },
   "outputs": [
    {
     "name": "stdout",
     "output_type": "stream",
     "text": [
      "CPU times: user 1h 12min 8s, sys: 26.4 s, total: 1h 12min 34s\n",
      "Wall time: 11min 2s\n"
     ]
    }
   ],
   "source": [
    "%%time\n",
    "# Train a Word2vec model\n",
    "model = word2vec.Word2Vec(reviews, workers=num_workers, \\\n",
    "            size=num_features, min_count = min_word_count, \\\n",
    "            window = context, iter=iter_, sg=sg)"
   ]
  },
  {
   "cell_type": "code",
   "execution_count": 18,
   "metadata": {
    "collapsed": true
   },
   "outputs": [],
   "source": [
    "# Save a Word2vec model\n",
    "model_file = os.path.join('w2v', model_name)\n",
    "model.save(model_file)"
   ]
  },
  {
   "cell_type": "code",
   "execution_count": null,
   "metadata": {
    "collapsed": true
   },
   "outputs": [],
   "source": []
  },
  {
   "cell_type": "code",
   "execution_count": 28,
   "metadata": {
    "collapsed": true
   },
   "outputs": [],
   "source": [
    "def vis_top_n(model, top, lr=500, n_iter=1000, perplexity=10):\n",
    "    vectors = model.wv.syn0[:top]\n",
    "    labels = model.wv.index2word[:top]\n",
    "\n",
    "    if np.shape(vectors)[1] > 2:\n",
    "        tsne = TSNE(perplexity=perplexity, n_components=2, init='random', n_iter=n_iter, verbose=1, learning_rate=lr, method='exact')  # tsne를 이용한 차원 축소 (n차원 -> 2차원)\n",
    "        vectors = tsne.fit_transform(vectors)\n",
    "\n",
    "    source = ColumnDataSource(\n",
    "        data=dict(\n",
    "            x=vectors.T[0],\n",
    "            y=vectors.T[1],\n",
    "            word=labels,\n",
    "        )\n",
    "    )\n",
    "    label_set = LabelSet(x='x', y='y', text='word', level='glyph', text_color=\"#111111\", text_alpha=0.6, text_font_size='8pt', x_offset=5, y_offset=5, source=source, render_mode='canvas')\n",
    "    tools = \"pan,wheel_zoom,box_zoom,reset,resize\"\n",
    "    p = figure(plot_width=900, plot_height=900, tools=[tools], title='word2vec vis top %i' % top)\n",
    "    p.circle('x', 'y', size=5, source=source, alpha=0.6, fill_color='red', line_color=\"#ff9900\")\n",
    "    p.add_layout(label_set)\n",
    "    show(p)"
   ]
  },
  {
   "cell_type": "code",
   "execution_count": 32,
   "metadata": {
    "collapsed": false
   },
   "outputs": [
    {
     "name": "stdout",
     "output_type": "stream",
     "text": [
      "[t-SNE] Computing pairwise distances...\n",
      "[t-SNE] Computed conditional probabilities for sample 1000 / 2000\n",
      "[t-SNE] Computed conditional probabilities for sample 2000 / 2000\n",
      "[t-SNE] Mean sigma: 1.353100\n",
      "[t-SNE] KL divergence after 100 iterations with early exaggeration: 36.114670\n",
      "[t-SNE] Error after 250 iterations: 36.114670\n"
     ]
    },
    {
     "data": {
      "text/html": [
       "\n",
       "\n",
       "    <div class=\"bk-root\">\n",
       "        <div class=\"plotdiv\" id=\"bdae55d7-ef61-4cdb-9dba-317a7f5a9998\"></div>\n",
       "    </div>\n",
       "<script type=\"text/javascript\">\n",
       "  \n",
       "  (function(global) {\n",
       "    function now() {\n",
       "      return new Date();\n",
       "    }\n",
       "  \n",
       "    var force = \"\";\n",
       "  \n",
       "    if (typeof (window._bokeh_onload_callbacks) === \"undefined\" || force !== \"\") {\n",
       "      window._bokeh_onload_callbacks = [];\n",
       "      window._bokeh_is_loading = undefined;\n",
       "    }\n",
       "  \n",
       "  \n",
       "    \n",
       "    if (typeof (window._bokeh_timeout) === \"undefined\" || force !== \"\") {\n",
       "      window._bokeh_timeout = Date.now() + 0;\n",
       "      window._bokeh_failed_load = false;\n",
       "    }\n",
       "  \n",
       "    var NB_LOAD_WARNING = {'data': {'text/html':\n",
       "       \"<div style='background-color: #fdd'>\\n\"+\n",
       "       \"<p>\\n\"+\n",
       "       \"BokehJS does not appear to have successfully loaded. If loading BokehJS from CDN, this \\n\"+\n",
       "       \"may be due to a slow or bad network connection. Possible fixes:\\n\"+\n",
       "       \"</p>\\n\"+\n",
       "       \"<ul>\\n\"+\n",
       "       \"<li>re-rerun `output_notebook()` to attempt to load from CDN again, or</li>\\n\"+\n",
       "       \"<li>use INLINE resources instead, as so:</li>\\n\"+\n",
       "       \"</ul>\\n\"+\n",
       "       \"<code>\\n\"+\n",
       "       \"from bokeh.resources import INLINE\\n\"+\n",
       "       \"output_notebook(resources=INLINE)\\n\"+\n",
       "       \"</code>\\n\"+\n",
       "       \"</div>\"}};\n",
       "  \n",
       "    function display_loaded() {\n",
       "      if (window.Bokeh !== undefined) {\n",
       "        Bokeh.$(\"#bdae55d7-ef61-4cdb-9dba-317a7f5a9998\").text(\"BokehJS successfully loaded.\");\n",
       "      } else if (Date.now() < window._bokeh_timeout) {\n",
       "        setTimeout(display_loaded, 100)\n",
       "      }\n",
       "    }\n",
       "  \n",
       "    function run_callbacks() {\n",
       "      window._bokeh_onload_callbacks.forEach(function(callback) { callback() });\n",
       "      delete window._bokeh_onload_callbacks\n",
       "      console.info(\"Bokeh: all callbacks have finished\");\n",
       "    }\n",
       "  \n",
       "    function load_libs(js_urls, callback) {\n",
       "      window._bokeh_onload_callbacks.push(callback);\n",
       "      if (window._bokeh_is_loading > 0) {\n",
       "        console.log(\"Bokeh: BokehJS is being loaded, scheduling callback at\", now());\n",
       "        return null;\n",
       "      }\n",
       "      if (js_urls == null || js_urls.length === 0) {\n",
       "        run_callbacks();\n",
       "        return null;\n",
       "      }\n",
       "      console.log(\"Bokeh: BokehJS not loaded, scheduling load and callback at\", now());\n",
       "      window._bokeh_is_loading = js_urls.length;\n",
       "      for (var i = 0; i < js_urls.length; i++) {\n",
       "        var url = js_urls[i];\n",
       "        var s = document.createElement('script');\n",
       "        s.src = url;\n",
       "        s.async = false;\n",
       "        s.onreadystatechange = s.onload = function() {\n",
       "          window._bokeh_is_loading--;\n",
       "          if (window._bokeh_is_loading === 0) {\n",
       "            console.log(\"Bokeh: all BokehJS libraries loaded\");\n",
       "            run_callbacks()\n",
       "          }\n",
       "        };\n",
       "        s.onerror = function() {\n",
       "          console.warn(\"failed to load library \" + url);\n",
       "        };\n",
       "        console.log(\"Bokeh: injecting script tag for BokehJS library: \", url);\n",
       "        document.getElementsByTagName(\"head\")[0].appendChild(s);\n",
       "      }\n",
       "    };var element = document.getElementById(\"bdae55d7-ef61-4cdb-9dba-317a7f5a9998\");\n",
       "    if (element == null) {\n",
       "      console.log(\"Bokeh: ERROR: autoload.js configured with elementid 'bdae55d7-ef61-4cdb-9dba-317a7f5a9998' but no matching script tag was found. \")\n",
       "      return false;\n",
       "    }\n",
       "  \n",
       "    var js_urls = [];\n",
       "  \n",
       "    var inline_js = [\n",
       "      function(Bokeh) {\n",
       "        Bokeh.$(function() {\n",
       "            var docs_json = {\"9c0746a2-27d9-4c6f-9c07-58b3c8184be0\":{\"roots\":{\"references\":[{\"attributes\":{\"plot\":{\"id\":\"131e3f8b-b590-483d-8932-ff5270dba88b\",\"subtype\":\"Figure\",\"type\":\"Plot\"}},\"id\":\"71722235-a9b6-4542-aee3-2a4840029f4a\",\"type\":\"ResizeTool\"},{\"attributes\":{\"plot\":{\"id\":\"131e3f8b-b590-483d-8932-ff5270dba88b\",\"subtype\":\"Figure\",\"type\":\"Plot\"}},\"id\":\"2c4ca0cf-6eb4-4e7a-a8d7-7ed7e2d2979e\",\"type\":\"ResetTool\"},{\"attributes\":{\"plot\":{\"id\":\"131e3f8b-b590-483d-8932-ff5270dba88b\",\"subtype\":\"Figure\",\"type\":\"Plot\"}},\"id\":\"377c20cc-c249-4327-ac60-f7210e597ed4\",\"type\":\"PanTool\"},{\"attributes\":{\"bottom_units\":\"screen\",\"fill_alpha\":{\"value\":0.5},\"fill_color\":{\"value\":\"lightgrey\"},\"left_units\":\"screen\",\"level\":\"overlay\",\"line_alpha\":{\"value\":1.0},\"line_color\":{\"value\":\"black\"},\"line_dash\":[4,4],\"line_width\":{\"value\":2},\"plot\":null,\"render_mode\":\"css\",\"right_units\":\"screen\",\"top_units\":\"screen\"},\"id\":\"f0b73566-0c65-43ac-8add-55dd982b9658\",\"type\":\"BoxAnnotation\"},{\"attributes\":{\"fill_alpha\":{\"value\":0.1},\"fill_color\":{\"value\":\"#1f77b4\"},\"line_alpha\":{\"value\":0.1},\"line_color\":{\"value\":\"#1f77b4\"},\"size\":{\"units\":\"screen\",\"value\":5},\"x\":{\"field\":\"x\"},\"y\":{\"field\":\"y\"}},\"id\":\"af12addc-a6a2-440c-bc9a-dccdda1ea72f\",\"type\":\"Circle\"},{\"attributes\":{},\"id\":\"b13c9eae-70f7-44a9-bec6-c4f081f99487\",\"type\":\"BasicTickFormatter\"},{\"attributes\":{\"overlay\":{\"id\":\"f0b73566-0c65-43ac-8add-55dd982b9658\",\"type\":\"BoxAnnotation\"},\"plot\":{\"id\":\"131e3f8b-b590-483d-8932-ff5270dba88b\",\"subtype\":\"Figure\",\"type\":\"Plot\"}},\"id\":\"4da59a08-485d-4af5-bc05-605f7145bd36\",\"type\":\"BoxZoomTool\"},{\"attributes\":{\"formatter\":{\"id\":\"bc0479a8-4e2f-4bd6-bf69-713810ca4d38\",\"type\":\"BasicTickFormatter\"},\"plot\":{\"id\":\"131e3f8b-b590-483d-8932-ff5270dba88b\",\"subtype\":\"Figure\",\"type\":\"Plot\"},\"ticker\":{\"id\":\"bc2185c9-7fb4-4140-a033-5ddbdfa0edd4\",\"type\":\"BasicTicker\"}},\"id\":\"e0befba3-9247-48a7-9241-e696f1d6caa2\",\"type\":\"LinearAxis\"},{\"attributes\":{},\"id\":\"bc2185c9-7fb4-4140-a033-5ddbdfa0edd4\",\"type\":\"BasicTicker\"},{\"attributes\":{\"active_drag\":\"auto\",\"active_scroll\":\"auto\",\"active_tap\":\"auto\",\"tools\":[{\"id\":\"377c20cc-c249-4327-ac60-f7210e597ed4\",\"type\":\"PanTool\"},{\"id\":\"b5b9c9e6-3fb9-4b4a-aee2-1701dbd36eb3\",\"type\":\"WheelZoomTool\"},{\"id\":\"4da59a08-485d-4af5-bc05-605f7145bd36\",\"type\":\"BoxZoomTool\"},{\"id\":\"2c4ca0cf-6eb4-4e7a-a8d7-7ed7e2d2979e\",\"type\":\"ResetTool\"},{\"id\":\"71722235-a9b6-4542-aee3-2a4840029f4a\",\"type\":\"ResizeTool\"}]},\"id\":\"9cf52c17-e47c-4e7a-b0e3-27d0abf5ee3e\",\"type\":\"Toolbar\"},{\"attributes\":{\"level\":\"glyph\",\"plot\":{\"id\":\"131e3f8b-b590-483d-8932-ff5270dba88b\",\"subtype\":\"Figure\",\"type\":\"Plot\"},\"source\":{\"id\":\"7925aedd-bfff-49cf-a0e3-b3bcb2f358cb\",\"type\":\"ColumnDataSource\"},\"text\":{\"field\":\"word\"},\"text_alpha\":{\"value\":0.6},\"text_color\":{\"value\":\"#111111\"},\"text_font_size\":{\"value\":\"8pt\"},\"x\":{\"field\":\"x\"},\"x_offset\":{\"value\":5},\"y\":{\"field\":\"y\"},\"y_offset\":{\"value\":5}},\"id\":\"b486105b-707e-4cf3-b03c-d60f9f7678c6\",\"type\":\"LabelSet\"},{\"attributes\":{\"callback\":null,\"column_names\":[\"x\",\"y\",\"word\"],\"data\":{\"word\":[\"./Punctuation\",\"\\uc601\\ud654/Noun\",\"\\ud558\\ub2e4/Verb\",\"\\uc774/Josa\",\"\\ubcf4\\ub2e4/Verb\",\"\\uc758/Josa\",\"../Punctuation\",\"\\uc5d0/Josa\",\"\\uac00/Josa\",\"\\uc744/Josa\",\"\\ub3c4/Josa\",\".../Punctuation\",\"\\uc740/Josa\",\"\\ub4e4/Suffix\",\",/Punctuation\",\"\\ub294/Josa\",\"\\uc5c6\\ub2e4/Adjective\",\"\\ub97c/Josa\",\"\\uc788\\ub2e4/Adjective\",\"\\uc88b\\ub2e4/Adjective\",\"\\ub108\\ubb34/Noun\",\"\\ub418\\ub2e4/Verb\",\"\\uc774/Determiner\",\"?/Punctuation\",\"\\uc7ac\\ubc0c\\ub2e4/Adjective\",\"\\uc815\\ub9d0/Noun\",\"\\u314b\\u314b/KoreanParticle\",\"\\ub2e4/Josa\",\"\\uac83/Noun\",\"\\uc774/Noun\",\"\\uc9c4\\uc9dc/Noun\",\"\\uac19\\ub2e4/Adjective\",\"\\ud55c/Josa\",\"!/Punctuation\",\"\\uc801/Suffix\",\"\\uc73c\\ub85c/Josa\",\"\\uc544\\ub2c8\\ub2e4/Adjective\",\"\\uc54a\\ub2e4/Verb\",\"\\ub85c/Josa\",\"\\uc810/Noun\",\"\\uc5f0\\uae30/Noun\",\"\\ub9cc/Josa\",\"\\ub098\\uc624\\ub2e4/Verb\",\"\\ub9cc\\ub4e4\\ub2e4/Verb\",\"\\uc774\\ub807\\ub2e4/Adjective\",\"\\uc5d0\\uc11c/Josa\",\"\\ud3c9\\uc810/Noun\",\"~/Punctuation\",\"\\uacfc/Josa\",\"\\ucd5c\\uace0/Noun\",\"\\uc774\\ub2e4/Verb\",\"1/Number\",\"\\uc65c/Noun\",\"\\uc0dd\\uac01/Noun\",\"\\uc2a4\\ud1a0\\ub9ac/Noun\",\"\\uc778/Josa\",\"..../Punctuation\",\"\\ub4dc\\ub77c\\ub9c8/Noun\",\"\\uc774\\ub2e4/Josa\",\"\\uac10\\ub3d9/Noun\",\"\\uc0ac\\ub78c/Noun\",\"\\ubcf4\\uace0/Noun\",\"\\ub9d0/Noun\",\"\\ub354/Noun\",\"\\uc544\\uae5d\\ub2e4/Adjective\",\"\\ub0b4/Noun\",\"\\ub2e4/Adverb\",\"\\ub54c/Noun\",\"\\ubc30\\uc6b0/Noun\",\"\\uace0/Josa\",\"\\uc548/Noun\",\"\\uac10\\ub3c5/Noun\",\"\\uc7ac\\ubbf8\\uc788\\ub2e4/Adjective\",\"\\uadf8\\ub0e5/Noun\",\"\\ud55c/Determiner\",\"\\uc640/Josa\",\"\\uac8c/Josa\",\"\\uac70/Noun\",\"\\ubb50/Noun\",\"\\ub0b4\\uc6a9/Noun\",\"\\ud558\\uace0/Josa\",\"\\ubd10/Noun\",\"\\uc7ac\\ubbf8/Noun\",\"\\uc548/VerbPrefix\",\"\\uc2dc\\uac04/Noun\",\"\\uc544/Exclamation\",\"\\uadf8/Noun\",\"!!/Punctuation\",\"\\ub4e4\\ub2e4/Verb\",\"\\uc7ac\\ubbf8\\uc5c6\\ub2e4/Adjective\",\"\\uc790\\ub2e4/Verb\",\"\\uac00\\ub2e4/Verb\",\"\\uc880/Noun\",\"\\uadf8\\ub807\\ub2e4/Adjective\",\"10/Number\",\"\\ubabb/VerbPrefix\",\"\\uc9c0\\ub8e8\\ud558\\ub2e4/Adjective\",\"\\uc4f0\\ub808\\uae30/Noun\",\"\\uae4c\\uc9c0/Josa\",\"\\uc8fc\\ub2e4/Verb\",\"\\ub098/Noun\",\"2/Number\",\"\\uc218/Noun\",\"\\uc2f6\\ub2e4/Verb\",\"\\uc0ac\\ub791/Noun\",\"\\uc54c\\ub2e4/Verb\",\"\\uc791\\ud488/Noun\",\"\\ud558\\ub098/Noun\",\"\\ub2e4\\uc2dc/Noun\",\"\\u3160\\u3160/KoreanParticle\",\"\\ub098/Josa\",\"\\ubcf4\\ub2e4/Josa\",\"\\ub77c/Josa\",\"\\ub9c8\\uc9c0\\ub9c9/Noun\",\"\\uc694/Josa\",\"\\ubcfc/Noun\",\"\\uc9c0/Josa\",\"\\u314b/KoreanParticle\",\"\\uc774\\ub2e4/Adjective\",\"3/Number\",\"\\uc774\\ub807\\uac8c/Adverb\",\"\\ubaa8\\ub974\\ub2e4/Verb\",\"\\ucc98\\uc74c/Noun\",\"\\uc815\\ub3c4/Noun\",\"\\uc644\\uc804/Noun\",\"\\ub9ce\\ub2e4/Adjective\",\"\\ub098\\ub2e4/Verb\",\"\\uc7a5\\uba74/Noun\",\"\\ucc28\\ub2e4/Verb\",\"\\uc561\\uc158/Noun\",\"\\uc778\\ub370/Josa\",\"\\uc9c0\\uae08/Noun\",\"\\ubcf4\\uc774\\ub2e4/Verb\",\"\\ucd5c\\uc545/Noun\",\"'/Punctuation\",\"\\uc774\\uc57c\\uae30/Noun\",\"\\ubcc4\\ub85c/Noun\",\"\\uc911/Suffix\",\"\\ub3c8/Noun\",\"\\uc784/Noun\",\"\\uc5f0\\ucd9c/Noun\",\"\\ub09c/Noun\",\"\\ub05d/Noun\",\"\\ub290\\ub08c/Noun\",\"\\uc88b\\uc544\\ud558\\ub2e4/Adjective\",\"\\ubc1b\\ub2e4/Verb\",\"\\uc4f0\\ub2e4/Verb\",\"\\ub118\\ub2e4/Verb\",\"\\ub4ef/Noun\",\"\\uac78/Noun\",\"\\uac1c/Noun\",\"\\uba85\\uc791/Noun\",\"\\u314e\\u314e/KoreanParticle\",\"\\uc5ed\\uc2dc/Noun\",\"\\uadf8\\ub9ac\\uace0/Conjunction\",\"\\ub144/Noun\",\"\\uc8fc\\uc778\\uacf5/Noun\",\"\\ud568/Noun\",\"\\uc11c/Josa\",\"\\uc774\\ud574/Noun\",\"\\ub0a8\\ub2e4/Verb\",\"^^/Punctuation\",\"\\u3161\\u3161/KoreanParticle\",\"\\ub9ce\\uc774/Adverb\",\"\\uba39\\ub2e4/Verb\",\"\\uad1c\\ucc2e\\ub2e4/Adjective\",\"\\uc5b4\\ub5bb\\ub2e4/Adjective\",\"!!!/Punctuation\",\"\\uc774\\uc601\\ud654/Noun\",\"\\ubc84\\ub9ac\\ub2e4/Verb\",\"\\uadf8/Determiner\",\"\\ub77c\\uace0/Josa\",\"\\ub290\\ub07c\\ub2e4/Verb\",\"\\ub610/Noun\",\"\\uc5ec\\uc790/Noun\",\"\\ub54c\\ubb38/Noun\",\"\\uc798/VerbPrefix\",\"\\ubd84/Noun\",\"\\uc544\\ub984\\ub2f5\\ub2e4/Adjective\",\"\\ubabb/Noun\",\"\\uc911/Noun\",\"\\uae30\\uc5b5/Noun\",\"\\ub0b4/Determiner\",\"\\uc57c/Josa\",\"\\uc774\\uace0/Josa\",\"\\uc5d0\\uac8c/Josa\",\"\\ubcf4\\uae30/Noun\",\"\\uc640/Noun\",\"\\ud3b8/Noun\",\"\\ubd80\\ud130/Josa\",\"\\ubb34\\uc2a8/Noun\",\"\\uc774\\ub098/Josa\",\"\\uc5d4/Josa\",\"\\uc778\\uc0dd/Noun\",\"\\uacb0\\ub9d0/Noun\",\"\\ub9c8\\uc74c/Noun\",\"\\uaf2d/Noun\",\"\\ub791/Josa\",\"\\ud604\\uc2e4/Noun\",\"\\uc560/Noun\",\"\\uc720\\uce58/Noun\",\"\\uc9dc\\uc99d/Noun\",\"\\ubed4\\ud558\\ub2e4/Adjective\",\"\\uc18c\\uc7ac/Noun\",\"\\uc544\\uc27d\\ub2e4/Adjective\",\"\\uc218\\uc900/Noun\",\"\\ub9de\\ub2e4/Verb\",\"\\u3160/KoreanParticle\",\"\\ud558\\uc9c0\\ub9cc/Conjunction\",\"\\ubc18\\uc804/Noun\",\"~~/Punctuation\",\"\\uc5b4\\ub9ac\\ub2e4/Verb\",\"\\ubb34\\uc12d\\ub2e4/Adjective\",\"\\ud5c8\\ub2e4/Verb\",\"\\uc5c6\\uc774/Adverb\",\"\\uba74/Josa\",\"\\uc7ac\\ub2e4/Verb\",\"\\ub0d0/Josa\",\"\\ub124/Josa\",\"\\ub2d8/Suffix\",\"\\ud55c\\ubc88/Noun\",\"\\ub208\\ubb3c/Noun\",\"\\uc778\\uc9c0/Josa\",\";;/Punctuation\",\"\\ub044\\ub2e4/Verb\",\"\\uc6c3\\uae30\\ub2e4/Verb\",\"\\ub9e4\\ub825/Noun\",\"\\uc804\\uac1c/Noun\",\"\\ub05d\\ub098\\ub2e4/Verb\",\"??/Punctuation\",\"\\uc544/Josa\",\"\\ud55c\\uad6d/Noun\",\"\\uac00\\uc7a5/Noun\",\"\\ub0a8\\uc790/Noun\",\"\\uc77c\\ubcf8/Noun\",\"\\uc131/Suffix\",\"\\uac00\\uc2b4/Noun\",\"\\ub0ae\\ub2e4/Adjective\",\"\\uc2ac\\ud504\\ub2e4/Adjective\",\"\\uc54c/Noun\",\"\\ub530\\ub2e4/Verb\",\"\\ub77c\\ub294/Josa\",\"\\uc804/Noun\",\"\\uc9c0\\ub2e4/Verb\",\"\\uc774/Suffix\",\"\\ub192\\ub2e4/Adjective\",\"\\uc8fd\\ub2e4/Verb\",\"\\uc800/Noun\",\"\\uc6d0\\uc791/Noun\",\"\\ub2e4\\ub978/Noun\",\"\\uba4b\\uc9c0\\ub2e4/Adjective\",\"\\uc544\\uc774/Noun\",\"\\ub9d0\\ub2e4/Verb\",\"\\ud06c\\ub2e4/Verb\",\"\\uc9f1/Noun\",\"\\uc9dc\\ub2e4/Verb\",\"\\uae30\\ub300/Noun\",\"\\uc74c\\uc545/Noun\",\"\\uc624\\ub2e4/Verb\",\"\\ub418\\uc5b4\\ub2e4/Verb\",\"\\ud574\\uc8fc\\ub2e4/Verb\",\"\\ubcc4/Noun\",\"\\uc778\\uac04/Noun\",\"\\uc778\\uac00/Josa\",\"\\uc798\\ud558\\ub2e4/Verb\",\"\\uc904/Noun\",\"\\ub0b4\\ub2e4/Verb\",\"\\uc6b0\\ub9ac/Noun\",\"\\uc57c\\ud558\\ub2e4/Adjective\",\"\\uc194\\uc9c1\\ud558\\ub2e4/Adjective\",\"\\ucd94\\ucc9c/Noun\",\"\\uc18d/Noun\",\"\\uc800/Determiner\",\"\\uc2e4\\ub9dd/Noun\",\"4/Number\",\"5/Number\",\"\\ubaa8\\ub4e0/Noun\",\"\\uac8c/Noun\",\"\\uc790\\uccb4/Noun\",\"\\uc528/Suffix\",\"\\uc601\\uc0c1/Noun\",\"\\uc694/Noun\",\"\\ud654/Suffix\",\"\\ube60\\uc9c0\\ub2e4/Verb\",\"\\ub124/Suffix\",\"\\ub3c4/Noun\",\"\\uce58\\ub2e4/Verb\",\"\\ub300\\ubc15/Noun\",\"\\ud574/Josa\",\"\\ucc0d\\ub2e4/Verb\",\"\\uc77c/Noun\",\"\\ub300\\ud55c/Noun\",\"\\ub208/Noun\",\"\\ubc88/Noun\",\"\\ucf54\\ubbf8\\ub514/Noun\",\"\\uce90\\ub9ad\\ud130/Noun\",\"\\ubcf4\\uc9c0/Noun\",\"\\uc774\\ub124/Josa\",\"\\ubaa8\\ub450/Noun\",\"\\ud574\\uc11c/Josa\",\"\\uc9c0\\ub9cc/Josa\",\"\\uadf8\\ub798\\ub3c4/Adverb\",\"\\ub3fc\\ub2e4/Verb\",\"\\ubb54\\uac00/Noun\",\"\\uc5f0\\uae30\\ub825/Noun\",\"\\uc774\\uc0c1/Noun\",\"\\uc774\\uc058\\ub2e4/Adjective\",\"\\uc544\\uc9c1/Noun\",\"\\ubaa8\\uc2b5/Noun\",\"\\uc5ec\\uc6b4/Noun\",\"\\uc804\\ud600/Noun\",\"\\ubbf8\\uce58\\ub2e4/Adjective\",\"\\uc6c0/Noun\",\"\\uadc0\\uc5fd\\ub2e4/Adjective\",\"\\uac1c\\ubd09/Noun\",\"\\uad7f/Noun\",\"\\uadfc\\ub370/Adverb\",\"\\uacf5\\uac10/Noun\",\"\\uc911\\uac04/Noun\",\"\\uae30\\ub300\\ud558\\ub2e4/Adjective\",\"\\ud45c\\ud604/Noun\",\"\\uc2dc\\ub9ac\\uc988/Noun\",\"\\u315c\\u315c/KoreanParticle\",\"\\uc2dc\\ud0a4\\ub2e4/Verb\",\"\\uacc4\\uc18d/Noun\",\"\\uc900/Noun\",\"\\uc5d0\\ub294/Josa\",\"\\uc544\\uc8fc/Noun\",\"-/Punctuation\",\"\\uc774\\uc81c/Noun\",\"\\uc0b4\\ub2e4/Verb\",\"(/Punctuation\",\"\\ub298\\ub2e4/Verb\",\"\\ubd80\\ubd84/Noun\",\"\\uc704/Noun\",\"\\uae30/Noun\",\"\\uac10/Noun\",\";/Punctuation\",\")/Punctuation\",\"7/Number\",\"\\uc774\\ub791/Josa\",\"\\uc81c\\ubaa9/Noun\",\"\\ud798\\ub4e4\\ub2e4/Adjective\",\"\\uac00\\uc871/Noun\",\"OO/Alpha\",\"\\uc9c4\\uc2ec/Noun\",\"\\u314e/KoreanParticle\",\"\\uc774\\ub77c/Josa\",\"\\ub0b4\\ub0b4/Noun\",\"\\uae30\\ubd84/Noun\",\"0/Number\",\"\\ub300\\ub2e8\\ud558\\ub2e4/Adjective\",\"\\uc6a9/Noun\",\"\\uac74\\uc9c0\\ub2e4/Verb\",\"\\ubbff\\ub2e4/Verb\",\"\\ubc16\\uc5d0/Josa\",\"\\ucc98\\ub7fc/Josa\",\"\\ub450/Determiner\",\"\\\"\\\"\\\"\\\"/Punctuation\",\"\\ubab0\\uc785/Noun\",\"\\ub300\\uc0ac/Noun\",\"\\uc5b5\\uc9c0/Noun\",\",,/Punctuation\",\"\\ub300\\ub2e4/Verb\",\"\\ud6c4/Noun\",\"\\uae09/Noun\",\"\\uc5ec\\uc8fc/Noun\",\"\\uc791\\uac00/Noun\",\"\\uc81c/Noun\",\"\\uc774\\ub77c\\ub294/Josa\",\"\\uc695/Noun\",\"\\uc5b4\\uc774/Noun\",\"\\uacf5\\ud3ec/Noun\",\"\\ub5a8\\uc5b4\\uc9c0\\ub2e4/Verb\",\"\\uc2a4\\ub7fd\\ub2e4/Adjective\",\"8/Number\",\"\\uc694\\uc998/Noun\",\"\\uc810\\ub3c4/Noun\",\"\\uc6c3\\ub2e4/Verb\",\"\\uc6b8\\ub2e4/Verb\",\"\\uae34\\uc7a5\\uac10/Noun\",\"\\ube44/Noun\",\"\\uc0b4/Noun\",\"\\uc870\\uae08/Noun\",\"\\uc560\\ub2c8/Noun\",\"\\uc2a4\\ub9b4\\ub7ec/Noun\",\"\\uc794\\uc794/Noun\",\"\\uac1c\\uc778/Noun\",\"\\ubb34\\uc5c7/Noun\",\"\\uadf9\\uc7a5/Noun\",\"\\uc2dc\\uc791/Noun\",\"\\ud2b9\\ud788/Adverb\",\"\\uc7bc/Noun\",\"\\ub370/Noun\",\"\\ud55c\\ud14c/Josa\",\"\\uc0b6/Noun\",\"\\ub178\\ub798/Noun\",\"\\uc774\\uc720/Noun\",\"\\uc774\\uc0c1\\ud558\\ub2e4/Adjective\",\"\\u3161/KoreanParticle\",\"\\uc54c\\ubc14/Noun\",\"\\uae4a\\ub2e4/Adjective\",\"\\ub098\\ub984/Noun\",\"\\uc758/Noun\",\"\\uc81c\\uc77c/Noun\",\"\\uc81c\\ub300\\ub85c/Noun\",\"\\ubfd0/Noun\",\"\\uc608\\uc058\\ub2e4/Adjective\",\"\\ubb3c/Noun\",\"\\ub2f9\\uc2dc/Noun\",\"\\ub188/Noun\",\"\\ucc28\\ub77c\\ub9ac/Noun\",\"\\uc810\\uc218/Noun\",\"\\uc5d0\\ub3c4/Josa\",\"...../Punctuation\",\"\\uc4f8\\ub2e4/Verb\",\"\\ub0a8/Noun\",\"\\ubcf4/Noun\",\"\\ub290\\uaef4\\uc9c0\\ub2e4/Verb\",\"\\ub178\\uc7bc/Noun\",\"\\uc624\\ub79c\\ub9cc/Noun\",\"\\uce5c\\uad6c/Noun\",\"\\ub9c9\\uc7a5/Noun\",\"\\uc811/Noun\",\"\\ub530\\ub73b\\ud558\\ub2e4/Adjective\",\"\\ube7c\\ub2e4/Verb\",\"\\uc758\\ubbf8/Noun\",\"\\uac74/Noun\",\"\\uc601\\ud654\\ub85c/Noun\",\"\\uc138\\uc0c1/Noun\",\"\\uc5b4/Noun\",\"\\\"\\\"\\\"/Punctuation\",\"\\ub825/Suffix\",\"\\uac19\\uc774/Josa\",\"\\uc808\\ub300/Noun\",\"\\ud6cc\\ub96d\\ud558\\ub2e4/Adjective\",\"\\uacf5\\ud3ec\\uc601\\ud654/Noun\",\"\\uc774\\ub77c\\uace0/Josa\",\"\\uc787\\ub2e4/Verb\",\"\\uc2dc\\ub300/Noun\",\"\\ub108\\ubb34\\ub098/Noun\",\"\\ub2e4\\ub974\\ub2e4/Adjective\",\"\\ub958/Noun\",\"\\ub144\\ub300/Noun\",\"\\ucc3e\\ub2e4/Verb\",\"\\ubbf8\\uad6d/Noun\",\"\\u2665/Foreign\",\"\\uc6c3\\uc74c/Noun\",\"9/Number\",\"\\ub300/Suffix\",\"\\ubb58/Noun\",\"\\ub3c4\\ub300\\uccb4/Noun\",\"\\uc0dd\\uac01\\ub098\\ub2e4/Verb\",\"\\uc6b0\\ub9ac\\ub098\\ub77c/Noun\",\"\\uc55e/Noun\",\"\\uae30\\ub2e4/Verb\",\"\\uadf8\\ub9ac\\ub2e4/Verb\",\"\\uc124\\uc815/Noun\",\"\\uc774\\ub780/Josa\",\"6/Number\",\"\\uac4d/Adverb\",\"\\uc218\\uc791/Noun\",\"\\uba85/Noun\",\"\\ucd08\\ubc18/Noun\",\"\\uadf8\\uc800/Adverb\",\"\\ub9dd/Noun\",\"\\uc5c4\\uccad/Adverb\",\"\\ucd9c\\uc5f0/Noun\",\"\\ub531/Adverb\",\"\\uc8fd\\uc774\\ub2e4/Verb\",\"\\ud574\\ubcf4\\ub2e4/Verb\",\"\\uc0ac\\uc2e4/Noun\",\"\\ubc09\\ub2e4/Adjective\",\"\\uc2eb\\ub2e4/Adjective\",\"\\ub9c8\\ub974\\ub2e4/Adjective\",\"\\uc544\\ud504\\ub2e4/Adjective\",\"\\uc774\\uc57c/Josa\",\"\\uc2dc\\ub098\\ub9ac\\uc624/Noun\",\"\\ud544\\uc694\\uc5c6\\ub2e4/Adjective\",\"\\uc7a5\\ub09c/Noun\",\"\\uc18c\\ub984/Noun\",\"\\uc5b4\\uca4c\\ub2e4/Verb\",\"\\uc18c\\ub9ac/Noun\",\"\\ud55c\\uad6d\\uc601/Noun\",\"\\uad00\\uac1d/Noun\",\"\\uc2e0\\uc120\\ud558\\ub2e4/Adjective\",\"\\uc11c\\ub2e4/Verb\",\"\\ub2f5\\ub2f5\\ud558\\ub2e4/Adjective\",\"OOO/Alpha\",\"\\ubd84\\uc704\\uae30/Noun\",\"\\ubd04/Noun\",\"\\ucd94\\uc5b5/Noun\",\"\\uac15\\ucd94/Noun\",\"\\ub354\\ub7fd\\ub2e4/Adjective\",\"\\uba4b\\uc788\\ub2e4/Adjective\",\"\\ubb38\\uc81c/Noun\",\"\\ub098\\uc058\\ub2e4/Adjective\",\"\\uac00\\uc9c0/Noun\",\"\\ubb54/NounPrefix\",\"\\ubab0\\ub974\\ub2e4/Verb\",\"\\ucd5c\\uace0\\ub2e4/Noun\",\"\\ub098\\uac00\\ub2e4/Verb\",\"\\uc878\\uc791/Noun\",\"\\uc9c0\\ub8e8\\ud568/Noun\",\"\\uacb0\\uad6d/Adverb\",\"\\ub2c8/Josa\",\"\\ub9c8\\ub2e4/Josa\",\"\\uc815\\uc2e0/Noun\",\"\\uc790\\uc2e0/Noun\",\"\\uc778\\uc0c1/Noun\",\"\\uc81c\\ubc1c/Noun\",\"\\ud32c/Noun\",\"\\ub193\\ub2e4/Verb\",\"\\uac10\\uc815/Noun\",\"20/Number\",\"\\ubd80\\uc871\\ud558\\ub2e4/Adjective\",\"\\ubb34/Noun\",\"\\uc601\\ud654\\uad00/Noun\",\"\\uc5d0\\uc11c/Noun\",\"\\uc548\\ud0c0\\uae5d\\ub2e4/Adjective\",\"\\uc5c4\\ub9c8/Noun\",\"\\ub9cc/Suffix\",\"\\ub9cc/Noun\",\"\\uc704\\ud574/Noun\",\"\\ud574/Noun\",\"\\uc801\\ub2e4/Verb\",\"~~~/Punctuation\",\"\\uba38/Noun\",\"\\uc624\\ub298/Noun\",\"\\uc774\\uc9c0\\ub9cc/Josa\",\"\\uc8fc\\uc5f0/Noun\",\"\\ub354\\ube59/Noun\",\"\\uc78a\\ub2e4/Verb\",\"\\uc544\\ubb34\\ub9ac/Adverb\",\"\\ub77c\\uba74/Noun\",\"\\ud6c4\\ud68c/Noun\",\"\\ub2c8\\uae4c/Josa\",\"\\ud588\\uc9c0\\ub9cc/Josa\",\"\\uc5d4\\ub529/Noun\",\"\\ud3ec\\uc2a4\\ud130/Noun\",\"\\ud734/Exclamation\",\"\\uc9f1/Suffix\",\"\\ucf54\\ubbf9/Noun\",\"\\ud3c9\\uac00/Noun\",\"\\ub85c/Noun\",\"\\uc5c9/Exclamation\",\"\\uce90\\uc2a4\\ud305/Noun\",\"\\uc5b4\\uc0c9\\ud558\\ub2e4/Adjective\",\"\\uadf8\\ub807\\uac8c/Adverb\",\"\\uc790/Suffix\",\"\\ub4e0/Josa\",\"\\ubc30\\uc6b0\\ub2e4/Verb\",\"\\uc9c4\\ubd80/Noun\",\"\\uc5bc\\ub9c8\\ub098/Noun\",\"\\uc560\\ub2c8\\uba54\\uc774\\uc158/Noun\",\"\\ub4a4/Noun\",\"\\ud0ac\\ub9c1\\ud0c0\\uc784/Noun\",\"\\uc9c4\\uc815/Noun\",\"\\ub4f1/Noun\",\"!!!!/Punctuation\",\"\\uad6c\\uc131/Noun\",\"\\ucc0c\\ub2e4/Verb\",\"\\ub4e4\\uc774\\ub2e4/Verb\",\"\\uc0b4\\ub9ac\\ub2e4/Verb\",\"\\ubc30\\uacbd/Noun\",\"\\uac1c\\uc5f0/Noun\",\"\\ub0a0/Noun\",\"\\ub97c/Noun\",\"\\uc74c/Noun\",\"\\uc2a4\\ub9b4/Noun\",\"\\ud2f0\\ube44/Noun\",\"\\ucda9\\uaca9/Noun\",\"\\uac08\\uc218\\ub85d/Noun\",\"\\uc598\\uae30/Noun\",\"\\u3149\\u3149/KoreanParticle\",\"\\ubfd0/Suffix\",\"\\uc804\\uc7c1/Noun\",\"\\ub9cc\\ud654/Noun\",\"\\uc5ec/Josa\",\"\\ubab0\\uc785\\ub3c4/Noun\",\"\\uc61b\\ub0a0/Noun\",\"\\uc774\\ub984/Noun\",\"\\uc644\\ubcbd\\ud558\\ub2e4/Adjective\",\"\\ub2ec\\ub2e4/Verb\",\"\\uc5ec\\uae30/Noun\",\"\\uc5bc\\uad74/Noun\",\"\\uc608\\uc220/Noun\",\"\\uba38\\ub9ac/Noun\",\"\\ubcf4\\ub2e8/Josa\",\"\\u315c/KoreanParticle\",\"\\ub180\\ub77c\\ub2e4/Verb\",\"\\ub9d8/Noun\",\"\\uc5b8\\uc81c/Noun\",\"\\uc6c3\\uae30/Noun\",\"\\ud568\\uaed8/Adverb\",\"\\ub450/Noun\",\"\\ud589\\ubcf5\\ud558\\ub2e4/Adjective\",\"\\ub2c8/Noun\",\"\\uc601\\ud654\\uc778/Noun\",\"\\ub0ad\\ube44/Noun\",\"\\uc81c\\uc791/Noun\",\"\\uc9c4/Noun\",\"\\uc7a5\\ub974/Noun\",\"\\ub108/Noun\",\"\\uc5b4\\uc6b8\\ub9ac\\ub2e4/Verb\",\"\\uc9c8/Noun\",\"\\uc790/Noun\",\"\\uc77d\\ub2e4/Verb\",\"\\uc5b4\\ub514/Noun\",\"\\ucc45/Noun\",\"\\uadf8\\ub798\\uc11c/Adverb\",\"\\uc774\\ud6c4/Noun\",\"\\uc9d1\\uc911/Noun\",\"\\ud6c4\\ubc18/Noun\",\"\\uc990\\uac81\\ub2e4/Adjective\",\"\\uadf8\\uac83/Noun\",\"\\ub2e4\\ud050/Noun\",\"\\ub9e4\\uc6b0/Noun\",\"\\uc9d1/Noun\",\"\\uc0c1\\ud669/Noun\",\"\\uc5ed\\uc0ac/Noun\",\"\\uc778\\uacf5/Noun\",\"\\ud310/Noun\",\"+/Punctuation\",\"\\ub458/Noun\",\"\\uaf64/Noun\",\",,,/Punctuation\",\"\\ub204\\uad6c/Noun\",\"\\uc791/Noun\",\"\\uc2dc\\uc98c/Noun\",\"\\uae09/Suffix\",\"\\ud130\\uc9c0\\ub2e4/Verb\",\"\\uc0c8\\ub86d\\ub2e4/Adjective\",\"???/Punctuation\",\"\\uc7a1\\ub2e4/Verb\",\"\\uc2dd/Suffix\",\"\\uc2ec\\ud558\\ub2e4/Adjective\",\"\\ucda9\\ubd84\\ud558\\ub2e4/Adjective\",\"\\uac74\\uac00/Noun\",\"\\ub2e4\\uc6b4/Noun\",\"\\uac78\\uc791/Noun\",\"\\uc601/Noun\",\"\\uc801/Noun\",\"\\uba40\\ub2e4/Adjective\",\"\\uc874\\ub098/Noun\",\"\\ubd80/Noun\",\"\\ub300\\uccb4/Noun\",\"\\uc774\\ub9ac/Adverb\",\"\\uc608\\uc804/Noun\",\"\\ubd84\\ub4e4/Suffix\",\"\\uba87/NounPrefix\",\"\\uc57d\\uac04/Noun\",\"\\ubcc4\\uc810/Noun\",\"\\ubd88\\uc30d\\ud558\\ub2e4/Adjective\",\"\\uac10\\uc0ac/Noun\",\"B/Alpha\",\"\\uc2e4\\ud654/Noun\",\"\\uad81\\uae08\\ud558\\ub2e4/Adjective\",\"\\uc2e0/Noun\",\"\\uc5b4\\ub290/Adverb\",\"\\uc52c/Noun\",\"\\ud55c\\ub9c8\\ub514/Noun\",\"\\uadf8\\ub098\\ub9c8/Adverb\",\"\\uc790\\uae30/Noun\",\"\\uc778\\ubb3c/Noun\",\"\\ud6e8\\uc52c/Adverb\",\"\\ubc29\\uc1a1/Noun\",\"\\uc0dd\\uae30\\ub2e4/Verb\",\"\\ub204\\uac00/Noun\",\"\\ub9cc\\uc810/Noun\",\"\\ube44\\uc2b7\\ud558\\ub2e4/Adjective\",\"\\ub728\\ub2e4/Verb\",\"\\uc2dc\\uc808/Noun\",\"\\ub0a8\\uae30\\ub2e4/Verb\",\"\\uc26c\\ub2e4/Verb\",\"~!/Punctuation\",\"\\ub4dc\\ub9ac\\ub2e4/Verb\",\"\\ub07c\\ub2e4/Verb\",\"\\uc5b4\\ub835\\ub2e4/Adjective\",\"\\ub124/Determiner\",\"\\uadf8\\ub300\\ub85c/Noun\",\"\\uc720\\ucf8c/Noun\",\"\\ube44\\uad50/Noun\",\"\\ud788/Adverb\",\"\\ub300\\ud574/Noun\",\"\\uc8fc\\uc81c/Noun\",\"\\ube44\\ub514\\uc624/Noun\",\"\\ucd08\\ub529/Noun\",\"\\ubc1c\\uc5f0\\uae30/Noun\",\"\\uadf9/NounPrefix\",\"\\uc0ac\\ud68c/Noun\",\"\\uc544\\ub4e4/Noun\",\"\\ub2f4\\ub2e4/Verb\",\"30/Number\",\"\\ud544\\uc694\\ud558\\ub2e4/Adjective\",\"\\uc778/Noun\",\"\\ub9cc\\ub098\\ub2e4/Verb\",\"\\ub85c\\ub9e8\\uc2a4/Noun\",\"\\uc21c\\uc218\\ud558\\ub2e4/Adjective\",\"\\ub124\\uc774\\ubc84/Noun\",\"\\uc0c1\\ub2f9\\ud558\\ub2e4/Adjective\",\"\\uc6d0/Noun\",\"\\uc804\\uccb4/Noun\",\"\\ud0c0\\ub2e4/Verb\",\"\\uac10\\uc131/Noun\",\"\\uc18c\\uc124/Noun\",\"\\ub2e4\\uc74c/Noun\",\"CG/Alpha\",\"\\uad49\\uc7a5\\ud558\\ub2e4/Adjective\",\"\\uafc8/Noun\",\"\\uac04\\ub9cc/Noun\",\"\\ub780/Noun\",\"\\ud63c\\uc790/Noun\",\"\\ub5a0\\ub098\\ub2e4/Verb\",\"\\uc2dc/Noun\",\"//Punctuation\",\"\\u3137\\u3137/KoreanParticle\",\"\\uae00/Noun\",\"\\uc740/Noun\",\"\\ub450\\ub2e4/Verb\",\"\\ud68c/Noun\",\"\\ucf54/Noun\",\"\\uc5ec\\ubc30\\uc6b0/Noun\",\"\\ub77c\\ub3c4/Josa\",\"\\ucd1d/Noun\",\"100/Number\",\"\\ud798/Noun\",\"\\ub098\\uc11c\\ub2e4/Verb\",\"\\ud3b8\\uc774/Noun\",\"\\ubc18/Noun\",\"\\ub098\\uc774/Noun\",\"\\ub3cc\\ub9ac\\ub2e4/Verb\",\"\\uad73\\ub2e4/Adjective\",\"\\ubc14\\ub85c/Noun\",\"\\uc2a4/Noun\",\"\\uc138/Noun\",\"\\ud574\\ub3c4/Noun\",\";;;/Punctuation\",\"\\uc774\\ub974\\ub2e4/Verb\",\"\\ub118\\uce58\\ub2e4/Verb\",\"\\uc131\\ub8e1/Noun\",\"\\uad6c/Noun\",\"\\ub2f9\\uc2e0/Noun\",\"\\ubcf4\\ub2e4\\ub294/Josa\",\"\\uc624\\ub798/Noun\",\"\\uc0bc\\ub958/Noun\",\"\\ub3cb\\ub2e4/Adjective\",\"\\ubaa9\\uc18c\\ub9ac/Noun\",\"\\ud654\\ub824\\ud558\\ub2e4/Adjective\",\"\\ube68\\ub9ac/Adverb\",\"\\uc0ac\\ub791\\uc2a4\\ub7fd\\ub2e4/Adjective\",\"\\uc5d0\\uc694/Josa\",\"\\uc9c0\\ub098\\ub2e4/Verb\",\"\\ub2f9\\ud558\\ub2e4/Adjective\",\"\\uc5c4\\uccad\\ub098\\ub2e4/Adjective\",\"\\uc774\\ub77c\\ub3c4/Josa\",\"\\uad50\\ud6c8/Noun\",\"\\uc8e0/Josa\",\"\\ud480\\ub2e4/Verb\",\"\\ub144\\ub3c4/Noun\",\"\\uc6b8/Noun\",\"\\ub9cc\\ud558/Noun\",\"\\uc21c\\uac04/Noun\",\"\\uc548\\ubcf4/Noun\",\"\\ub2f5/Noun\",\"\\uc5b4\\uc124\\ud508/Noun\",\"\\ub3d9\\uc548/Noun\",\"\\uc120/Noun\",\"\\uc874\\uc7ac/Noun\",\"\\uac70\\uc758/Noun\",\"\\ub144\\uc804/Noun\",\"\\uc62c\\ub9ac\\ub2e4/Verb\",\"\\uc5b4\\ub978/Noun\",\"\\uadf8\\ub9cc/Adverb\",\"\\uc804\\ubd80/Noun\",\"\\uae30\\ub3c4/Noun\",\"\\uac00\\ubccd\\ub2e4/Adjective\",\"\\uc9c8\\uc9c8/Noun\",\"\\uc624/Noun\",\"\\uba87\\ubc88/Noun\",\"90/Number\",\"\\uc2a4\\ub7ec\\uc6b4/Josa\",\"....../Punctuation\",\"\\ub77c\\ub2c8/Josa\",\"\\uae30\\ub2e4\\ub9ac\\ub2e4/Verb\",\"\\ub3c5\\ud2b9\\ud558\\ub2e4/Adjective\",\"\\uc7ac/Noun\",\"\\ub9d0\\uace0/Josa\",\"\\uc544\\ubc84\\uc9c0/Noun\",\"\\uc880\\ube44/Noun\",\"\\ucd08/Noun\",\"\\uc904\\uac70\\ub9ac/Noun\",\"\\uc2e4\\uc81c/Noun\",\"\\uc810\\uc8fc/Noun\",\"\\uac01\\ubcf8/Noun\",\"\\uc0c1/Suffix\",\"\\uc8fd/Noun\",\"\\ud310\\ud0c0\\uc9c0/Noun\",\"\\ub9de\\ucd94\\ub2e4/Verb\",\"\\uc131\\uc6b0/Noun\",\"\\ub9dd\\uce58\\ub2e4/Verb\",\"\\ud3c9\\ub860\\uac00/Noun\",\"\\uc131/Noun\",\"\\uc800\\ub7f0/Noun\",\"\\uc2dc\\uccad\\ub960/Noun\",\"\\uc794\\uc778/Noun\",\"\\uc5d0\\uc120/Josa\",\"\\ud765\\ubbf8\\ub86d\\ub2e4/Adjective\",\"\\uc0c1\\uc601/Noun\",\"\\ud3c9/Noun\",\"\\uc774\\uc9c0/Noun\",\"\\ucbe4/Suffix\",\"\\uadf8\\ub7ec\\ub098/Conjunction\",\"\\uae4c\\uc9c0/Noun\",\"\\uc774\\ubc88/Noun\",\"\\uc73c\\ub85c\\ub3c4/Josa\",\"\\uae30\\ub300\\ub2e4/Verb\",\"\\uce58\\uace0/Josa\",\"\\uac11\\uc790\\uae30/Noun\",\"\\uc138\\uacc4/Noun\",\"\\ud5c8\\ubb34/Noun\",\"\\uac00\\uce58/Noun\",\"\\ub538/Noun\",\"\\ubc14\\uafb8\\ub2e4/Verb\",\"\\uacf3/Noun\",\"\\uadf9\\uc7a5\\ud310/Noun\",\"\\ubc1c/Noun\",\"\\uc758\\ub3c4/Noun\",\"\\ub123\\ub2e4/Verb\",\"\\uc911\\uad6d/Noun\",\"TV/Alpha\",\"\\ud544\\uc694/Noun\",\"\\ubc14\\ub77c\\ub2e4/Verb\",\"\\uac04/Suffix\",\"\\uc694\\uc18c/Noun\",\"\\ubcf4\\ub0b4\\ub2e4/Verb\",\"\\uc774\\ud558/Noun\",\"\\uc774\\uae30\\ub2e4/Verb\",\"\\ub9db/Noun\",\"\\uc624\\uae00\\uac70\\ub9ac\\ub2e4/Adjective\",\"\\ud654\\uba74/Noun\",\"\\ud55c\\ud3b8/Noun\",\"\\uac04\\ub2e4/Noun\",\"\\uadf8\\ub140/Noun\",\"\\uae4c\\ub2e4/Verb\",\"\\ub798/Josa\",\"\\uac1c/Suffix\",\"\\uc628/Noun\",\"\\ub9cc\\ub4e4\\uc5b4\\uc9c0\\ub2e4/Verb\",\"\\uadf8\\ub54c/Noun\",\"\\ud56d\\uc0c1/Noun\",\"\\uc5d0\\uc11c\\ub3c4/Josa\",\"\\ubd88\\ub2e4/Verb\",\"\\ubcfc\\ub54c/Noun\",\"\\ub4e4\\uc5b4\\uac00\\ub2e4/Verb\",\"\\ub530\\uc704/Noun\",\"\\uc120\\ud0dd/Noun\",\"\\ub2e8\\uc21c\\ud558\\ub2e4/Adjective\",\"\\uc5ed/Noun\",\"\\uac70\\ub9ac/Noun\",\"\\ub55c/Noun\",\"\\ubcf5\\uc218/Noun\",\"\\ubc11/Noun\",\"\\ud765\\ud589/Noun\",\"\\uc798\\ubabb/Noun\",\"\\uc810\\uc900/Noun\",\"\\uace0/Noun\",\"\\ud0c4\\ud0c4/Noun\",\"\\ub9c9/Noun\",\"\\uc77c\\ub2e8/Noun\",\"\\uc2a4\\ud0c0\\uc77c/Noun\",\"\\uac70\\uae30/Noun\",\"\\uc774\\uc5d0\\uc694/Josa\",\"\\uac16\\ub2e4/Verb\",\"\\ub098\\ub77c/Noun\",\"\\uc5d0\\uc11c\\ub294/Josa\",\"\\ub4e3\\ub2e4/Verb\",\"\\uc5ec\\ub7ec/Noun\",\"\\uac00\\ubcf4\\ub2e4/Verb\",\"\\uac78\\ub9ac\\ub2e4/Verb\",\"\\uc7a5/Suffix\",\"\\uba5c\\ub85c/Noun\",\"\\ud53c/Noun\",\"\\ubd80\\ub974\\ub2e4/Verb\",\"\\uac78\\ub2e4/Verb\",\"\\ucca8/Adverb\",\"%/Punctuation\",\"\\uc778\\uac70/Josa\",\"\\uc5b4\\ub514\\uc11c/Adverb\",\"\\uba54\\ub2e4/Verb\",\"\\ucc38\\uace0/Noun\",\"\\uc810\\uc810/Noun\",\"\\ud655\\uc2e4\\ud558\\ub2e4/Adjective\",\"\\uc544\\ube60/Noun\",\"\\ub610\\ud55c/Noun\",\"\\uc0ac\\uac74/Noun\",\"\\ub625/Noun\",\"\\uc5ed\\ub300/Noun\",\"\\uc608\\uc0c1/Noun\",\"\\ub77c\\uc11c/Josa\",\"\\ub354\\uc6b1/Noun\",\"\\uc220/Noun\",\"\\uac08\\ub2e4/Verb\",\"\\uad00\\ub78c/Noun\",\"tv/Alpha\",\"\\ubd88\\ud3b8\\ud558\\ub2e4/Adjective\",\"\\uc190/Noun\",\"\\uc990\\uae30\\ub2e4/Verb\",\"\\uc5ec/Noun\",\"\\ubb3c\\ub860/Noun\",\"\\uc783\\ub2e4/Verb\",\"\\ub0ab\\ub2e4/Noun\",\"\\uc644\\uc131/Noun\",\"\\uac1c\\uadf8/Noun\",\"80/Number\",\"\\uc9c4\\ud589/Noun\",\"\\ubed4/Noun\",\"\\ub611\\uac19\\ub2e4/Adjective\",\"\\ub9ac/Noun\",\"\\ub3cb\\ubcf4\\uc774\\ub2e4/Verb\",\":/Punctuation\",\"\\uc9e7\\ub2e4/Adjective\",\"\\ud3b8\\uc9d1/Noun\",\"\\ubcd1\\ub9db/Noun\",\"\\uba87/Noun\",\"\\uc5d0\\uac90/Josa\",\"\\ud3c9\\ubc94\\ud558\\ub2e4/Adjective\",\"\\ub9cc\\uc5d0/Josa\",\"\\ub54c\\ub9ac\\ub2e4/Verb\",\"\\ud654\\uc774\\ud305/Noun\",\"\\uc5c9\\ub9dd/Noun\",\"\\ub313\\uae00/Noun\",\"\\uc911\\uc694\\ud558\\ub2e4/Adjective\",\"\\uc804\\ud615/Noun\",\"\\uadc0\\uc2e0/Noun\",\"\\uad00/Noun\",\"\\uc9c0\\uacb9\\ub2e4/Adjective\",\"\\ub6f0\\uc5b4\\ub098\\ub2e4/Adjective\",\"\\uc218\\uac00/Noun\",\"\\ud504\\ub791\\uc2a4/Noun\",\"\\uc5ec\\uc900/Noun\",\"\\ucc3e\\uc544\\ubcf4\\ub2e4/Verb\",\"\\uc2f8\\uc6b0\\ub2e4/Verb\",\"\\ubcf8\\uc601/Noun\",\"\\ubc97\\ub2e4/Verb\",\"\\uafc0\\uc7bc/Noun\",\"\\ubbf8\\ud654/Noun\",\"\\ubc14/Noun\",\"\\uc911\\ubc18/Noun\",\"\\uc801\\ub2f9\\ud558\\ub2e4/Adjective\",\"\\uc77c\\uc774/Noun\",\"\\uadf8\\uac8c/Noun\",\"\\ubd23/Noun\",\"\\uc6d0\\ub798/Noun\",\"\\ud587/Noun\",\"\\uc790\\uadf9/Noun\",\"~!!/Punctuation\",\"\\uc5f4/Noun\",\"\\uc774\\ub77c\\ub2c8/Josa\",\"\\uac00\\uc9c0\\ub2e4/Verb\",\"\\uac10\\uc0c1/Noun\",\"\\ubab8/Noun\",\"\\uccab/Noun\",\"\\uadf8\\ub798\\ud53d/Noun\",\"\\uc8fd\\uc74c/Noun\",\"\\uc2dd\\uc0c1\\ud558\\ub2e4/Adjective\",\"\\ud0c0\\uc784/Noun\",\"\\ud669\\ub2f9/Noun\",\"\\uacfc/Noun\",\"-_-/Punctuation\",\"\\uc0c8\\ub07c/Noun\",\"\\uc529/Suffix\",\"\\ub300\\ub85c/Josa\",\"good/Alpha\",\"\\ud559\\uad50/Noun\",\"\\ucde8\\ud5a5/Noun\",\"\\ubd88\\ub95c/Noun\",\"\\ud765\\ubbf8/Noun\",\"\\ud574\\ub3c4/Josa\",\"\\ub178\\ub825/Noun\",\"\\uc561\\uc158\\uc601\\ud654/Noun\",\"\\ucc99/Noun\",\"\\uc5f0\\uae30\\uc790/Noun\",\"\\ud6c8\\ud6c8\\ud558\\ub2e4/Adjective\",\"\\uc608\\uace0\\ud3b8/Noun\",\"\\uc7a0/Noun\",\"\\ucc9c\\uc7ac/Noun\",\"\\ub300\\uc791/Noun\",\"\\uc798\\ub9cc/Noun\",\"\\uacfc\\uac70/Noun\",\"\\uc790\\uafb8/Noun\",\"\\ub09c/Josa\",\"\\ube44\\ucd94\\ub2e4/Verb\",\"\\uac1c\\ub2e4/Verb\",\"\\ud765\\ubbf8\\uc9c4\\uc9c4/Noun\",\"\\ub9c8\\ubb34\\ub9ac/Noun\",\"\\uc0c1\\uc0c1/Noun\",\"\\uc18d\\ud3b8/Noun\",\"\\uc124\\uba85/Noun\",\"\\ubc14\\ubcf4/Noun\",\"\\ub2e4\\ub8e8\\ub2e4/Verb\",\"\\uc5ec\\uc11c/Josa\",\"\\ucc38\\uc2e0/Noun\",\"\\uac8c\\uc784/Noun\",\"\\ubb34\\uc870\\uac74/Noun\",\"\\ubc30/Noun\",\"\\ub0ab\\ub2e4/Verb\",\"\\ubb34\\uac83/Noun\",\"\\uc0b0/Noun\",\"\\ub300\\ud55c\\ubbfc\\uad6d/Noun\",\"\\uad1c\\ud788/Adverb\",\"\\uc18c\\uc911\\ud558\\ub2e4/Adjective\",\"\\ub3c4\\uc800\\ud788/Noun\",\"\\uc5ed\\uacb9\\ub2e4/Adjective\",\"\\ub9cc\\uc73c\\ub85c\\ub3c4/Josa\",\"\\uacb0\\ud63c/Noun\",\"\\uc624\\ud788\\ub824/Noun\",\"\\uc804\\ub2ec/Noun\",\"\\uc2ec\\ub9ac/Noun\",\"\\ub2e4\\ub2c8\\ub2e4/Verb\",\"\\ub450/Josa\",\"\\uac15\\ud558\\ub2e4/Adjective\",\"\\uc544\\uc800\\uc528/Noun\",\"\\uc2a4\\ud0c0/Noun\",\"\\uadf8\\ub9bc/Noun\",\"\\ud55c\\uc2ec\\ud558\\ub2e4/Adjective\",\"\\ub2ff\\ub2e4/Verb\",\"\\ubc95/Noun\",\"\\ud2f0/Noun\",\"\\ub2e8/Noun\",\"\\uc804\\ud3b8/Noun\",\"ost/Alpha\",\"\\ud754\\ud558\\ub2e4/Adjective\",\"\\uc62c/NounPrefix\",\"\\uc791\\ub2e4/Adjective\",\"\\ub550/Noun\",\"\\uba74/Noun\",\"\\u2661/Foreign\",\"\\uc5b5\\uc9c0\\ub85c/Noun\",\"\\uc9c0\\ub8e8/Noun\",\"\\uc6b0\\uc5f0\\ud788/Adverb\",\"\\uae38\\ub2e4/Adjective\",\"\\ucc28/Noun\",\"\\uc870\\uc5f0/Noun\",\"\\uae38/Noun\",\"\\ubbf8\\uc548\\ud558\\ub2e4/Adjective\",\"\\ub9dd\\uc791/Noun\",\"\\ubb50\\ub77c\\ub2e4/Verb\",\"\\ud45c\\uc815/Noun\",\"\\ud0a4/Noun\",\"\\uae30\\uc5b5\\ub098\\ub2e4/Verb\",\"\\ud658\\uc0c1/Noun\",\"SF/Alpha\",\"\\ud654\\uac00/Noun\",\"\\uc554/Noun\",\"\\uac70\\uc9c0/Noun\",\"\\uba54\\uc138\\uc9c0/Noun\",\"\\ucd5c\\uadfc/Noun\",\"\\uc2e0\\ub2e4/Verb\",\"\\uc720\\uba38/Noun\",\"\\uc90c/Noun\",\"\\uc78a\\ud600\\uc9c0\\ub2e4/Verb\",\"\\ucd2c\\uc601/Noun\",\"\\ud130/Noun\",\"\\ub3cc\\uc544\\uac00\\ub2e4/Verb\",\"\\uc804\\uc124/Noun\",\"\\ud758\\ub9ac\\ub2e4/Verb\",\"\\uad00\\uacc4/Noun\",\"\\ub178\\ucd9c/Noun\",\"\\ub3d9\\ud654/Noun\",\"\\uc9c4\\uc9c0\\ud558\\ub2e4/Adjective\",\"\\ubaa8/Noun\",\"\\uc9d0/Noun\",\"\\uc2dd/Noun\",\"\\ub9c8/Noun\",\"\\ud604\\uc7ac/Noun\",\"\\uacbd\\ucc30/Noun\",\"\\uadf8\\ub2e5/Noun\",\"\\uc608\\uc694/Josa\",\"\\uc5ec\\uc804\\ud558\\ub2e4/Adjective\",\"\\uc601\\uc6c5/Noun\",\"\\uba3c\\uc800/Noun\",\"\\uc8fc\\uc758/Noun\",\"\\ud589\\ub3d9/Noun\",\"\\ubb34\\ube44/Noun\",\"\\uc804\\uc791/Noun\",\"\\ubc14\\ub78c/Noun\",\"\\uca54\\ub2e4/Verb\",\"\\uc0ac\\ub2e4/Verb\",\"\\ud2c0\\ub2e4/Verb\",\"\\ub9cc\\uc758/Josa\",\"\\uc18c\\ub140/Noun\",\"\\ud504\\ub85c\\uadf8\\ub7a8/Noun\",\"\\ub098\\ub974\\ub2e4/Verb\",\"\\ubb18\\uc0ac/Noun\",\"\\uadf9/Suffix\",\"\\ud760/Noun\",\"\\ubcf4\\uc774/Noun\",\"\\ub9cc\\uc871/Noun\",\"\\ub531/VerbPrefix\",\"\\ucd94\\ub2e4/Verb\",\"\\uc2e4\\ud328/Noun\",\"\\uc815/Noun\",\"\\uc11c\\ub85c/Noun\",\"\\uc798\\uc0dd\\uae30\\ub2e4/Adjective\",\"\\uad00\\uc2ec/Noun\",\"\\uc785/Noun\",\"\\u3147/KoreanParticle\",\"\\uc608\\uc0b0/Noun\",\"\\ub9cc\\ud07c/Josa\",\"\\ub178/Noun\",\"\\uc774\\ubbf8/Adverb\",\"\\uc544\\uc26c\\uc6c0/Noun\",\"\\ub4f1\\uc7a5/Noun\",\"\\ud504\\ub85c/Noun\",\">/Punctuation\",\"\\uc820/Noun\",\"\\ud1a0/Noun\",\"\\ub2e4\\ud589/Noun\",\"\\uc3d8\\ub2e4/Verb\",\"\\u3147\\u3147/KoreanParticle\",\"\\uc601\\uc6d0\\ud558\\ub2e4/Adjective\",\"\\uc57d\\ud558\\ub2e4/Adjective\",\"\\ub05d\\ub0b4\\ub2e4/Verb\",\"\\uadf8\\ub7f0\\ub370/Conjunction\",\"\\uc878\\ub77c/Noun\",\"\\ub365\\ub2e4/Adjective\",\"\\ub098\\uc911/Noun\",\"\\uc528/Noun\",\"\\uba70/Josa\",\"\\uc5ed\\ud560/Noun\",\"\\ud654/Noun\",\"\\uc0b4\\uc778/Noun\",\"\\uc5ec\\uc131/Noun\",\"\\ub9ac\\uba54\\uc774\\ud06c/Noun\",\"\\uac81\\ub098\\ub2e4/Verb\",\"\\uc0ac\\ub77c\\uc9c0\\ub2e4/Verb\",\"\\uc9d3/Noun\",\"\\uc774\\uba70/Josa\",\"\\ucc29\\ud558\\ub2e4/Adjective\",\"\\uc660\\uc9c0/Adverb\",\"\\uc6b0/Adverb\",\"\\ubd84/Suffix\",\"\\ub9c8\\uce58/Noun\",\"\\uc9c4\\uc2e4/Noun\",\"D/Alpha\",\"\\uc874/Noun\",\"\\uba4d\\uccad\\ud558\\ub2e4/Adjective\",\"\\uc678/Noun\",\"\\uc81c\\uc791\\ube44/Noun\",\"\\uc131\\uacf5/Noun\",\"\\ucc44\\ub110/Noun\",\"\\ube4c\\ub9ac\\ub2e4/Verb\",\"\\ub4dc/Noun\",\"\\ud2b9\\uc720/Noun\",\"\\uc0b4\\uc544\\uac00\\ub2e4/Verb\",\"\\uac00\\ub2a5\\ud558\\ub2e4/Adjective\",\"\\ud6a8\\uacfc/Noun\",\"\\uac00\\ub054/Noun\",\"\\uc9c0\\ub09c/Noun\",\"\\uc73c/Adverb\",\"\\ucca0\\ud559/Noun\",\"15/Number\",\"\\uacfc\\uc815/Noun\",\"\\uae4a\\uc774/Noun\",\"......./Punctuation\",\"\\uc5b4\\uc124\\ud504/Noun\",\"\\uaca0\\ub2e4/Verb\",\"\\uc778\\uc815/Noun\",\"\\uccad\\ucd98/Noun\",\"\\uc6a9\\ub3c4/Noun\",\"\\ub04c\\ub2e4/Verb\",\"\\ub530\\ub974\\ub2e4/Verb\",\"\\ubbf8\\ub798/Noun\",\"\\ud615\\ub2d8/Noun\",\"\\uc0ac\\uc774/Noun\",\"\\uce58/Noun\",\"\\ubc14\\ub00c\\ub2e4/Verb\",\"cg/Alpha\",\"\\uc9c0\\ub098\\uce58\\ub2e4/Verb\",\"\\uc2f8\\ub2e4/Verb\",\"\\ud76c\\ub9dd/Noun\",\"\\uad70/Suffix\",\"\\ub73b/Noun\",\"\\ucf00\\uc774\\ube14/Noun\",\"\\ubb3b\\ub2e4/Verb\",\"\\ud558\\uc790/Noun\",\"\\ubc94\\uc778/Noun\",\"\\uc870/Noun\",\"\\uc131\\uc7a5/Noun\",\"\\ub7f0\\uac00/Noun\",\"\\uc548\\ub2e4/Verb\",\"\\uc878\\ub9ac\\ub2e4/Verb\",\"\\uc5c7/VerbPrefix\",\"\\uc5bc/Noun\",\"\\uc0b0\\ub9cc/Noun\",\"\\uc0ac\\uadf9/Noun\",\"\\ub2e4\\ub9cc/Noun\",\"\\ub2a5\\ub825/Noun\",\"OST/Alpha\",\"\\uac1c\\ub3c4/Noun\",\"\\uc5bb\\ub2e4/Verb\",\"\\uad70\\ub300/Noun\",\"\\uc548\\ub098/Noun\",\"\\uce74\\uba54\\ub77c/Noun\",\"\\uc2a4\\ucf00\\uc77c/Noun\",\"\\\"\\\"\\\"\\\"\\\"\\\"\\\"/Punctuation\",\"\\ud0dc\\uc5b4\\ub098\\ub2e4/Verb\",\"\\uc0dd/Noun\",\"\\uc2e0\\uae30\\ud558\\ub2e4/Adjective\",\"\\uae30\\uc138/Noun\",\"\\u3145\\u3142/KoreanParticle\",\"\\uace0\\uc0dd/Noun\",\"\\ub530\\ub77c\\ud558\\ub2e4/Verb\",\"\\ubcc4\\ub8e8/Noun\",\"\\uc0dd\\uc560/Noun\",\"\\uc6a9\\uc774/Noun\",\"\\uc878\\ub2e4/Verb\",\"\\uc80a\\ub2e4/Adjective\",\"\\uc704\\ub300\\ud558\\ub2e4/Adjective\",\"\\uc8fc/Noun\",\"\\ubd80\\ud130/Noun\",\"\\uc6b8\\ub9ac\\ub2e4/Verb\",\"\\uaed8/Josa\",\"\\ub3c5\\ub9bd\\uc601\\ud654/Noun\",\"\\uc0c1\\uc0c1\\ub825/Noun\",\"\\uc124\\ub808\\ub2e4/Adjective\",\"\\uc131\\uc778/Noun\",\"\\uccb4/Noun\",\"\\ubbf8\\uc18c/Noun\",\"\\ub2e4\\uc18c/Noun\",\"\\ubb38\\ud654/Noun\",\"\\ub300\\ud558\\ub2e4/Verb\",\"\\ud3c9\\uc0dd/Noun\",\"\\ub85c\\ub294/Josa\",\"\\uace0\\ubbfc/Noun\",\"\\ub9ac\\uc5bc/Noun\",\"\\uac70\\uc9c0\\uac19\\ub2e4/Adjective\",\"\\ub3cc\\ub2e4/Verb\",\"\\uc790\\ub9c9/Noun\",\"\\ub418\\uac8c/Adverb\",\"\\uc5b4\\ub9b0\\uc774/Noun\",\"\\uc2dc\\ub3c4/Noun\",\"\\ub85c\\ub9e8\\ud2f1/Noun\",\"\\ucc28\\uc774/Noun\",\"\\uba54\\uc2dc\\uc9c0/Noun\",\"\\uad7f\\uad7f/Noun\",\"^/Punctuation\",\"\\uace0\\ub9d9\\ub2e4/Adjective\",\"\\ub0a0\\ub2e4/Verb\",\"\\ub9cc\\uc774/Josa\",\"\\ube44\\ub2e4/Verb\",\"\\ubcc0\\ud558\\ub2e4/Adjective\",\"\\ud750\\ub974\\ub2e4/Verb\",\"\\ub9ac\\ubdf0/Noun\",\"\\uacb0\\ub860/Noun\",\"\\uc870\\ucc28/Josa\",\"\\ub299\\ub2e4/Verb\",\"\\ub358\\uc9c0\\ub2e4/Verb\",\"\\ubd80\\uc871/Noun\",\"\\ubc24/Noun\",\"\\ubc15\\uc218/Noun\",\"\\ucee4\\ud50c/Noun\",\"\\uc9c0\\ud0a4\\ub2e4/Verb\",\"\\ubab0\\ub2e4/Verb\",\"\\uc2ac\\ud514/Noun\",\"\\uc73c\\ub85c\\ub294/Josa\",\"\\uc0c8/Noun\",\"\\uc131\\ud558/Noun\",\"\\uc190\\ubc1c/Noun\",\"\\ub300\\ucda9/Noun\",\"\\uc660\\ub9cc\\ud558\\ub2e4/Adjective\",\"\\uad73\\uc774/Noun\",\"\\ub85c\\uc11c/Noun\",\"\\uc8fc\\uae30/Noun\",\"\\ubc1c\\uacac/Noun\",\"\\uad11\\uace0/Noun\",\"\\uc131\\ub3c4/Noun\",\"\\uac10\\ub2e4/Verb\",\"\\ub2e4\\ud558\\ub2e4/Verb\",\"\\uc9f8/Suffix\",\"\\ubb34\\uc2dc/Noun\",\"\\uac04/Noun\",\"\\ube60\\ub974\\ub2e4/Adjective\",\"\\ud3ec\\uc7a5/Noun\",\"\\uc544\\uce68/Noun\",\"\\uc5f0\\uc560/Noun\",\"\\ucc38\\ub2e4/Verb\",\"\\uc138\\ub2e4/Verb\",\"\\uacfc\\uc5f0/Noun\",\"\\uad34\\ubb3c/Noun\",\"\\ubc94\\uc8c4/Noun\",\"\\uc21c/Noun\",\"\\uc800\\ub807\\uac8c/Adverb\",\"\\ubcf4\\uc2dc/Noun\",\"\\uc9d3\\ub2e4/Verb\",\"\\ud55c\\uacc4/Noun\",\"\\ub3d9\\uc0dd/Noun\",\"\\uc2ec/Noun\",\"\\uac10\\ud0c4/Noun\",\"\\uc77c\\uc0c1/Noun\",\"</Punctuation\",\"\\ud750\\ub984/Noun\",\"12/Number\",\"\\ub784/Noun\",\"\\uc5b4\\ucc0c/Noun\",\"\\ud76c\\ub2e4/Adjective\",\"\\uc778\\uae30/Noun\",\"\\uae30\\ubcf8/Noun\",\"\\uc0c1\\ucc98/Noun\",\"\\uca50\\ub2e4/Noun\",\"\\uc790\\uc5f0/Noun\",\"\\ud3ed\\ub825/Noun\",\"\\uba4b/Noun\",\"..?/Punctuation\",\"\\uc6a9\\uc11c/Noun\",\"\\uc6b0\\uc6b8\\ud558\\ub2e4/Adjective\",\"\\uc2dc\\uccad\\uc790/Noun\",\"\\uc624\\uadf8/Noun\",\"40/Number\",\"\\ubcf4\\ub77c/Noun\",\"\\uc0b4\\uc9dd/Noun\",\"\\uc720\\uba85\\ud558\\ub2e4/Adjective\",\"\\uc11c\\ub3c4/Noun\",\"\\ud1b5\\ud574/Noun\",\"\\uc2ec\\uc2ec\\ud558\\ub2e4/Adjective\",\"\\uc870\\ud3ed/Noun\",\"\\ubab8\\ub9e4/Noun\",\"\\uc815\\uc11c/Noun\",\"\\ud3c9\\uc774/Noun\",\"\\uacb0\\uacfc/Noun\",\"\\ubcfc\\uac70\\ub9ac/Noun\",\"\\uc824/Noun\",\"\\uc6ec\\ub9cc\\ud558\\ub2e4/Adjective\",\"\\ucc59\\uae30\\ub2e4/Verb\",\"\\uc77c\\uc5b4\\ub098\\ub2e4/Verb\",\"\\uac1c\\ud310/Noun\",\"\\ub09a/Noun\",\"\\ub355\\ubd84/Noun\",\"\\ub9e8/Noun\",\"\\ud64d\\ubcf4/Noun\",\"\\ub2ec/Noun\",\"~^^/Punctuation\",\"\\ub6f0\\ub2e4/Verb\",\"\\ub04c/Noun\",\"\\uc2dc\\uc120/Noun\",\"\\ud615/Suffix\",\"~~~~/Punctuation\",\"\\uc774\\ub798/Josa\",\"\\uc2eb\\uc5b4\\ud558\\ub2e4/Adjective\",\"\\uc90d\\ub2e4/Verb\",\"\\uc2a4\\ub7fd\\uac8c/Josa\",\"\\uc139\\uc2a4/Noun\",\"\\ucabd/Noun\",\"\\ud575/Noun\",\"\\uc5f4\\uc2ec\\ud788/Adverb\",\"\\uc544\\uc624/Exclamation\",\"\\uc774\\uba74/Noun\",\"\\ud558\\ub8e8/Noun\",\"\\uc57c/Exclamation\",\"\\uc815\\ub9d0\\ub85c/Adverb\",\"\\ub07c\\ub9ac/Noun\",\"\\ud790\\ub9c1/Noun\",\"\\uace0\\uc804/Noun\",\"\\uc790\\uc720/Noun\",\"\\uc624\\ub77d/Noun\",\"\\ud3ec\\uae30/Noun\",\"\\uc601\\ud658/Noun\",\"\\ub208\\ube5b/Noun\",\"\\ubcd1/Noun\",\"\\ubd88\\uac00/Noun\",\"\\uc720/Noun\",\"\\ud45c/Noun\",\"\\uac8c\\uc774/Noun\",\"\\ud558\\ud558/Noun\",\"\\uc774\\uae30/Noun\",\"\\uc218\\ub3c4/Noun\",\"\\ucc21/Adverb\",\"\\ub0b4\\ub9ac\\ub2e4/Verb\",\"\\ucca8/Noun\",\"\\ubb34\\ud611/Noun\",\"\\uae54\\ub054\\ud558\\ub2e4/Adjective\",\"\\ud558\\ub77c/Noun\",\"\\ub0a8\\ub140/Noun\",\"\\ubc18\\uc131/Noun\",\"\\ube44\\uadf9/Noun\",\"\\ud45c\\uc808/Noun\",\"\\uc8c4/Noun\",\"\\uc0ac/Noun\",\"\\uc5d0\\uc11c\\uc758/Josa\",\"\\ub2f4\\uae30\\ub2e4/Verb\",\"\\ucda4/Noun\",\"\\ub531\\ud558\\ub2e4/Adjective\",\"\\uc640\\ub294/Josa\",\"\\ub72c\\uae08/Noun\",\"\\uacf5\\ubd80/Noun\",\"\\ub4f1\\uc7a5\\uc778\\ubb3c/Noun\",\"\\uc6b0\\uc815/Noun\",\"\\ud574\\ud53c\\uc5d4\\ub529/Noun\",\"\\uc5b4\\uc81c/Noun\",\"\\uad6d\\ubbfc/Noun\",\"\\ud1b5\\ucf8c/Noun\",\"\\ub0a8\\ud3b8/Noun\",\"\\ub09c\\ud574/Noun\",\"\\ube5b/Noun\",\"\\uc9c8\\ub9ac/Noun\",\"=/Punctuation\",\"\\ucf54\\ub4dc/Noun\",\"\\uc4f0\\ub798/Noun\",\"\\ud06c\\uac8c/Noun\",\"\\uc9c0\\uad6c/Noun\",\"\\ubc29/Noun\",\"\\ub2f9\\uc5f0\\ud558\\ub2e4/Adjective\",\"\\ubd81\\ud55c/Noun\",\"\\uc815\\uce58/Noun\",\"b/Alpha\",\"\\uc18c\\uc7a5/Noun\",\"\\ud64d\\ucf69/Noun\",\"\\ub9d0\\ub85c/Noun\",\"\\ubcf4\\ub2e4\\ub3c4/Josa\",\"\\ud391\\ud391/Noun\",\"\\ub098\\uba38\\uc9c0/Noun\",\"\\uc758\\uc2ec/Noun\",\"\\ub07c/Noun\",\"\\uacc4/Suffix\",\"(?)/Punctuation\",\"\\ub9c9\\ud310/Noun\",\"\\uc885\\uad50/Noun\",\"\\ubb34\\uc9c0/Noun\",\"\\ub178\\ub2f5/Noun\",\"\\ubd84\\ub178/Noun\",\"\\ubb34\\uac81\\ub2e4/Adjective\",\"\\ubcf4\\uc544/Noun\",\"\\uc790\\uc2dd/Noun\",\"\\ub9cc\\uc73c\\ub85c/Josa\",\"\\uadf8\\ub7ed\\uc800\\ub7ed/Noun\",\"\\ubba4\\uc9c0\\uceec/Noun\",\"\\uc9c0\\ub294/Josa\",\"\\uc774\\uc5f0\\uac78/Noun\",\"\\ubd80\\ub044\\ub7fd\\ub2e4/Adjective\",\"\\uac00\\uba74/Noun\",\"\\ud2b9\\ubcc4\\ud558\\ub2e4/Adjective\",\"\\uc9c0\\ub3c4/Noun\",\"\\ubc29\\uc2dd/Noun\",\"\\ubb50\\uc784/Noun\",\"\\ub2ec\\ub77c/Noun\",\"\\uc545\\uc5ed/Noun\",\"\\ub290\\ub9ac\\ub2e4/Adjective\",\"\\ud1b5/Noun\",\"\\ub4e4\\uc5b4\\uc624\\ub2e4/Verb\",\"\\uc545\\ub2f9/Noun\",\"\\ube75/Noun\",\"\\uc2a4\\ub7f0/Josa\",\"\\ud004\\ub9ac\\ud2f0/Noun\",\"\\ub4dc\\ub7fd/Noun\",\"\\ub290\\uc640\\ub974/Noun\",\"\\ud615\\ud3b8/Noun\",\"\\uc544\\ub828\\ud558\\ub2e4/Adjective\",\"\\ubcf8\\ubc29/Noun\",\"\\uac8c\\ub2e4\\uac00/Noun\",\"\\ubc18\\uac1c/Noun\",\"\\uac10\\uba85/Noun\",\"\\uc870\\uc808/Noun\",\"\\uc0c8\\ubcbd/Noun\",\"\\ubc8c\\uc368/Noun\",\"\\uc870\\uc7a1/Noun\",\"\\uc554\\ud2bc/Adverb\",\"\\uae4c\\uc9c0\\ub294/Josa\",\"\\uc73c\\ub860/Josa\",\"\\ub2e4\\ud050\\uba58\\ud130\\ub9ac/Noun\",\"\\uc778\\uac00\\uc694/Josa\",\"\\uc774\\ub77c\\uc11c/Josa\",\"\\uc5d0\\uac8c\\ub294/Josa\",\"\\ub5bc\\ub2e4/Verb\",\"\\uc5f4\\uc815/Noun\",\"\\ud639\\uc2dc/Noun\",\"\\uaf34/Noun\",\"\\ubd88\\uad6c/Noun\",\"\\ud589\\ubcf5/Noun\",\"\\uc2dc\\uc6d0\\ud558\\ub2e4/Adjective\",\"\\uc758\\ubb38/Noun\",\"\\uc785\\uc7a5/Noun\",\"\\ucc98\\ub7fc/Noun\",\"\\ub9e5/Noun\",\"\\ub0a8\\uc544/Noun\",\"\\uc774\\uc5b4\\uc9c0\\ub2e4/Verb\",\"\\ubd88\\ucf8c/Noun\",\"\\ud76c\\uc0dd/Noun\",\"\\uc5d0\\ub9cc/Josa\",\"\\uadf8\\uac78/Adverb\",\"\\ube5b\\ub098\\ub2e4/Verb\",\"\\ub514\\uc988\\ub2c8/Noun\",\"70/Number\",\"\\uc801\\uc808\\ud558\\ub2e4/Adjective\",\"\\uadf8\\ub2e4\\uc9c0/Noun\",\"\\ubc1c\\uc804/Noun\",\"\\ub300\\ud654/Noun\",\"\\uc624\\ubc84/Noun\",\"\\uadf8\\ub9b0/Noun\",\"\\uc2f8\\uad6c\\ub824/Noun\",\"\\uc62c\\ud574/Noun\",\"&/Punctuation\",\"\\uc0c9\\ub2e4\\ub974\\ub2e4/Adjective\",\"\\uacfc\\ub294/Josa\",\"11/Number\",\"\\ud558\\ub2c8/Noun\",\"\\ub3d9\\ubb3c/Noun\",\"\\ube44\\uc8fc/Noun\",\"\\ubc18\\ubcf5/Noun\",\"\\uc644\\uc804\\ud558\\ub2e4/Adjective\",\"\\uc5f0\\uc608\\uc778/Noun\",\"\\uc9c0\\ub974\\ub2e4/Verb\",\"\\uae30\\uc220/Noun\",\"_/Punctuation\",\"\\ud615/Noun\",\"\\uc880\\ub354/Noun\",\"\\uc678\\uad6d/Noun\",\"\\ud638\\ub7ec/Noun\",\"\\uadf8\\ub807\\ub2e4\\uace0/Conjunction\",\"\\uae34\\uc7a5/Noun\",\"\\uc544\\uc774\\ub3cc/Noun\",\"\\ucc44\\uc6b0\\ub2e4/Verb\",\"\\uc5b8\\uc81c\\ub098/Adverb\",\"\\uc778/Suffix\",\"\\ucd0c\\uc2a4\\ub7fd\\ub2e4/Adjective\",\"\\ub7ec\\ub2dd/Noun\",\"\\uc545/Noun\",\"\\ud48b\\ud48b/Noun\",\"\\uc2dc\\uc0ac\\ud68c/Noun\",\"\\uc18c\\uc18c\\ud558\\ub2e4/Adjective\",\"\\ud758\\ub7ec\\uac00\\ub2e4/Verb\",\"\\uc544\\uc90c\\ub9c8/Noun\",\"\\ub193\\uce58\\ub2e4/Verb\",\"\\ub77c\\uc778/Noun\",\"\\ube68/Noun\",\"\\uc81c\\ub85c/Noun\",\"50/Number\",\"\\uca5d/Adverb\",\"\\uc120\\uc0dd\\ub2d8/Noun\",\"19/Number\",\"\\uae00\\uc384/Noun\",\"\\ube61\\uce58\\ub2e4/Adjective\",\"\\uc774\\uc81c\\uc57c/Noun\",\"\\ub298/Noun\",\"\\ubcfc\\uac8c\\ub2e4/Verb\",\"\\uc2e4\\ub825/Noun\",\"\\uc6d4/Noun\",\"\\uac70\\uc778/Noun\",\"\\ub9e1\\ub2e4/Verb\",\"\\uae30\\uc801/Noun\",\"\\ub9e8\\ub0a0/Adverb\",\"\\uac15\\ub82c\\ud558\\ub2e4/Adjective\",\"\\uc5b4\\uba38\\ub2c8/Noun\",\"\\uccad\\uc18c\\ub144/Noun\",\"\\ud300/Noun\",\"\\ubd88/Noun\",\"\\ubbf8\\ub4dc/Noun\",\"\\uc758\\ub9ac/Noun\",\"\\ub9cc\\ud07c/Noun\",\"\\uc794/Noun\",\"\\ub2f4/Noun\",\"\\ucacc/Noun\",\"\\uc8fc\\uae30\\ub3c4/Noun\",\"\\uc138\\uae30/Noun\",\"\\uc544\\ud514/Noun\",\"\\uc2ec\\uac01\\ud558\\ub2e4/Adjective\",\"\\ub300\\uac00/Noun\",\"\\uae68\\ub2eb\\ub2e4/Verb\",\"\\ubcf8\\uc778/Noun\",\"\\ud574\\uc11d/Noun\",\"\\ub2ee\\ub2e4/Verb\",\"\\uc0ac\\uae30/Noun\",\"\\ub0a0\\ub9ac\\ub2e4/Verb\",\"\\uc804\\ubb38\\uac00/Noun\",\"\\uac80\\uc0c9/Noun\",\"\\ub9c8\\uc800/Josa\",\"\\ud0c0/Noun\",\"\\uc774\\ub2c8/Josa\",\"\\uc678\\ubaa8/Noun\",\"\\ub2e4\\uac00/Noun\",\"\\uc774\\ub8e8\\ub2e4/Verb\",\"\\ubc29\\uae08/Noun\",\"\\ud751/Adverb\",\"\\uc655/Noun\",\"\\uacfc\\uc7a5/Noun\",\"\\ud544\\ub984/Noun\",\"\\uc2f8\\uc6c0/Noun\",\"\\ub2e8\\uc9c0/Noun\",\"\\ubc25/Noun\",\"\\uc5d0\\ub85c/Josa\",\"\\uacfc\\uc758/Josa\",\"\\uaf5d/Noun\",\"\\uc774\\uc790/Noun\",\"\\ud55c\\uad6d\\uc778/Noun\",\"\\uc2dc\\uac01/Noun\",\"\\uc8c4\\ub2e4/Adverb\",\"\\uae68\\ub2e4/Verb\",\"\\ud5d0\\ub9ac\\uc6b0\\ub4dc/Noun\",\"\\ud559\\uc0dd/Noun\",\"\\uc544\\uc9c1\\uae4c\\uc9c0/Noun\",\"\\uc774\\ubbf8\\uc9c0/Noun\",\"\\ub9b0/Noun\",\"\\ubc29\\ubc95/Noun\",\"\\uac08\\ub4f1/Noun\",\"\\ub204\\uad70\\uac00/Noun\",\"\\uacac\\uc790\\ub2e8/Noun\",\"\\ubca0\\uc2a4\\ud2b8/Noun\",\"\\uc2dc\\uc2dc/Noun\",\"\\uc774\\ub4e0/Josa\",\"\\ub2a6\\ub2e4/Verb\",\"\\uc560\\uae30/Noun\",\"\\uc12c\\uc138/Noun\",\"\\ub0b3\\ub2e4/Verb\",\"18/Number\",\"\\ub300\\ud45c/Noun\",\"\\ub54c\\uc6b0\\ub2e4/Adjective\",\"\\uc2dc\\ud2b8\\ucf64/Noun\",\"\\ubf51\\ub2e4/Verb\",\"\\ud788\\uc5b4\\ub85c/Noun\",\"\\uc778\\uc9c0/Noun\",\"\\uc785\\ub2e4/Verb\",\"\\ucc3d/Noun\",\"\\uafb8\\ub2e4/Verb\",\"\\ub77c\\uc9c0/Noun\",\"\\ud604\\ub300/Noun\",\"\\ub2e8\\uc5f0/Noun\",\"\\uadf9\\uce58/Noun\",\"\\uc73c\\ub9ac/Noun\",\"\\uc874\\uacbd/Noun\",\"\\uc0c1/Noun\",\"\\ube44\\ud310/Noun\",\"\\uc5ec\\ud589/Noun\",\"\\ub3cc\\uc544\\uc624\\ub2e4/Verb\",\"\\uc9c4\\ub9ac/Noun\",\"\\ub534\\ub2e4/Adjective\",\"\\ub9c9\\ud788\\ub2e4/Verb\",\"\\uae40\\uae30\\ub355/Noun\",\"\\uc720\\ubc1c/Noun\",\"\\ub85c\\ub9cc/Noun\",\"\\uc804\\ubc18/Noun\",\"\\uc9dd\\ud241/Noun\",\"\\uba85\\ud488/Noun\",\"\\uc5d0\\ud53c\\uc18c\\ub4dc/Noun\",\"\\uc2a4\\uc2a4\\ub85c/Noun\",\"\\ub85c\\ubd07/Noun\",\"\\uae4c\\uc9c4/Josa\",\"\\ub300\\ubd80\\ubd84/Noun\",\"\\uadf8\\uac70/Noun\",\"\\ud3b8\\uc758/Noun\",\"\\ub300\\uc758/Noun\",\"\\ub5a0\\uc624\\ub974\\ub2e4/Verb\",\"\\ub530\\ub77c\\uac00\\ub2e4/Verb\",\"\\ucd5d\\uc624/Noun\",\"\\uc88b\\uc544\\uc9c0\\ub2e4/Adjective\",\"\\uc2ec\\uc7a5/Noun\",\"\\uacbd\\ud5d8/Noun\",\"\\uc870\\ud569/Noun\",\"\\ud53c\\ud574\\uc790/Noun\",\"\\ub2e4\\uac00\\uc624\\ub2e4/Verb\",\"\\ub354\\ubd88\\ub2e4/Verb\",\"\\ubd80\\ubaa8/Noun\",\"\\uc5f0\\uc18d/Noun\",\"\\uc608/Noun\",\"\\uc5c6\\uc5b4\\uc9c0\\ub2e4/Verb\",\"\\ud479/Noun\",\"\\uc774\\uc815/Noun\",\"????/Punctuation\",\"\\ubbfc\\ub9dd/Noun\",\"\\uc591\\uc2ec/Noun\",\"\\uc740\\uadfc/Noun\",\"\\ub124/Noun\",\"\\uad6d\\ub0b4/Noun\",\"\\ud3b8\\ud558\\ub2e4/Adjective\",\"\\uc0dd\\uc0dd/Noun\",\"\\uac15/Noun\",\"\\uc8fc\\ub9d0/Noun\",\"\\uac1c\\ub150/Noun\",\"\\ud5c8\\uc138/Noun\",\"\\uc774\\ub04c\\ub2e4/Verb\",\"\\ud14c\\ub7ec/Noun\",\"\\uc601\\uc5b4/Noun\",\"\\ub2f9/Suffix\",\"\\uc804\\uac1c\\ub3c4/Noun\",\"\\uae30\\ub974\\ub2e4/Verb\",\"\\uae08/Noun\",\"\\ub77c\\uc774/Noun\",\"\\uc5f0\\uacb0/Noun\",\"\\ub9ac\\uc988/Noun\",\"\\ub35c/Noun\",\"\\uc2f8\\uc774\\ucf54/Noun\",\"\\uc228\\ub2e4/Verb\",\"\\uac00\\uae5d\\ub2e4/Adjective\",\"\\ubd84\\uba85/Noun\",\"\\ucf54\\ub09c/Noun\",\"\\uc640\\uc6b0/Noun\",\"\\uc870\\uc791/Noun\",\"\\ud6e8/Noun\",\"\\uc9dd/Noun\",\"\\uc0dd\\ud65c/Noun\",\"\\ub3c4\\uc548/Noun\",\"\\uac1c\\ubfd4/Noun\",\"\\uc0c1\\ubbf8/Noun\",\"\\ubb34\\uc5b8\\uac00/Noun\",\"\\ubfd0\\uc774\\ub2e4/Adjective\",\"\\ud3b8\\uacac/Noun\",\"\\uc624\\ube0c/Noun\",\"\\ubc14\\ub77c\\ubcf4\\ub2e4/Verb\",\"\\uac81\\ub2c8\\ub2e4/Verb\",\"\\ud5d0\\ub9ac\\uc6c3/Noun\",\"\\ubbf8\\ubaa8/Noun\",\"\\ubc88\\uc9f8/Suffix\",\"\\uc6b0\\uc640/Exclamation\",\"\\uc57d/Noun\",\"21/Number\",\"\\uc774\\ub098/Noun\",\"\\ubb34\\ucc99/Noun\",\"\\ub85c\\uc368/Noun\",\"\\ud560\\uba38\\ub2c8/Noun\",\"007/Number\",\"\\uc678\\uacc4\\uc778/Noun\",\"...?/Punctuation\",\"\\uc758\\uc678\\ub85c/Adverb\",\"\\uce90\\ub9ac/Noun\",\"\\uac70\\uc2ac\\ub9ac\\ub2e4/Adjective\",\"\\ud5a5/Noun\",\"\\uc591/Noun\",\"\\uc139\\uc2dc\\ud558\\ub2e4/Adjective\",\"\\uac00\\ub4dd\\ud558\\ub2e4/Adjective\",\"\\uce60/Noun\",\"\\uc9c1\\uc811/Noun\",\"\\uc774\\uc5ec/Josa\",\"\\ube68\\ub2e4/Verb\",\"\\ud55c\\ucc38/Noun\",\"\\uc624\\ube60/Noun\",\".\\\"\\\"\\\"/Punctuation\",\"\\ud3b4\\ub2e4/Verb\",\"......../Punctuation\",\"\\ub808\\uc54c/Noun\",\"\\ubd23\\ub294\\ub370/Noun\",\"\\uc8fc\\ubcc0/Noun\",\"\\uc5b4\\ucc98\\uad6c\\ub2c8/Noun\",\"\\uc758\\uc2dd/Noun\",\"\\uc790\\uc0b4/Noun\",\"\\ub09a\\uc600/Noun\",\",,,,/Punctuation\",\"\\uc73c\\ub85c\\ub9cc/Josa\",\"\\uace0\\uc591\\uc774/Noun\",\"\\uc2a4\\ub7fd\\uc9c0/Josa\",\"[/Punctuation\",\"\\uae30\\uc790/Noun\",\"\\uc544\\ub0b4/Noun\",\"\\uba85\\uc131/Noun\",\"\\uc62c\\ub77c\\uac00\\ub2e4/Verb\",\"\\uac1c\\uc131/Noun\",\"\\ud48d\\uacbd/Noun\",\"\\ub9c8\\uc774\\ub108\\uc2a4/Noun\",\"\\uac00\\uc694/Noun\",\"13/Number\",\"\\uc73c\\ub85c\\uc11c/Josa\",\"\\ucd08\\ub4f1\\ud559\\uc0dd/Noun\",\"\\ubb18/Noun\",\"\\ub3cc\\uc544\\ubcf4\\ub2e4/Verb\",\"\\uc2e0\\uacbd/Noun\",\"\\ud558\\ub098\\ub85c/Noun\",\"\\ub3c4\\uc804/Noun\",\"\\ub9c8\\uc774\\ud074/Noun\",\"\\uc0ac\\uc218/Noun\",\"\\ud615\\uc0ac/Noun\",\"\\uc2e0\\uace0/Noun\",\"\\uc9c0\\uc6b0\\ub2e4/Verb\",\"\\u2665\\u2665/Foreign\",\"\\uac1c\\ub9c9/Noun\",\"\\ubcc0\\ud654/Noun\",\"\\ub9cc\\ub4e4\\uae30/Noun\",\"\\uc870\\uc6a9\\ud558\\ub2e4/Adjective\",\"\\uce7c/Noun\",\"\\uae4e\\ub2e4/Verb\",\"\\uc598/Noun\",\"\\ub294\\uac78/Noun\",\"\\uc601\\ud63c/Noun\",\"\\uac10\\ud788/Noun\",\"\\uc720\\ucf8c\\ud558/Noun\",\"\\uc7a5/Noun\",\"\\uc544\\ub9c8/Noun\",\"\\ub9c9\\uc7a5\\ub4dc\\ub77c\\ub9c8/Noun\",\"]/Punctuation\",\"?!/Punctuation\",\"\\uce74\\ub9ac\\uc2a4\\ub9c8/Noun\",\"\\ud30c\\ub2e4/Verb\",\"\\uce58\\ubc00/Noun\",\"\\ud655/Noun\",\"\\uc904\\ub2e4/Verb\",\"\\uc57c\\ub3d9/Noun\",\"\\u3160\\u315c/KoreanParticle\",\"\\ub2ec\\ub2ec/Noun\",\"\\ub2ec\\ub9ac\\ub2e4/Verb\",\"\\uc774\\ubcf4/Noun\",\"\\uc545\\ub9c8/Noun\",\"\\uaca8/Noun\",\"\\uc751\\uc6d0/Noun\",\"\\ud30c/Noun\",\"\\ubcf5\\uc7a1\\ud558\\ub2e4/Adjective\",\"\\uc624\\ube60/Suffix\",\"\\ud559\\ub144/Noun\",\"\\ud22c\\uc790/Noun\",\"\\ub04c\\ub9ac\\ub2e4/Verb\",\"\\ub3d9\\uc2dc/Noun\",\"\\uc8fc\\uc131\\uce58/Noun\",\"\\ud2b9\\uc218/Noun\",\"\\uc774\\ub3c4/Noun\",\"\\ub7ec\\ube0c/Noun\",\"\\uac00\\uc218/Noun\",\"\\ube44\\ud604\\uc2e4\\uc801/Noun\",\"\\uae68\\uc6b0\\ub2e4/Verb\",\"\\uc790\\uc5f0\\uc2a4\\ub7fd\\ub2e4/Adjective\",\"\\uc815\\uc758/Noun\",\"\\ub808\\uc804\\ub4dc/Noun\",\"\\ub4e4\\uc5b4\\uc11c\\ub2e4/Verb\",\"\\ubb3c\\uc774/Noun\",\"\\uc61b/Noun\",\"x/Alpha\",\"\\uc2a4\\ud2b8\\ub808\\uc2a4/Noun\",\"\\uae30\\uc900/Noun\",\"\\ubd84\\uba85\\ud558\\ub2e4/Adjective\",\"\\uc131\\uaca9/Noun\",\"\\uaca8\\uc6b0/Noun\",\"\\ub86d\\uace0/Josa\",\"\\uc7a0\\uae50/Noun\",\"\\uc815\\ub9d0/Exclamation\",\"\\ud64d\\ucf69\\uc601\\ud654/Noun\",\"\\uc0c1\\uc5c5/Noun\",\"\\ub05d\\ub0b4/Noun\",\"\\ub300\\ubcf8/Noun\",\"\\ud574\\uc9c0/Noun\",\"\\uc774\\ub780/Noun\",\"\\ub0b4\\uba74/Noun\",\"\\uc544\\ubb34\\ub807\\ub2e4/Adjective\",\"\\ubb3c\\ub2e4/Verb\",\"\\ud654\\ub098\\ub2e4/Verb\",\"\\ube48/Noun\",\"\\uc124\\ub9c8/Noun\",\"\\uc138\\uc6d4/Noun\",\"\\ud3ec\\ub974\\ub178/Noun\",\"\\uc606/Noun\",\"\\uace0\\ud1b5/Noun\",\"\\uc544/Noun\",\"\\uad00\\uc810/Noun\",\"\\ud615\\uc81c/Noun\",\"\\uc790\\ub9ac/Noun\",\"\\ub4f1\\ub4f1/Noun\",\"\\ucc44/Noun\",\"\\ubb34\\ud55c/Noun\",\"\\uba74\\uc11c/Noun\",\"\\uc1fc/Noun\",\"\\ucc98/Noun\",\"C/Alpha\",\"\\ubaa8\\uc73c\\ub2e4/Verb\",\"\\uc774\\uc0c1\\uc740/Noun\",\"M/Alpha\",\"\\ucd5c/Noun\",\"\\uc138\\ubc88/Noun\",\"\\uc9d5/Noun\",\"\\uc5bc\\ub9c8/Noun\",\"\\ub9e4\\ub2e4/Verb\",\"\\ub2e4\\uc591\\ud558\\ub2e4/Adjective\",\"\\uc0ac\\uc9c4/Noun\",\"\\ub5a8\\ub2e4/Verb\",\"\\uc5b4\\ub9b0\\uc2dc\\uc808/Noun\",\"\\ub9cc\\ud07c\\uc740/Josa\",\"\\ubca0/Noun\",\"\\uac11/Noun\",\"\\ucc38\\uc73c\\ub85c/Noun\",\"\\uc73c\\ub85c\\uc368/Josa\",\"\\ud3ec\\uc778\\ud2b8/Noun\",\"\\uc0b4\\uc544\\ub098\\ub2e4/Verb\",\",./Punctuation\",\"\\uc7a0\\ub4e4\\ub2e4/Verb\",\"\\ub9e4/Noun\",\"\\uc704\\ub85c/Noun\",\"\\ub530\\ub85c/Adverb\",\"\\uae40/Noun\",\"\\ud3b8\\ub3c4/Noun\",\"\\ud758\\ub974\\ub2e4/Verb\",\"\\uc695\\ub9dd/Noun\",\"\\uad50\\uc721/Noun\",\"\\uc555\\uad8c/Noun\",\"\\uae30\\ud68c/Noun\",\"\\uc774\\uc6a9/Noun\",\"\\uc2dc\\uccad/Noun\",\"\\ub180\\ub2e4/Verb\",\"\\ub118\\uc5b4\\uac00\\ub2e4/Verb\",\"\\uadc0/Noun\",\"\\uce90/Noun\",\"\\uc804\\uc7c1\\uc601\\ud654/Noun\",\"\\ud06c\\ub9ac\\uc2a4\\ub9c8\\uc2a4/Noun\",\"\\uc815\\uccb4/Noun\",\"\\uc798\\ub418\\ub2e4/Verb\",\"\\uc6b0\\uc8fc/Noun\",\"\\ud2b9\\uc774\\ud558\\ub2e4/Adjective\",\"\\uc6b4\\uba85/Noun\",\"\\uc778\\ub4e4/Josa\",\"\\uacf5/Noun\",\"\\ubd80\\ub7fd\\ub2e4/Adjective\",\"\\uc800\\ub7ec\\ub2e4/Verb\",\"\\ubc29\\uc601/Noun\",\"\\uc544\\uc608/Noun\",\"\\uc5f0/Noun\",\"\\ubcc0\\ud0dc/Noun\",\"\\uc801\\uc784/Noun\",\"\\ubc00\\ub9ac\\ub2e4/Verb\",\"\\uc5d0\\ub098/Josa\",\"\\uad6d\\uac00/Noun\",\"\\uc9c4\\ud558\\ub2e4/Adjective\",\"\\uc608\\ub2a5/Noun\",\"\\uc5b5/Noun\",\"\\uc218\\uace0/Noun\",\"\\uc820\\uc7a5/Noun\",\"\\uc0c9\\uac10/Noun\",\"\\ub118\\uae30\\ub2e4/Verb\",\"\\uc228\\uae30\\ub2e4/Verb\",\"\\u3131/KoreanParticle\",\"\\uc6b0\\ub824/Noun\",\"\\uc77c\\ud488/Noun\",\"\\uaebc/Suffix\",\"\\uc6cc/Noun\",\"\\uba48\\ucd94\\ub2e4/Verb\",\"\\ub4ec/Noun\",\"\\ucd5c\\uac15/Noun\",\"\\u3145/KoreanParticle\",\"\\ubcf8\\uc801/Noun\",\"\\ub9cc\\uc740/Josa\",\"\\ub180\\ub78d\\ub2e4/Adjective\",\"\\ucd08\\ub4f1\\ud559\\uad50/Noun\",\"the/Alpha\",\"\\uc548\\uc2b5/Noun\",\"\\uad8c/Suffix\",\"\\uc369\\ub2e4/Verb\",\"\\ud655\\uc778/Noun\",\"\\uc5d0\\ub85c\\uc601\\ud654/Noun\",\"\\uc870/Suffix\",\"\\ubc14\\ub2e4/Noun\",\"\\ubc30\\uc5ed/Noun\",\"\\ubb34\\uc220/Noun\",\"\\uc601\\uad6d/Noun\",\"\\uc2e0\\ubd84/Noun\",\"\\ubbf8\\uac00/Noun\",\"\\ub10c/Noun\",\"\\ub2ec\\ub9ac/Noun\",\"\\uc2dc\\uae30/Noun\",\"\\uc120\\ubb3c/Noun\",\"\\uae30\\ubc1c/Noun\",\"\\ub2c8\\uae50/Josa\",\"\\ud574\\ub0b4\\ub2e4/Verb\",\"DVD/Alpha\",\"\\ud0a4\\uc6b0\\ub2e4/Verb\",\"\\uac16\\ucd94\\ub2e4/Verb\",\"\\uc124\\ub4dd/Noun\",\"\\ud751\\uc778/Noun\",\"\\ub0c4\\uc0c8/Noun\",\"\\uc0c8\\ub2e4/Verb\",\"\\uc815\\uc2e0\\ubcd1/Noun\",\"\\ud2c8/Noun\",\"\\ub9cc\\uc744/Josa\",\"\\ub0b4\\uc0dd/Noun\",\"\\uacb0\\uc815/Noun\",\"\\uca4c/Noun\",\"\\uacf5\\ud3ec\\ubb3c/Noun\",\"\\uadfc\\ub798/Noun\",\"\\uc774\\ub798\\uc11c/Josa\",\"\\ud48d\\uc790/Noun\",\"\\ub098\\ud0c0\\ub098\\ub2e4/Verb\",\"\\uc5b4\\uc694/Noun\",\"\\ubd80\\ubaa8\\ub2d8/Noun\",\"\\uacf5\\uc9dc/Noun\",\"\\ucd5c\\ucd08/Noun\",\"\\uadf8\\uac74/Adverb\",\"\\uc0bc/Noun\",\"\\ub370\\ub9ac/Noun\",\"\\ub300\\uc911/Noun\",\"\\uc2dc\\uc810/Noun\",\"\\ubb34\\ub3c4/Noun\",\"\\ub85c\\uc6b4/Josa\",\"\\uad00\\ub828/Noun\",\"2014/Number\",\"\\uc778\\uc9c0\\ub3c4/Noun\",\"\\ube48\\uc57d/Noun\",\"\\uaf2c\\ub9c8/Noun\",\"\\ubaa8\\uc790\\ub77c\\ub2e4/Verb\",\"\\uc5b8\\ub2c8/Noun\",\"\\uc131\\uc740/Noun\",\"\\ud654\\uc911/Noun\",\"\\ub9cc\\ub0a8/Noun\",\"\\uc637/Noun\",\"\\uc549\\ub2e4/Verb\",\"\\uc18c/Noun\",\"\\ub0ae\\ucd94\\ub2e4/Verb\",\"\\ubd80\\ubd80/Noun\",\"\\uac70\\uc9d3\\ub9d0/Noun\",\"\\uc544\\ub3d9/Noun\",\"\\ubd84\\ub9cc/Noun\"],\"x\":[355.69560523152387,16.11697367596881,-71.52614327049524,3.462482673179869,-5.589610567637237,4.937146721134084,927.7401588152304,0.5904564416523634,0.5211842264483413,2.940985894882894,0.6977268006623976,-19.090445659952422,0.28539832208560767,0.21290859916488536,5.700760721230486,0.6544627745672511,1.803069647108634,2.3633172846400097,3.2293617194030193,4.546995712619994,-0.4298382941924124,-0.09342115482956714,-3.787688369026669,-9.843175072574219,-0.4836018850488384,-1.083665969277238,-12.001290430449565,-4.6479497984181535,-0.7187520177095248,-2.2412236572856976,-4.577543059364615,-2.119740256988104,4.368984613227383,-5.311327456853509,6.804123842587601,0.8637264365716217,-0.3413108757661721,1.1888102734425479,0.8392061061432644,-15.02731714848832,11.606858066213569,1.3161999364416175,-1.4009150681451987,-0.11414368113293927,-2.5269800543530874,6.962824328266447,-23.080311266098214,-8.735561960242245,4.735907325493056,-7.336038588637129,-2.119930349434004,-17.758446952081623,-5.9091474890629305,-0.5815229786665775,8.823518137964406,8.047356094700802,-6.464864167213325,-7.923181257613636,-3.913605814437926,9.697162506673887,2.162647792204675,-4.951409822119079,2.886668755074833,-6.245905954994301,-15.67065446804451,-3.419215735899752,-0.40249446584275644,-13.178086687834815,14.755275512420772,-2.0397176271848965,0.3804496795030339,10.163300287122993,-7.200127915972339,-4.350495505440666,3.658184625747106,5.917281052185707,-1.8055505573193207,-3.898761261793869,-9.407388516436349,8.976366750637263,4.268313067686654,1.5003097589320362,-1.850877115741419,-0.1564833687264168,-13.86459542512462,-8.235816278817286,4.445092439636233,-7.917313205776301,-2.500070693569254,2.1220626727291516,2.6461345690679896,-3.8884437544389576,-2.6145680083134417,-2.9094048093234863,-17.34445003791219,-1.645402823446195,3.820902634885876,-12.058775002156288,3.0112665234187945,-14.200375146399388,-5.567945885438669,-19.442117164912663,5.894347445287648,-1.7834214969346178,6.664400352511305,-6.4992884254089756,0.06426886362501627,0.04456918214446351,-4.728563223799053,-11.484729710613651,-7.4379928659826104,-7.773592152642987,-2.592506417190775,6.847265683011766,-9.490594348108885,-2.765763881486855,-11.939113705950101,-9.250008059868408,-2.9293239909972475,-18.67381963451482,-2.146492744953697,-8.622043351594986,-7.263651774883301,0.8904021625798606,-7.589799939754954,0.28595727611985056,-6.057549131659401,6.474873617882426,-3.455855803050189,5.803037515730917,-0.9420930443210184,-11.291275147835242,2.1854598994905277,-6.066859719291975,1.4808809041166242,10.67044498759467,2.233782909578939,-9.135919742889495,-14.247191133809118,-3.0597965555481754,13.785530008045578,-4.863035876023652,1.782957661572667,6.00263163552298,-9.892259329731537,-13.986967801559029,-17.683786766059356,-1.4911991153902027,-0.25187785035628485,-1.8806294130114147,-15.697895215533382,-2.9371513292351006,-7.668679800814263,-6.186290121772502,3.4023583681911984,-14.544493056613078,7.313009936449463,5.524818655698925,-16.12392555454966,4.396660232302651,-0.9893705214206472,-10.126286266701069,-12.660974611025713,0.11398102190483153,-7.981692828281593,1.6323838451463217,-6.733156517089107,-6.71153771351173,-3.627159280471555,-11.956355654869451,4.488152665214963,-1.7458442792437632,4.7915990576800755,-11.25071142217707,6.821300942436728,0.4293712741681377,2.3334631629845424,-11.351662160939497,13.670845502294513,-1.4611165678708882,-8.951270805852444,-11.5478466398342,-5.342845235337638,-8.962415613250878,6.786012393485401,22.155685926766207,-2.9802908374933668,-10.975956533669024,-19.618829678155834,-7.602915459585985,-12.275666116375024,1.9789427802033115,1.1408783074072266,-5.110394611058201,8.383700769359498,11.92751028208723,-7.553465203970706,12.47479702109844,11.927533150858903,-0.1436785555434287,6.132920008983201,-3.161563520081872,4.95045134793394,11.375218020091044,8.051080118467528,0.39412183561610103,3.306223560924208,-11.65370936792805,3.973685657626348,6.973718206029699,-8.862294601621416,-16.06182386993532,2.1618265236454794,9.2487959841428,1.879097434278141,-10.695242851574008,-5.39423740974151,-11.204730526283955,-4.9594254256751595,14.380945853295076,-4.839605462455691,-4.531904249870115,-9.446960948520754,-11.869768863170423,-15.854717644273386,-5.370889732186822,12.827619363955002,10.335534165371309,-1.6690688331734476,-9.111399780111098,-21.88280804250326,8.514219425003745,-19.03257692149257,7.286045544725686,6.90188652232207,12.937112189290692,11.243694093775431,-23.74870943708622,9.616423868598243,-6.687658635331824,-2.932524900109892,19.916367458751303,-11.64188068208637,-1.0416739684445764,-11.860579677781608,-26.36598864991279,-19.38983194233825,-3.968561399659712,0.15780416854456275,9.827504374943786,8.985548950399107,0.05009366059467357,-10.876842782041678,13.572521556204444,-15.299819783996917,-18.63828884809063,3.006675952122416,17.18507124588241,-14.827575382412265,2.7263265165712385,4.640895557512289,-16.766355166473275,3.352268947750029,-9.097363309063256,12.180460898802579,-7.671885864156656,5.7788707263892825,3.4492249173025638,-2.4040661397211887,-3.304062271615178,-7.982437038046528,14.491235074163779,0.9021013858823157,3.383066197389918,-18.303513763476,-17.17491259548127,5.595531404933941,-0.9668047336098206,5.176820351791472,-23.914673526753724,17.739651079496433,-4.002115924150909,-23.135842062780306,16.553426743943895,-4.822788475197577,-2.878791136430089,-10.601681260130622,-6.498413043735833,4.4633441824367655,-2.7583581587631536,5.867246055448694,14.070435436416723,21.65678811485712,0.20198884526705418,6.155023995065916,8.658864027667773,-10.935985224929022,-3.7446150254872315,5.321618506807086,4.253278808437215,2.7019861149266413,3.4726982028699847,2.8874540216293068,-6.7221407185558295,15.981737001799697,20.602098452916437,15.255059260430315,-12.829536642693173,9.050713433087852,-0.8801707665039895,1.6010819739967068,-16.75913730625603,-15.192910625453784,13.695936059623001,11.172883427708493,-5.8382644502348855,-4.4654015009893,4.718414120975171,0.35307236231727734,3.1151648365910365,16.066407266269255,-0.004347571043663841,-11.60597137667071,2.4858456768031343,-4.149239974147273,-14.25755475864529,3.3814926860945906,-3.084865441268207,21.946806418852887,-3.045754997864292,2.8815724592389462,-7.016198463248623,-3.899657195997722,6.907727244000958,8.801207469619962,-12.734471837993372,16.779504935033533,-12.01099996564272,-9.397044951765928,-15.85428387636134,12.383583726249,-19.354745643565927,7.555058576550934,1.289477042172606,-13.300151585919545,-6.195184346770467,-7.023450592450456,-5.99657126764369,-4.541901706896052,5.610956303679001,-17.74204309034103,15.84228014202074,5.933996473731612,-10.804021026698633,18.357632115028615,-11.394442861488644,12.34405011091063,-1.0282357424385389,-8.338675508180804,14.239780494914841,14.520919337176759,9.454939089125864,-6.054174789948704,-16.33458895552353,0.25951744777610264,11.128685877772064,8.786940661870378,10.066561190871894,-3.4812803448578213,19.867529751106613,-5.321430570920128,5.759131595899484,3.1785659916436666,16.190798199081797,8.78822317454656,-17.70551562737217,-9.705282673380866,-15.949708544129546,-5.138922685258886,-2.9858032514997777,14.43836612556366,-6.7991259511056485,-13.982009703066547,-1.1544109465007744,-1.6653881188972945,4.007320484561511,11.29911526037956,0.385798204671829,-10.42812855865576,-1.6480712923692595,-1.7454550384509608,17.300539956257744,-4.756445745922627,-13.75324737744347,22.09759209346329,3.457759189006684,17.498223279111077,-11.995835923526492,-5.051428007034106,-13.23931398529435,-25.465876335958086,27.21658641923861,2.04069602033101,15.736361657751452,-21.945858185502516,0.7217666269742744,-12.949920616452854,15.212399526708094,1.7790987331293902,-12.196585516620054,1.7854858595592282,-7.992200230012091,-23.35564321994212,15.340361058222738,-6.861584143687289,-18.361593166047314,-0.46027213773282627,-24.029620253959884,5.488406017440149,-5.2300401459040895,-26.27458902452255,2.0478264934306813,-7.985203484105602,15.5756346050007,11.073668510286465,9.771750897269548,11.764994698487177,-0.5238152064997038,-3.32906289915913,9.714702810641956,-2.0721778096979437,19.277407142905744,12.981225023145296,-0.3793811966970516,-11.507748817011889,12.809593597906076,3.1759174328248347,-2.005582761578019,1.3462219612565653,11.715127088207572,-1.0205935274968456,10.242865807323758,-18.822354794682592,-17.778409754119117,-7.089652166382082,6.705605452949554,-7.593843216532687,-3.3087467410887688,-16.90908503189136,-15.708555571142245,-11.516506338841678,-12.373313710116829,-13.258208850503856,8.488598457529823,12.040525163864029,4.083269283315219,4.621975710345124,9.781682795981894,19.049379535541508,-17.220973036796828,-4.925563981800073,-2.3967894789539312,7.823589563258727,22.154123245837514,-3.8751665177955332,-16.47555827761411,-1.3708695406050098,14.439424687311119,-14.449683745904924,-19.107367761730714,-1.6273281312469225,15.5666082622267,16.682043748910477,16.89222767009452,-10.830848668644093,11.20917973977496,-3.470646297508033,10.258855326347213,3.005216066345955,-14.359977926753965,9.127420676808699,-1.8977180295379912,-2.2844328319107636,-23.40966769006283,4.707766318578834,10.902634659022695,-18.0683525856939,-3.271625283083665,-12.49189343760094,14.195190915671306,-4.248328726751407,-11.350577032092666,-7.848004607213383,-6.21976142923624,8.984729868168793,4.732359893270723,4.114826815368406,7.642971047149882,-12.273051399337096,-8.278512858529485,-8.720401656922041,-19.164306627109344,-3.6274471802757824,2.5246738335213412,6.6299045349378325,-23.157422961606564,-6.549382225005083,-21.27300525018432,3.4764876504163817,26.147110098319743,-3.2016845942540484,-4.007745638597374,-8.188287407426754,7.527124146765586,-16.653115941411166,20.895909719064964,-9.90078668537592,-6.901213561825058,-4.690335393867433,8.505035255035564,2.9444940543163955,-3.0877304433227115,-15.268907817372627,8.7330221658898,-2.568017777492505,8.228146153059411,-9.51529627907275,-10.265509355627177,-17.723853900018803,4.008242009380745,13.515990666158528,24.8732410482527,-7.649804490425821,-0.8234925473222661,-14.070537587039501,-3.544500094085617,-24.159931223510686,4.579631090856067,7.373929691303685,-19.054777686092624,-2.1312318863079343,-16.842178228352044,8.859361372926124,-21.256417010594202,-1.1997828409092783,31.288839680658906,14.714434746163475,9.912012873128344,-0.362242730307904,-15.815881267149855,21.417031150417248,14.488200237540863,6.434589987486458,-3.8763160582958425,-1.6669919521508176,1.233950528127423,4.334180402548417,7.179107787756283,5.175118218490633,-6.828630571972299,11.663027850261857,-22.888388524610157,2.9911312388568345,14.366864701289604,-24.249829294643575,2.325879796452382,-3.3494874473977587,2.5011332195459217,-12.640703374333869,16.653512691799772,12.843713281879808,9.454769611574124,5.334995953656172,10.685234502042531,-11.801129844428681,-12.947403750320102,4.967886395651413,-1.013311433152233,-20.690574825106253,14.202089500125776,-13.5437069990866,-19.468738226014377,10.725266759583935,-4.8030403432795055,-16.535972036639915,-14.540708553047846,11.812852691426912,-1.2544145238115987,-7.887396565287103,-12.966891867225605,-4.316169211802902,12.106085933665785,-13.17072664781089,-5.309412161576289,4.733508823865214,0.1782822198726954,13.268751538354577,-18.35469481070217,-13.259179555318308,-14.005046079251379,31.270096441284693,31.30117665935881,4.2376873782023115,-2.274380407914421,3.220961317163297,0.36646535050164397,14.117607735786098,2.2049049298148136,-21.643544726726134,-2.1107267912887835,0.5927078340286263,5.171648177573998,14.221702158511292,22.95942207014254,-4.969728022567844,3.7433018389904475,-1.991998457960531,-0.5481683520935219,-14.98708757062595,9.391701636465292,18.17217187647808,16.27848637596998,0.3080183520147314,23.501089235937318,-9.906250244923013,1.2134603887778916,-7.800840145220018,4.602831610043838,0.005688841224418685,-18.64039119566029,-6.02861957917405,-6.439048178795366,15.782926379501449,-10.26651317560894,21.30823712501566,5.362989303919759,-0.7955308554807297,18.384219551390043,-7.579078074562097,-13.981308854609113,-2.4805638752843655,-1.375618520852783,-16.0732613121917,-23.50525089200233,-6.200253032198887,22.96075158741363,-12.852605844375327,-1.9645740207547258,-13.431728462680088,0.6925908332052007,-17.360484921422554,-1.1685417323615497,-24.487870903661225,-9.267498487424382,14.199371330026086,-8.837815924245472,15.492582432890226,-15.003566963779571,10.515730874763673,18.8263258630348,6.4353225098664995,-13.273875968301372,-8.003924751585528,2.6737988035512847,8.144982431856187,-6.747202888735185,-10.352524039201658,3.6640214955868013,-6.642685329328878,-16.914067264983494,-21.182320127336283,-12.358435498042082,-12.814725371385409,-1.9039936731629905,-10.894411679966163,-7.776279508924374,-12.853437747658873,8.935460802184478,7.542633604518311,-23.096955537501227,10.747130631673613,4.150163326027115,16.02190957723267,8.097915165809262,14.243468786646757,11.912673060950993,-19.036768690021468,-17.074813430033768,14.160111589446768,-25.37432391586234,13.503848637393068,1.2639199778867163,17.4499950511849,-17.608421625598353,2.9716801910053223,19.803999524506903,-2.9377141791527572,6.776871109183092,9.377984338056068,-23.08361018622597,-0.4822367943721605,-17.354314669494304,10.812932648308148,17.651161928154416,-14.88970298817224,0.1353180998889763,11.171809823932557,16.508626269350785,-0.5959645443610112,15.140922458261606,-27.11372198763979,19.070542040937653,-24.458671322216983,-10.295951748614417,12.563913607605597,24.007155677008342,-8.527426050499615,-19.408040893679463,-13.25601057940364,7.179598724741286,-13.958377319046093,30.71618900084839,13.420011533864093,-1.079351683408589,16.43533623504154,-21.59126172404186,12.205113623994345,-5.448137281036189,-20.50208461682432,-12.591781668054365,-18.35204697503201,17.30326172994384,-7.804509168845376,21.334819357852385,-20.86803116440144,-15.610880842907685,-3.87369880879698,-12.62165902801431,-2.3369794134507305,12.014509667319677,6.541729324199512,-0.06253771381830553,18.654552167769054,-8.073902467644697,-5.847793089069847,-13.18064323444752,9.453078134821013,19.273179245013978,-21.234267065465502,-9.486634363778421,13.638678163663718,-2.0926684425165365,-13.762109529593534,-19.452095419716883,17.337722646883652,-5.229713485889668,10.13530139741399,-11.979946812649246,6.612741597419349,-14.991036374502885,-4.475492794526398,-2.7655373958984515,-12.474305103885705,-0.7277898543820205,-20.096439782048584,12.818097100126597,-4.986891616677311,0.8894160532683669,22.599407930584157,-23.382428393019627,-14.426765257343892,-20.091675668988525,0.2400335580738815,-2.55896816137301,-0.6826549459515555,-15.240299297968239,16.210266146126724,-16.356528354422068,-6.840987410469325,-2.0593248198888707,-20.97600119022945,8.962750776480968,-7.472841335612412,-16.265917704363932,-6.363725599184231,11.059119090340936,8.508459494521858,-9.678672569123318,4.320185362588273,-17.54607161661138,-20.585379339924643,9.55487811974061,17.15069803894704,-18.44580122139947,11.474913227548063,15.051091399288255,-18.894459866670363,5.743716106680552,-20.502051850895587,24.900424407742076,3.1379515537512086,-22.002296019032116,28.61575544034793,-2.5567184394810853,-9.277179574540058,-13.541053818141158,7.337570385894891,4.106443295719259,13.7550339919153,-24.113215029447105,2.025663136289979,-4.819716921461359,5.1073407142339216,3.8255117929663913,-21.507480806578517,12.04643588905064,3.0330149798641175,-10.638302954334662,-20.10673128650158,2.6810297616366645,7.634879152282831,5.397330060521732,3.028957562246303,-17.76901768549123,-12.121750698700437,0.2206033622715693,-10.137569687097878,-12.05590912807424,-4.855453113588675,6.14715062900664,13.0847224613609,6.492056132057591,-3.7414555350650733,-22.156351259661744,10.490243570425937,21.107348015636525,20.57362631132653,17.317569229942976,8.09127918520833,-5.511771985405978,17.35331129527066,12.900917888221349,-3.890092831372319,8.972161492333752,-12.22764953514167,-22.27190045574328,-16.28919246501411,-14.84790387043948,-3.890696016802386,-11.919656229525588,-15.192102854865785,7.2014993942694305,10.72311107779642,-3.6093631144075218,0.4036542357189199,-1.866949040355378,19.884691301156092,3.1479852306056495,-23.850803533521894,0.06248497061586841,0.4233192464303946,-13.976154775783806,-17.238009140556432,-4.979308548186689,3.988880179067531,-17.06915796386857,-26.00057513350258,10.896730559189994,-5.859463471524355,-5.035365033848213,1.8299920898189457,6.5963548202701165,-3.3192875122246996,7.7286950109349855,2.843823019616168,7.32337993191851,20.035369500533314,8.336908321107721,-16.37725086469215,-2.218575321114017,-31.439722322696042,6.777185502722507,-10.012552394405633,17.842055987882613,-14.253466444560617,-6.362985133979677,-21.64656113426115,-2.1449913606609607,-9.088863102553422,30.333062486904595,-5.193595413083334,5.316293580615115,3.971813507695655,2.8944786211755766,18.13733502352723,11.06322118118509,-10.83266986671681,-5.814411548681625,6.8083495190644365,18.295139679400435,-6.028839562829924,13.088839182293736,-3.7090108922528673,16.1363002071475,13.065769137766251,15.902013687519352,16.775063512709096,15.987258592587688,-22.98147446517468,19.08649471828841,-5.995599863428414,-6.6800564257082495,14.886275364952436,8.205847776726818,-19.509083709838254,10.595001447608627,7.515002241363398,-14.540310969664565,-18.638166526541358,5.733327284330148,19.580432193517726,3.2209973437584534,12.552720561446957,-10.803906820105938,-17.175325604378624,23.876936757013773,15.261753010552805,-12.616499111668734,-18.07077519500284,-6.522339066535932,12.08214456555073,-27.644972447559883,5.533402019527861,7.962859855808609,2.189476320974138,13.856885107916112,4.583547221801683,13.806833189480672,5.945779004594803,10.346882335517464,-26.485717215264252,-7.15489861706325,-7.920022483999325,-23.608682605471962,1.0881226347269053,-5.873950447804058,-4.78225449017179,-23.76021322221872,22.31648255155522,1.060197585537992,14.49180122972372,-20.89041823629108,-13.496788311244645,5.0769626188539165,-14.67872187988396,9.278056075383548,-8.94500018800237,-14.779463894627261,-11.155831832595233,1.0867627500741792,16.58290991134171,-17.808767397128783,-6.847941738866097,17.702662858008978,5.018103880635903,5.729197812640891,-12.090517165987361,6.149270847377131,19.25588342100731,-12.750504868934804,1.834777651073212,-20.806611151481583,2.52920373257297,-5.8980157102724675,12.879207771647273,1.224487124600791,9.810663214603139,7.904081983366789,-1.141031093883872,-8.486354764173539,4.640617329192257,-0.15210972234334066,13.295145019716628,11.862703295725415,-12.291461073588732,-9.039784126768982,17.260948533665378,-2.1946523069578037,22.94936174280383,14.931426094403198,-4.065323058944479,-15.682311296406628,-11.87688434785823,-15.307500507167607,3.2142314946611172,8.147978793052614,9.61181657712519,-0.9268106082361939,3.2851825207741503,-25.791262696422947,11.21996542027467,-20.4783712992586,11.549149422480339,-4.376030023477948,-0.70843262564637,2.419822714038811,-6.787417818147613,-9.811179693132095,-10.169923259886465,9.106949311861861,-20.632355968273874,5.962287333629267,3.948270823538295,-5.18194036054166,18.393107779240534,-13.169585774661362,17.10065559890212,16.024293516319634,21.2429380589411,10.54724757720281,-1.6700599354533332,5.6692310997766615,-22.270627966800728,-4.956523241102188,24.211568382180573,-22.05029679449249,-11.050145268619271,15.474847248156216,-6.598132395999397,-17.658475987303447,0.5993838782410303,23.8622990258616,5.581868313200235,-15.333227943026527,-24.12689934125156,-13.275844726395873,-21.979149477036017,-6.245428352929612,8.736083741979902,4.339204143488813,14.589217074906008,4.508517319399566,-22.84336333983529,13.523081171158475,6.952401826166736,-15.02214146890403,-2.072711634367343,-10.74887585975433,14.989599634100673,-11.264645233181929,-11.554212628671005,0.8363055403902886,3.6261261901049955,-2.8744299722497084,-2.205164016771473,-14.493697862900056,16.43664887492973,-9.890605547398383,9.48854216844951,8.862563133470948,-14.773197867196865,-2.8767925785453428,16.502829735023518,-22.460824279664347,-25.214610265401323,-6.821761316970158,-4.213925492160675,17.938339959518775,-24.559524855573,9.902788128344463,0.11820309833897337,-10.426618336762795,-12.519861906842053,-1.287547611181826,-10.692992098922128,-11.257581316045554,4.839298380530212,0.8461946243105782,-2.489124401407276,11.330991166560482,3.251135720750306,-4.448587338420238,13.462629270442577,10.248332104832425,4.435119109269306,0.6060835300511725,1.4166242922857288,-16.65097571453689,-19.229223724959656,-21.47890223254337,15.44595821029472,-9.288891562171148,-8.620503174456005,17.119601498114662,21.211955700657438,0.6480587882490331,-5.685766258348387,1.393395389684202,-5.927480372598007,-14.46712898134915,19.788216557676012,5.512495203567763,-8.951248684874894,18.20885499685585,8.166603833792278,19.48586755375169,-2.3496348992736493,7.763238467443442,-0.06466282788305378,13.830536194202454,-9.852674391094387,6.808480867682314,8.0283854584748,-1.38157388901489,-8.575562910734087,-3.643089750640808,-3.9079104558323237,-9.022596982274493,-17.90567974623648,16.445675860926425,-14.064502829112822,18.81904504621741,-7.92021511744116,-8.864655622570183,-3.803191550908966,-6.464081644327821,-0.6003712328698556,-17.789177510392275,-18.254735954733817,0.10414293787953666,-22.00128695195785,-21.939177555763326,-19.24102803826295,6.598813765260325,0.07982126071089594,-8.091682278980139,9.323854190590827,-4.330645724359194,6.432165065687077,-24.67112795790487,-10.653058774358671,-9.51180946056355,-23.56727160022441,15.332541444262342,19.953676405889635,-19.242609287082917,-19.741755028539878,-5.547798692975062,9.77879789052453,-13.275166733881695,-4.371362366506173,17.30303240925241,-19.10182705270285,-18.735294079187096,10.463711480026724,3.147329824881663,2.361672834016307,26.979110851455008,-20.451780957313478,-13.886315980356814,-19.253757580692454,10.879653591009417,-15.689551946465166,8.493745130319104,-3.48326407649423,-6.962143263859411,9.839637175768804,-19.298865954704596,8.620355119203207,4.2438500772443986,-2.4019805143731823,-16.73457272020442,23.190252543360284,15.272763267518227,-20.33089741404561,-2.076106718424975,-14.123330879425154,-0.6615011522628781,5.541410834645856,13.648294741534032,-10.792640352638683,13.092432842671647,-11.413539413322875,-9.557359877161092,12.599608762346472,-14.769465677095054,-14.244794105842898,6.42337628299448,6.259895938110105,21.180187665472577,4.537470188158125,0.4351280008220021,3.281858282878883,-4.30485229411352,18.479312946185406,5.230874733804262,-8.08934554643901,4.39981584920215,15.65885137844647,23.26551717299283,-16.31780871860382,13.932872307500716,-1.8619482581021591,-11.708399839197627,17.801481839024056,16.59660585971224,-8.36043928329172,-8.62800642575013,-4.412553392498917,-12.064983957030245,-11.66907021543353,-7.823002301359376,-5.43713317415881,-19.823458145408622,1.194082236837995,-5.230865727269353,-3.00578417515493,1.7112296624716319,-16.61493125993477,3.8928367575329728,5.737202230201404,-7.627145199419145,11.62801873603913,22.823403536030604,-1.2748949600683068,12.741668753204141,8.919098357412441,3.2599639711490744,24.21036071204708,12.76160980632825,-0.25428347543459445,9.626638894580896,14.276959180990561,-8.388531206655271,2.0539704292520744,-0.16187102887866928,-1.5361581530310338,-4.6105235197147305,-9.721767750864,22.52752796147016,1.1564778569158487,11.495155848410365,16.78362401609657,8.31524061731689,2.988332608739308,16.515032428107805,-5.54775189893054,-9.338965167353445,10.010768371604387,-8.298087186385043,3.47733724265077,18.040375266886972,-20.300452220207305,-3.146410740436281,-20.440187426270747,7.932271534977876,20.306909884455337,-21.283120332399815,10.399353119915693,20.927503591887472,11.355466515045238,21.005812388310737,-20.18314032201619,-21.513958539185793,-25.37117862686935,9.659243571657845,0.7998717610338675,6.920147066512367,30.89936832400181,-15.220821767843482,-6.250669824104176,-15.049130395724587,0.10527252786885839,8.79827467794444,-14.822793678938712,9.646177880651607,2.503084521404524,12.79581284618216,16.642353332139763,-20.1841775624124,-1.0750196607519025,14.968081524666866,-6.03078146577016,10.60463708402592,10.504761931413542,-8.193607229656314,7.05733842091352,-6.03786585975673,5.127807760130894,2.9962648254337836,-5.474077630643626,20.471746324752893,6.769504305868202,-1.9319139276909647,-10.581853901473684,-1.0792915244943424,8.326431864415811,1.6651487827416758,-16.654191695394964,15.359640084819498,11.47165209983463,-2.7016620822984376,12.39462620313696,-16.081471252523166,-15.782556287271216,-7.202466991006383,-18.653883468166207,-1.878004311039473,18.179153766057354,7.934827148392229,-16.016495517628424,15.610971786529987,7.530058581350951,1.1994707464561987,-9.615344877417813,13.632445966406712,-24.3433440974811,-7.114010539521894,-15.18517399205315,-16.957675327142823,18.41876751589214,-0.8321395695152332,-20.74544705405235,-16.9938323515291,3.3591798613652903,2.582717530932868,3.843211996448377,16.12896703644509,-2.6029639327506717,-14.048612118910059,21.733046667365496,-1.5476919888669982,-20.24392155298943,-17.207369174515474,6.355961745573874,-16.211761123432538,-20.70368036324372,-19.61925201781748,20.368064469619558,-21.613043551124523,1.67374065706073,1.7521328679019024,-7.0351049795875635,5.344952195419514,-16.4148822931947,14.758257309642508,-22.288959780712798,-9.996874801995547,-5.943807480927005,-9.7394181405952,-14.176571545360956,15.630791295053223,11.12368832014857,-3.606450635858371,-7.113573053536625,-22.00051149054977,-10.35609581897075,-23.005354321470804,-13.813902473235835,-8.984772093698709,-4.452229803268448,0.7013305573168351,10.734530761609443,1.851107058253403,15.96878820021379,7.448909930392906,2.097145178341222,-12.24891492136873,15.137291609633836,-2.2640708738146773,4.401768496380176,8.711732713503157,19.6052783440189,-17.398000912619644,-10.78712630808936,3.713970041317438,5.889911338705518,10.690572257568613,-20.379352153034187,-6.129757593533224,6.169380719823937,16.843276775842764,-0.8995411938092053,7.581871029769801,18.47251835113139,6.515005996676742,16.02175622199218,-18.9397273657608,-16.83456285581401,6.502401537742541,3.8454720755412386,16.786735566189382,1.5897873588470088,9.65801164995466,11.980283295642343,7.614715455397723,8.29615295844476,6.885367850861137,8.049808883047733,-17.413705128592255,1.227082485447298,-11.885933676702479,2.4653986177601137,7.415755315292146,-7.89608055124914,1.72988319465897,24.498298309354976,8.668709956197032,-12.88653995796085,1.189694006087807,-16.909588441427967,3.3328706188184394,21.836113052857186,-10.488257142553788,12.664599056802972,9.181352722636174,-4.079610928109001,7.667320323132336,3.0210825360930844,-7.920992633163029,-2.9829770540835225,20.907258253060533,8.776390978059021,-10.572925664751386,8.029630009600863,5.87912195349603,6.919318321674038,12.350761486490791,-1.6586581265881162,-13.384092547976033,9.617862613463501,14.343722469658134,1.8091692374553143,3.416773783262312,17.12052198220997,1.7021106834205253,21.088570206138403,-15.082665643380837,6.242888782155722,-1.2446856034311815,5.344594267512033,3.3756200015025146,1.7354804440009703,9.359649469445031,-9.44926803945369,9.615534035061629,6.337404420024544,10.167928098031318,19.290706781630206,-14.133542701327716,7.200703495645679,5.555876067000654,9.186130840241788,-23.90580464840124,1.728939228227683,5.129506234695123,10.665663622357977,9.711676322596048,11.188894755278948,13.839715156734364,-16.838244454262068,25.57634938912514,-19.48965065606319,-14.365474619758148,-14.835940064891604,7.180398652479479,-20.538228828505673,18.393103388119226,0.9277529471841978,-1.8121690441854685,-8.91991635293739,-6.043927829808701,23.891708830331723,21.737104575485517,5.811399706369396,-22.40724300626493,17.733799218739364,15.334662959502227,5.680527421490392,11.430422772036687,-1.08094943893043,24.752640058516448,-0.5709871503290931,-14.717477053227812,-1.0277139210151651,21.630172286809266,14.680461774511402,18.782239541933265,0.2738599219150882,-10.007878151748479,21.76695644860551,-2.9630975135268445,-18.91966118595742,4.432513918208278,0.9569792190679424,13.933444276602009,13.925256037771815,10.792594282299882,-16.13761101733517,15.89326103792537,3.619381714014296,14.277672239979898,11.14996503466169,9.833689178690987,-16.9943932377968,-10.146209969091226,3.329025584292495,18.468758157329034,-4.594001493664732,-8.086660516776503,24.851338885364317,-15.780784719535506,12.623804680623444,-12.887179763656901,-3.2109233640944153,-5.672061904739706,8.224679768844744,3.667981565823378,5.489325603906926,15.73416256365921,1.4178886483587767,-10.817936850122473,-11.44757464529515,23.058958861128687,6.529609678778125,17.072554911871098,6.838850219163539,9.330423391768537,-12.527026392500737,11.352245470614188,-17.780573800200752,6.918667658684837,12.282515060013484,6.458774730591984,-22.698270483363878,13.230031341653566,-18.83171125796153,-3.544696459075187,-10.414063774046047,-15.409598138459375,0.746941615342064,-13.608394075963448,-6.069831226893346,-4.998663598481389,9.878436864629567,11.956770395002417,-13.304541742415072,-11.88109246784082,-22.98915667781412,9.540843894340231,-13.381822594730787,11.401890107194316,4.319225738710818,1.65527221506807,0.0002496714908028323,-11.623486764845724,-8.108904918140404,-6.925239413339567,12.675878693901199,-5.06861791874819,8.688145920410953,-1.7987833670679687,-15.497624918312498,-6.022340703434492,11.24022073722052,-13.010953320945015,-10.51623943810651,4.721641701718025,22.43704231212006,7.804166953025207,0.8859823482159985,-20.36549566567666,-19.203736301593832,-23.043173532354345,-4.618188897735492,-4.350157672185357,13.578286101719025,-11.904831246081773,2.2545332176375967,-18.40551953799461,10.395872160952537,-3.886113683488651,-11.918918015454171,12.667567785873914,25.230422642828962,-20.23352769276353,13.764819036926037,22.96587233673213,-8.015389555963688,-20.14609691481848,5.187795936610309,-6.198314148034998,6.717621407969499,2.6760869098723834,9.221692928624076,-0.37265683912814573,-15.952119541482658,-15.418604957480039,7.996558764374417,-12.3413818096909,1.2360254619130073,-22.97249285092966,14.851007126858905,4.9593044953041625,16.43824362584887,6.200473095975991,-7.178357069314378,2.735071358226872,21.385770656806816,-17.362729595051807,-0.7268988474949334,9.72529367785008,9.653328867630428,-18.673899149521095,8.366509968619606,-13.91381787531157,-8.781161939587662,-1.8631205522342078,4.974670956894405,-9.57246358780784,-2.998908380021947,-10.039411029786342,15.162723487392379,-0.8024618607841683,-6.894872672847007,-7.814318892274938,5.645069889934952,-6.94534502509239,14.24437432338463,-16.1723233342076,15.691522560935656,-10.683548065064604,-16.83624324971291,-8.000865308779007,-2.9356109350259705,-13.358847848773701,10.306529419211882,-3.337512882662358,0.8467282255000439,10.820742405223168,-5.7846240803427245,-8.444974195688662,7.294897452317506,3.5619752673676794,4.3758575092971945,18.32438340615875,2.1696833002873896,-9.232220424668625,-19.56789591907687,16.016728875345734,-13.249989546957291,3.595690177983637,-6.5863519948802045,5.420523870187237,14.397151587204647,3.1365979178192473,16.368316465060108,17.01000696308942,8.610283178053523,6.078578896861552,0.09839520981577093,13.407064514291898,9.336665428239524,2.0799516032086345,16.561122643093267,-1.3588565906166226,-8.767764992049285,6.16084356672134,-5.312713800531075,16.81366338566069,10.288719036963519,11.0679755452673,-9.667058528857158,-12.449256289123344,18.469196822521354,-8.539571851408601,2.4365344127665924,9.369383032181583,19.378758712559573,-18.41667196956397,22.872931752587935,-18.8975760411879,10.187199359813365,2.735480785667794,-15.349080414955361,-11.768186185092455,11.030279224961088,24.687000498221465,-0.7654234682734021,-16.415615599408195,-2.5513252699074336,-0.5507749033833306,19.348176239576503,-0.7784183533399157,-5.614964968276382,-25.37767196395535,-7.01915194071775,7.003059179554486,13.033795957529117,0.8421378431797709,3.270167356306431,15.131394802148824,-6.718562117931313,-19.43113788055706,11.185922828069728,-16.159359925633897,4.583964766459752,8.446807776197613,-3.6074632217345237,14.860698298794798,-6.85813575716527,-7.117938074052998,-15.965455227684435,-6.023568291218348,-12.310478097555569,-1.948528369927237,8.926830581185541,-8.172143588231407,1.0618058605041456,5.368736616849813,-9.825501829400778,-4.480849644721872,-11.948889915488577,8.667339198621171,10.813009517302932,-5.100261556903729,-7.147911732400054,8.423323154639036,-9.098236991935241,18.27025691359098,1.5762461398613006,-4.406009699882878,-0.019600261972500074,-1.8332199359486803,15.184829778356251,15.956328345729052,-7.825258887180704,-7.560393945795299,-4.326486107681138,2.9793329216404048,5.7041449133541215,12.287401231168491,-16.05950963346027,-7.283818486705993,-6.062555222507623,1.1370009575813311,2.8198346885573526,8.257949922600735,-12.154204114904964,-21.541760694632803,-1.0509212471017058,-0.6193728206408903,22.158293799117054,12.807604375658892,15.968127588903752,-17.154956703569436,-4.835005439992546,-17.969571291674757,16.895334671796288,-17.163619051069812,12.05220448541207,-0.8356742713337133,-17.791968105685015,14.943206584340224,16.169176267532922,-2.931711948073351,-19.450878800930557,6.151234164176585,18.994699435470555,-10.499368489068372,-7.933129899909613,-31.342245834228386,5.017665582067208,-3.5393924173255167,11.534125680917496,6.543842818533157,-23.73919477958006,-7.195785268544125,-9.144200244758872,9.037674400313849,7.445269541497248,-4.2977889555944335,6.453908074038598,-6.906276764181065,-8.3431107219585,-8.618836245204744,-10.662114526023263,14.053850917175025,-0.4375208990337379,11.947947716868889,-1.7448458257015231,-12.545917334527298,-4.849499547537965,-13.14957429100816,11.081072506425532,-13.430435073374392,-14.00006254841627,22.668155844200005,-7.925547913974545,-0.5501395144444555,-17.545065563591677,4.131861703485406,-8.001556594489022,-16.214831007208737,-13.235639772855603,1.0756193158793903,3.8726147850983317,-2.52034232047296,26.973708165578216,0.6901235223134464,4.6945232212363734,13.349919301696039,8.088338514658822,5.878861425570942,12.868244694843915,18.15319137619098,-4.571325129246441,-2.653748532631155,1.844255278153942,-11.298121485317678,-5.3411490455450865,-9.872778727369607,-0.017496927263636233,11.314591211347485,8.83672427398753,-2.0373875071072978,8.687449593869697,-23.007211206733505,-8.491285585712744,-3.3350094743715855,-0.5172294752249612,2.2158873042467047,10.613022266025292,5.357472750395193,19.143051786085813,3.965817630366728,1.7451084591894575,-8.8695789383044,-7.327998063398906,-25.30828433809224,-11.737930616098028,-11.212848591729223,-4.659847970539351,-17.434859493690546,7.225311886008984,-7.445947169826501,0.44512557961993154,9.63896958188711,-9.41607583393246,8.127688685132338,-7.736098925482868,9.800240477697063,-0.42581429871427506,5.608496279787204,2.906369442006128,-17.97288085818639,0.7324881183485539,20.58734753388477,-10.106781566630913,-20.72525328051924,0.8829705263708032,-3.0149219566843364,-8.186747624549646,-11.719004291866133,11.46604692802966,-22.197062879139022,-14.625601905518744,-15.636888016302997,18.102014573318645,8.828696560981848,-7.230710424000939,-3.56868857891389,12.906277102842884,-10.197825487352992,-9.858775470336079,-13.347088640741656,1.5493405029321403,-18.1192274066976,20.20709611989526,14.71462106186473,15.138050654802162,-19.91521076830027,1.4137411483027833,6.378077691290546,-15.039913970105268,6.34400407375767,3.2890013572980825,12.53940251133668,10.251409046055379,-25.905655357677574,9.692434958806496,21.441249738327127,-8.51862690827118,1.899874071334129,-1.019948969672052,-14.647078174312462,5.141368715895824,20.147269652048973,8.354576529366446,8.046924969820308,2.349911711622156,10.545696996987493,3.746338603224912,-2.7017242804037016,11.500418255524012,-18.2879090647395,-15.827869431723474,-20.542616068313617,7.944548963555182,-13.915087405049386,-0.0868290527840922,6.615690812233833,10.94662661916097,-9.174302318472094,-14.888186756018037,-5.451428804171367,-12.474956155475102,17.930261993097158,-19.534111350800956,-2.796617461240515,-4.619482423540884,-7.917220830013842,12.19011795521612,-5.818472447889477,-8.754947961394036,0.16119889592971512,-2.4988663699991576,-6.285452891758322,-6.653269267570959,-10.81143574573906,1.7785743056857524,12.933737511837068,-16.20181429420854,-10.093575038682228,-0.22835833192278665,17.08126804377677,-7.294068961331496,6.184645487933159,0.7664680972959386,-10.374818088419714,20.758603074796387,13.370648517252548,5.705901320840742,6.878358890909263,-10.800907924496178,17.88003714952777,0.4775054980258189,11.301400706231481,-4.094758030846147,15.671080888742035,11.115648649923,-23.762311658825357,16.141611193137077,3.9086813305688124,-16.436513232736438,4.83525272735374,12.787413379855016,4.3235303003662935,6.710855914691419,-3.48249803754562,-15.655421350871434,3.7129986993514064,3.3627717184528443,-8.873003166854122,21.023532521871658,-3.305362767276164,3.0544282579762445,-9.706480680726031,-5.552197762563606,13.516221498334646,-3.4349641142436447,-4.524708311384164,1.9520327082367648,-13.915699415019628,-7.640359656736736,0.1265526060031622,-9.799325670706546,-2.012618938105475,4.702468160553565,16.265395957575738,-9.679064062428376,4.314189072963129,2.82338907857302,-14.923431934676971,-8.786279669197707,9.4347644726043,7.294951751299861,20.77270075753898,-16.000639844899847,13.04062110619021,-23.38269870619826,4.473781273816617,19.230774194848998,2.576066071319414,-10.427941503119916,-24.49575583702137,1.1343657651887316,24.216101744219397,5.582814353392074,-11.841445170291525],\"y\":[56.40479579275542,5.234146231038512,168.3072233309264,3.3399354127884564,8.442834064987798,-8.37310081241207,163.9867658478151,0.13381030203234423,0.7441734898380817,2.6065444993822244,-0.1783420470090713,270.82127813364974,1.2240574732250744,8.010948218577841,1.1608747305967233,0.8540521465441386,-2.8268217566236475,3.150421108756961,1.8261656373945998,0.028004955634905765,-1.6452070942869694,0.4231428910938853,0.7239193964965366,-4.567436763809095,-2.3601256990682598,1.1790249972775562,2.2390487498650433,1.8125522318093015,1.3771521087198635,1.979511877212415,-0.7454861889218349,3.4674325681864056,-0.8554364379636974,6.509791255235153,2.3188887750116094,3.77519814127675,-0.5055058181298766,-2.1675595838866886,1.9091016616104943,1.238246369586846,-0.018201471260912427,0.4794268862748127,-0.009608363091837532,-1.086706093372442,0.9017044760111416,1.6027958529917214,-1.3369787215901696,5.446905612250337,2.357406109786249,18.44241438575186,3.7645513138363706,1.8852132957743697,-5.405579049491057,7.382982347373252,-5.038133493017884,4.026261752365442,-7.336475164664644,12.948546349149987,4.77231804284974,8.078952608837879,6.952805227598094,0.8073120211256729,-1.9784064118088134,-3.4264319357598447,-1.0670124433905768,10.19420223152682,4.456102075494553,11.573084493291153,-1.277695330950201,-7.477096526382672,-1.5429067650361685,-3.4277527199094946,6.41791413447665,-4.287084224025387,-0.8705916812423065,1.4972105729688312,2.3355548171629903,1.0347605857610074,-3.119522411924134,-3.5317679033281664,-1.7835638777214173,10.66901083642459,5.183750709670533,-1.7377091855187206,-0.9142266279712941,-9.77177083885525,5.360632485346566,5.936296303996316,7.511516271740615,-9.545013757905561,-4.857111222971978,-6.897054186533588,-8.813415135681083,-4.571981741405735,2.0760888962086104,-7.040375802191518,-9.93624371613142,-1.2844368165529887,-5.916692153259085,1.3540671227498007,3.335360533342422,3.239215765943368,6.133980933889932,6.459700905068803,9.203714791599383,-1.3108217220931615,9.259504614340045,2.2485532180387735,9.539072145644344,5.258813375296086,-0.7338498718431604,-3.788729077742244,9.253941421398984,-5.6026677461189935,3.530771224204529,-3.5314011365227334,-7.738699048781502,2.6189849604875786,3.641362231981418,6.001954482165841,-6.011299253522646,-7.049164327819403,-9.653890961175785,-3.9492920075558424,1.564224851096771,-2.8990185905706856,-2.06395426906442,-4.366576677529086,-0.01976014882995694,15.14937412990771,-0.8859016926507679,12.370417718659002,-0.3434857783154094,15.1763109140392,-21.656748005447028,3.3222291399712933,-8.017583122187537,18.121640707648336,-3.830826212056369,3.239733083744494,-1.7467851417936138,2.597354895167746,-6.0113958074876415,-0.6506287883947321,1.6559228649894702,-6.6300776685932945,-3.3696335120948664,-3.7477261962981685,3.222250427261173,0.5518540730200144,-2.8506650545196868,13.350100711858468,4.214271648027845,8.250432896053477,0.15091729927652558,14.648498796055216,-2.221499253158065,-5.934154640051345,-10.603703706310556,-7.695920900668759,13.32679684005686,5.461158248592754,-5.478790586335847,-3.1376606938427827,-14.092274460654473,-4.71084535020097,-5.842147826728513,5.819122519170934,2.3574987101409826,4.312798858174135,5.7698588514381335,8.26941613003632,8.339602259560177,-0.8685100956435818,6.679460446718354,-15.096164172231703,-3.3951421811046343,1.942439348329027,9.5757514982042,-7.3911670556278395,16.986206614303757,17.104083271868934,12.67904515332364,-3.1808134885365784,2.3604880877277106,8.47170304805004,-2.369728629460969,2.839417628015702,2.4921203071582925,8.72891196664992,-9.144776855817133,2.613542661902031,-5.859824105073935,14.274078106719715,-5.647011104713064,9.044885549869495,17.517506304766542,13.804288226412034,5.947929548878331,10.354826875713446,-9.904419228972952,-12.848735194339735,-8.453332553504746,-2.099495062946441,8.0554355962437,-6.961170759763167,-5.124809368442595,7.006561830787407,-3.679961980575555,-6.699387497520455,5.314135586566381,11.933956845523205,15.626836446157657,-24.251083008501293,-0.9764070096031887,19.167679562904965,5.148505607238653,-3.941332689622591,1.4032761231721131,-5.656939060566935,10.27441937616439,12.052576760158352,-7.756652367690963,-6.386342046776971,-8.283297899419022,7.437478580257578,2.7170677295609567,-5.643815006425845,-11.28720399324128,-5.7423074988616944,0.9771526915944404,19.724677411328816,20.568444611774886,7.765457396285498,19.92150269622947,-12.353456076555318,9.672390791746773,-0.8947645029064584,9.075126365447948,-1.0222424572536533,1.9691484160351327,5.609466654261236,11.023806255961393,9.583384312142641,-4.394193659517675,-0.07721372422199468,7.95540397034239,6.768689853756956,17.265572900503454,1.5005191128861406,6.255970312338822,11.155111010893396,-10.939549213005828,-13.820613578628414,25.72007041906515,5.566786119492467,-14.053757715122794,6.1609580987609025,3.422988501003627,0.3461021441984665,9.645971928800087,-1.673987030361585,6.843587200255017,-4.956364011217429,1.5732955882487663,-1.0747348289980143,-13.771141177170403,9.29203962912381,10.054656547887745,-5.7151436213167495,16.547657854362928,-2.575326966525786,-14.374103097506158,-13.038016958890385,3.053928457388167,3.416500138043588,4.615232920070814,1.4868614547428964,-2.9353797474702,5.000369298955088,4.724848216067095,7.07841789391936,22.232527633215838,-14.408446254543806,-2.2204203437810333,-6.223558952737976,-12.651152495946654,2.317919958008108,-1.8758245340934065,-1.9962431874547941,11.107156522730643,11.948625426498056,2.631608578679168,-17.480655284633915,17.371022218723493,-3.055593247659365,-10.82508870401798,6.247037760791561,4.150383630692428,-2.4698933059182417,-3.3481411250102937,-3.9473969031064233,-0.12450304808652307,11.602854938922379,2.214688257048725,-3.461180348888198,9.647831583598503,10.15704685506799,13.111542175826216,13.287027373614382,-2.040871490579876,-4.872634782622257,-1.7674233157847534,8.74826028427442,19.889392530749014,4.307700490079902,-3.3175151400482097,-6.973862115905919,-13.537464116300686,-13.672452014162928,1.6717844173938445,16.054858164161324,7.526590887906217,1.0813809275751272,-11.751438316014303,1.341163710041599,-6.256322523250553,-0.33978610655135444,-11.490073350923504,-9.704843151585827,10.308402539958166,35.74731577811751,-1.8255039387925382,-4.044341984784667,22.448095887707215,-1.5487119886932095,-9.27580005749704,-6.243243024355034,28.032554712981966,1.580281820596718,13.773530988651357,-11.572915165407911,-13.22449407607412,13.084812961089977,-2.2124243995893726,0.2948321778273405,4.044140657450735,9.168411256488346,-13.625639057550186,-0.8740970881701503,0.5580077278046903,-0.273353552844297,28.49508172601287,-7.718476703948306,-16.50727056491872,20.766917213141884,-8.437475266919636,-17.360712010848115,-10.811502405766522,-9.916063014293004,3.4916798254926733,-7.797071285864031,-8.292534493700357,9.141609029287817,-17.85713016322294,22.14169597604667,29.06371414459959,-0.5157457096454467,10.203663819404264,5.44014432030261,-10.256602977726672,-12.363130780535657,16.560065461508003,-3.574625027075817,-8.774398447106673,3.182110895184251,9.065129060116666,-0.8481449987860517,7.491254368766599,12.039534427376001,-9.778132191198905,-19.59636691206507,17.648164634234764,-9.078434617366065,20.428243368298553,15.886550227095308,12.11610102213654,3.1761367392158815,-2.193301303333598,18.92155361022539,-12.185706437184583,-5.426917141709982,4.8381445246188735,5.2118389272489924,8.482519947897119,10.01190002791219,6.662628286437958,14.196854815183706,-6.267215039119552,-5.399860952640995,-2.5265864734664794,15.283057131900192,-5.474346077986026,-6.371336049387562,20.840530394134326,-6.245035018129173,21.9638542008421,9.633542385180679,19.668193520431515,13.365762015261765,7.699724176949127,-2.635773825004811,-0.07865285296731939,4.527792221663546,-7.415758477350693,-3.00559465545971,-18.686945264989593,-18.847125002650827,8.053772008861557,-8.64136198594365,16.079165950953083,14.056533793271502,10.580676216332524,-28.00869501797326,10.538568367020835,-12.006934835248991,2.7200407085248,1.2304732224613908,6.595868610008688,11.53976672683351,-15.104047499184968,8.665849391417568,-3.640478136192006,2.4227277963729583,-10.163855002606024,4.738487577431544,16.72923979407869,8.717083433391137,4.934079448741412,-9.666166820266623,-2.8341649675488623,2.197860494470349,3.2288926770563746,26.638947312664218,19.648557906705733,19.530904721544385,6.037806947537958,-14.48355404456305,2.7609776059428315,2.418764998294005,-3.1753926983980216,-8.363823548107565,16.83695929014162,19.782910870484514,-13.932832577024085,-14.91423912832353,-13.016389716911478,-7.225868031563947,5.093972000360868,4.437275179016226,-4.15570453753822,16.890524041732647,-14.605257007628255,-20.60723432099066,-4.712688337511937,-9.730016699643745,-3.42929731663193,-1.2293925371513852,19.332633196167663,7.899205888879395,11.076302501974114,-1.1809349166385747,4.053189132438176,-6.63245446232419,-11.052467170671836,8.276264137680858,4.866268788286567,-4.53937285816829,-1.9855424726051585,-4.893661774382391,0.4845762295027224,-13.50132130746865,-13.943330838943089,21.75487822341756,11.228989113155617,0.6254437722379096,-7.0991939642753525,-13.111367186653219,-1.5534580121354906,5.650137855815604,-5.239393620776884,15.497077015346171,16.690744579143736,-12.09928093767832,6.274603969546399,-17.13446525412036,-11.964875641366415,-16.30062291692407,-9.155698997850646,-6.813609382066034,13.966475094585935,-6.612809870031926,14.877964269733011,-9.73682536413855,-15.53130519919521,-4.984916141915821,1.452604826193455,-3.3820915944252703,8.139222470184453,16.99710359745684,-8.642161650489376,-16.226733714183354,-12.451212039680245,5.254186860894969,6.446767546037031,-5.057308193557282,-9.417980878288194,-17.32270671043523,-19.601375236807016,8.873106835390997,13.678950098210189,-3.3686207582018532,-9.978392102444495,22.73653762115137,10.919169040955536,4.196646327022522,5.920135568238315,-3.8861964961712894,-12.824049829500838,-3.32193683831344,-0.7895812841230665,-1.2053091134774243,-17.676833771315284,-13.478429382278845,-13.889556181645165,9.237099953811441,-20.857036194812288,-3.7046714365211244,-5.680176350270588,-10.35001127232551,-14.974598195431717,25.278947929746337,17.776356126561343,-2.9478520923111864,4.226871101272386,-11.775265349180927,-0.36580870020157574,-9.544755403364439,-6.1512031279567,15.55795870065779,19.48608193964011,0.9503366659285128,-9.38131907373061,-0.6138417008006312,19.935674905472844,-18.2610749307723,30.608121853468557,5.079186447389611,1.684448539107,6.548415688089585,-4.678090707085495,-7.7765853131509575,4.861387761364329,-4.469824857771279,-2.975737199598654,9.648107841712006,-22.90508094603243,3.2723160470206905,-17.215798213726078,-8.388600182191402,17.689468759181427,7.843562586070862,-15.947452172918007,3.161606693577996,-2.2685571508838773,21.99147161860736,4.922956120766643,20.31425258259987,-0.6864844115980331,-8.699552394366195,15.123934718567797,-11.847101080543208,5.219762703908082,-9.613053821693079,-10.860947904791843,11.768595398854728,3.507593530544563,-19.116200978124063,-4.646025041515993,6.617317104666645,15.363812725920141,9.166264419516365,-13.851118353175174,7.611611309444515,2.074491179332092,-16.624859091115688,10.673196223318355,10.819412478447331,3.8373965903480185,-0.9275143101474583,-0.1251415295779783,-0.23907281227234378,13.352595615167333,-17.615146271701494,-4.673211712050304,-13.994567898720828,-15.890533730461632,28.495525342976403,-6.214222044651171,30.522742638540127,-9.99413239333173,-22.038267846906525,-9.935289553603546,-22.124743894901453,6.121322654271695,5.059617793611757,20.947057929058307,-4.383535371207908,-15.649041639611914,-2.1905668716548257,-12.205109844497512,28.379141387101875,-22.664653044276907,3.178550102993568,-18.198286236719284,-4.834922316637113,-8.256984495235926,12.023039349969054,9.300019962832033,1.743375405516681,17.024094339833287,10.615493790298496,7.298106594546135,-5.600189620789834,11.423059637874822,20.271487582376736,-6.564353361354164,9.907224227202363,-5.9101942621275905,-6.633649992462221,18.271692905772262,-4.781923448123414,11.900905834128721,-3.6252305753855003,0.3388920058435225,-22.685487846678086,-8.806656403577517,-5.331356795580161,15.292616276403509,6.352381671449103,5.836075356345474,-9.112860239441446,-1.6061715108301007,-15.303006927684256,-6.618131010631656,-20.352975054040304,-1.49753912270218,-11.245485768550905,-18.562698334465487,-6.2668864884600675,-4.34457072248694,3.1870682586186283,-16.6834672611223,8.600521002799503,-2.3505477159715813,-3.4726673061350293,16.932586007839713,-22.00529954957317,-5.055111935559217,1.1703815716170234,-4.467597912712055,19.900786439701807,12.11713565373557,12.99312485179082,8.10756223618022,6.545924515268473,1.1997695196633131,0.061820249876481936,-13.165350762635333,-10.974178784652798,-13.328822156761982,0.09474198780099932,-19.716874841889208,21.063753661550383,12.402649447617364,-1.5773098679184534,12.847922762478722,11.092261059318972,1.174493906371611,-5.615329400289178,6.844496968739005,14.473576453934298,-4.304492973724544,6.960378373640239,1.1972685399129144,-13.610946179768826,20.152665446962523,17.679075727934052,10.5086880484314,-0.720988520167089,-4.576229281758965,-13.519927355557451,-8.573902779566437,-17.71081263716661,17.48828649121366,17.37810081584202,-17.24624488397213,-1.9726408265480022,-4.460578186114976,15.155892872275036,16.089146262126818,6.469961718554398,1.4194905100169246,-19.678997923527646,-20.81582792744385,4.832535587630101,2.298670313208537,-2.7022865954965383,-10.663763677497467,-21.249081474232774,9.711281820648656,9.09254167183269,2.907684446158821,-15.979714997931342,-12.834580498265902,3.6366220321703424,-17.40012817687862,-1.6418453204947485,3.268650558811543,-18.4833330566583,9.772640954628136,21.135155397834083,6.95024930805218,-6.846947838229227,7.415584576176071,5.699911006755171,-14.933559363514352,-6.77630275671239,-10.632881339270172,0.004100209065764443,14.841793036347443,-24.16848096446767,-5.194613598618241,-2.6226741286581943,-20.274944396443882,0.28724067010731946,-0.01131812627167017,-1.2699509979334,9.5219357296155,-12.558852999144715,9.2704700641078,3.9752033129377584,10.758026100089554,16.235900286423753,-7.83553122728929,15.752176281461361,7.640637394616148,-4.504533092167754,-13.579975715722647,14.410371152288322,11.357948770260496,-2.9571550030864313,15.85008637887118,-1.894533745669784,0.3448246055426507,-10.497972415014205,-14.083766881137215,23.57936591805752,-5.190205641690376,6.403680838556826,14.118259664737213,-1.6935266793038413,11.352958852287708,-9.390792123348069,5.020972524097562,-18.714920389112176,10.486006324588713,-7.876028389227632,-21.907870781647258,-17.751446125203984,29.969253253075923,-8.524832342749058,-9.32815307502364,-15.757928354911327,-16.157824066518167,-0.5345060660784839,-23.092175644333413,-11.08088300543346,22.0436803175348,8.20925293306425,11.801151798641982,-4.45061805799095,-9.784588020178537,0.6231226470986779,-4.286909290424171,-19.067789638907456,7.846920716462927,16.781921015162197,6.156937126930063,-0.5490483114056142,-12.212872669312176,-1.6669447574996008,-11.743745537302644,0.805345994833769,11.35038275775955,8.012191956603388,0.42366871718446897,-5.5283727398895035,19.948183913150693,-2.350783225516741,4.192849431477727,10.392502495893565,-4.63671783585974,-6.026129434352943,1.8702324444688585,-13.943539375110998,-14.174940690421407,-12.633710890343494,10.220332609210145,24.10962292995511,-7.632272445359627,7.132863601004514,13.16475294751017,13.96596606764559,-15.307765785066243,19.413354310023628,-17.135110400353444,18.0964402564125,-18.022395705390693,19.215954065433348,18.066968673235333,5.710263765553261,19.37557995585338,-13.753685747021015,-3.280137075886764,6.965450777446142,-2.4002881349895056,-13.55414991361756,-11.053899173192798,-13.100592002555565,3.216738429453346,-16.96841860677786,-6.989433591091825,-0.581979926950453,-20.228700549779347,-3.169147240977481,-3.2258182298671416,3.4462805969730095,-1.29862500396282,12.027365509468545,18.914421694768997,-0.28381467644787856,-20.46922626447477,-4.030653359086806,21.797119440492814,1.1525105331603906,-10.552263909419786,-8.092176316141181,8.045196974018106,-21.26209491092342,-15.113630427528621,-15.43430348325186,-6.333505317145065,21.470241628707207,-17.53596338059657,0.5676455863903906,0.36032970896686567,-4.23063148332335,-15.035092871517952,20.319548000213988,-15.524537816631451,-18.674309645304216,4.775084228634158,-16.767499198630063,19.386882632971243,0.4962656728202186,13.768069680199185,10.91350246381574,14.432447022279996,-20.72519038655949,-8.979330679508285,17.664678634979662,-14.467904744110712,6.890051710816875,8.2987734719574,-11.397539038585043,3.641610249441851,3.383715714189842,-13.304492670179114,13.719926085016327,-17.187869139529376,-15.959870220222102,23.441310846301842,13.767856110682336,-0.7295603629460047,-11.338636258054606,-15.573423581468226,16.935846451289194,-7.606790691784952,14.131287432102713,-3.3800083861579555,-27.459814540349807,-7.8172680117304765,15.957551422426617,18.01403033375504,-11.262707305854914,-15.90804828917542,17.296441542912287,-11.199691205406854,7.61026765012239,20.741009671009678,-2.8396195356234095,-7.782506934522953,17.808574165271462,29.374903026707415,-6.639764672706168,-8.59247348364592,-12.385158473984019,5.588957388275473,0.45722780318191414,12.358282155014164,-15.518514096144596,-3.518956558861763,0.6425230154003833,5.612975164495313,8.490366142839553,-2.493089098641165,8.856869296598143,-10.796195221970413,5.7426699541989885,-5.933795336847601,-1.5028855867041742,-17.834756512820142,3.6182516055777225,15.737485478297,19.97010903496762,-9.420903264340723,4.854022433943363,6.178629674926294,17.904883989776614,-23.084396754929973,20.033680324754403,-19.52783875786525,22.00035197950475,-20.47534034985474,4.186998538002178,-15.101713114183635,10.051780281898433,-20.729178665182847,-3.9766081091649443,16.229056405337243,-7.111694478589206,5.289449847735982,-14.667762316774358,4.820238631526394,4.682726539970223,6.337480461174864,-7.331409694421326,-14.173718330537225,18.499037362874095,14.920047549621074,-16.45625946106041,-13.180601766287731,2.6295507716249884,18.765061566918035,-8.572629560577635,-14.176809075357351,-12.300658113860123,0.0006606572318378565,-3.578252442303323,7.871227193749428,-8.612017407894701,-5.8408326052981305,4.388328129393589,15.986082808140928,-10.894052203643053,-2.8971779107789923,-0.5037225668416749,-1.661148568109825,20.29734285772209,14.882697725489082,-10.619215332107036,0.43311627401987346,10.112149695963797,-12.450433067826248,-1.2469956387109316,1.6891742506509324,16.607251079167206,23.18056324276655,-15.194951296781449,-11.622815533683731,-11.964448591017142,-11.549545657362733,-3.7022257418904614,-7.117819415355859,-5.740341952956507,-15.738807537667022,16.00566860072264,-2.534024757501959,-3.2866775879854906,-2.0004777794610455,-5.758930304527248,-2.674749831672903,-21.522545926102513,22.984760865537645,-16.027638746640452,-2.947552018441031,-9.299095724635848,-21.03627863981758,19.413374458433935,-10.598773609505907,9.975811328334228,-8.25765976625435,-11.38180894352263,9.909747160293133,19.200193107808584,-11.45611451684743,0.965772623282173,1.2155318674306423,19.147759550908848,14.972226145911293,2.1092459692727723,0.5750712806249763,22.87063896108193,-2.598216633222421,6.633369715422177,1.0779758612935644,8.23131977703746,-18.543671524202136,19.05616523942962,15.444572435326632,14.189455233273629,-8.030118093429886,8.24274504951871,-4.975837546210198,11.346582117009085,10.55607873567679,4.7535986514505835,-10.333280014958678,-9.843754284771984,17.531337884410984,-13.937888230186806,-8.999515742695968,-0.3270530036711071,22.233489776097926,-13.42057281390785,17.926005449804606,13.73577705598561,3.1661741840304556,-17.885925367275558,17.147589879146366,-19.30015131840442,15.048075045480095,-12.354492401617994,-20.80474982628792,-2.4052810221186007,0.5270426701443341,15.977791516143432,-18.55000196838962,16.429794785483033,1.5105352812712018,5.6904086259829105,5.141267623221382,11.912152103025422,6.2800132671260585,-14.98112449806077,12.136802737104679,-8.589783292583984,-9.03264180606957,12.772794076319586,13.287044222273504,-3.4382701920098713,30.450394488760633,-10.557953126239328,6.904560806975872,12.495405452083842,-19.958922430933065,-7.834141159904671,4.139064069471335,-21.962291121164537,21.519229245628615,7.992109037677299,14.588380627235209,4.471639261253575,17.805393374604588,15.44191264190965,-25.181116669493083,18.578441170482233,-17.240780573718318,-11.932338983845067,-5.4314232505374385,-19.037880687164208,19.24351357677925,-1.605841370210153,0.42344470483313956,20.498578162716402,11.562064719623782,-0.38009721134370805,18.408248469920313,19.353779135651546,-15.096670668228729,-3.8198588010791346,-22.146921823398916,-9.897730946978932,6.035421913008348,-9.513993281114066,24.833490310108008,-19.257071295496175,-14.351109370901673,-19.695858499781735,23.10153249764328,-22.7327662498618,8.039291912634656,0.07993414117894396,19.32942547393005,34.124771255393306,-9.276062986127252,-11.770077694105549,-9.516257417527852,-12.838033222006098,-11.615663213478022,-12.881417367634745,21.457648159081966,-16.98563206405858,-2.902146672141201,0.8055563778590439,-11.615990426760108,12.455676027484454,-14.956105060421265,-9.321361468279017,8.254234248149437,4.296404556373582,-14.452578092171324,7.371009515347637,14.490372256708989,0.059732404451023374,20.4758644259886,18.853337756057144,2.3635448537521357,-7.253844083233042,4.326781516321371,-16.172337508040908,2.218530151233938,-16.474078447806534,-6.168491678272869,4.030244970874192,-1.1323892787877075,-21.411034103240482,-11.917047751948134,-7.809337449023594,24.323592968140556,21.11554274294502,12.89874737239857,-8.548065321285168,16.45315786647361,10.077208776201928,1.937119196019944,-16.45170308967516,-8.47374301725192,13.336522771600999,-7.690800651399057,3.735140780788685,4.378019815660414,-4.233942251434625,21.439510257147493,-7.394220609277727,-9.914143868879759,9.218300175361733,-12.847198416199824,20.003958697201444,13.62751246635573,-7.442328619396677,-8.697286753766893,-14.48510662047582,-13.052420034609204,23.047169415489666,6.220867571133609,-15.452567780321305,-11.079501081953929,-7.580471041277365,-15.566238936231906,12.96931363534596,-19.18963388304826,19.768841138394908,17.21446119150363,-20.38585605587903,-10.34622329742604,-6.629982210530789,-14.383806731619186,4.440078653926789,5.898181118054656,-2.0505650646673788,-9.902104033581463,-2.0124682870921395,-23.39308683372073,-9.869152767162527,12.09562349756489,-4.6169973844326595,-3.0857539988279887,13.278238983461673,-1.450832955771446,-17.578607295018017,-22.91200741357864,8.745830371770529,0.3262368557325802,-11.276473460356709,-10.828772902522699,9.083580953868765,14.12465360680412,18.378005065798575,11.082893502688282,0.6989367021226338,19.15694472284906,-5.1056786053994445,-8.059370723732686,14.342622686454403,13.564885281633416,-12.465334710104672,12.767242742506118,4.296949291982459,21.7339746528483,8.742339010656616,10.636517294428563,-7.100243667008769,16.620254203886606,-2.3109346558064505,14.9640290762372,-24.34433173205207,-2.6032283432750107,11.297984967610965,-5.253310792678293,16.976293739072126,12.472963630589808,-18.14975367754004,22.63895749519845,8.068232969747724,-24.41498888849542,-10.442178811805897,14.584575575381281,-1.7412842917165452,-13.939581315557149,-15.209840911715816,2.8553547573663343,18.562974370460207,-17.09066262805367,0.5143116660858266,5.589183829196009,4.942971481132518,13.476467506960798,-1.6967974939483328,0.930562202668345,12.548908452305609,6.595879201873516,-24.5902328572781,-2.4409521452994203,-6.975939467040618,3.408862576543245,5.586241172635936,21.489999155734232,-5.14552153309653,-16.105972813273027,6.957412637383073,4.634804320866194,13.311563616940127,-1.2993401133116182,8.376654533314287,3.412499600266604,-17.560392101705272,-9.731709440673914,-25.07040152682592,21.992829519945154,-6.3185586209550655,24.8471272391971,-16.633130213129256,0.43493456636602834,-22.56859095540972,-17.993025235854997,-12.137904621562187,-9.040834969615439,-6.951046328830178,-16.618449818057744,-12.482938364519459,-9.86991170102786,-6.211600660017102,-14.738761315008723,10.961726212179135,9.738961534568915,-17.03908976177515,24.408106179641933,1.879226564856562,-18.77993448015168,-0.9280467673889855,6.7615154330998415,-5.627230608819415,18.98090590811447,9.649650496046053,-20.583180163024977,14.146299192369806,-19.434022971570936,0.09490435044550097,5.576464320251397,33.49486078940742,-7.32482626859363,5.2992573465421575,-8.385451403520259,-6.199809026871504,0.6398300866558848,5.340103549544616,-2.0071482850318128,6.929389757696477,18.963952673488,-6.061423706509841,1.8876167035601865,5.071197396266061,-6.375297404044301,-3.154683141111278,3.605129367809571,12.77175924820647,-22.52771433870171,6.916285770606205,8.471786083999309,-9.685728421402995,-14.898528482709155,-11.308148675504182,3.5443712146349964,-10.6582931974055,18.646621143762456,3.4822376205731946,-16.46836845942682,-8.14186745668582,-1.0570854733509736,5.709173618547982,20.656619380425344,-8.6550794603002,12.9011842846143,7.341101634846476,0.11925209868845954,-5.920921174565828,10.289133129055188,-9.778634594135946,-17.237121234010797,-23.398521072672164,5.556328017280879,-18.861730916917256,-7.846810362361058,7.094920964586021,-4.199700825729942,6.094954200115472,-5.331729684829536,1.197065274412143,1.4104059839968761,-2.8839606889719644,15.619231148085698,-18.546493422004733,-8.609051163986514,-7.579757749142724,-7.027855175823635,3.406028815817152,-18.863597463838023,3.7375229588136913,-0.3205978956606178,8.489661991160975,10.712905850154318,12.09797569077733,8.480336596585921,14.316644278842746,-19.633978624899882,3.101339345672002,3.0356467965007146,-20.39741152635488,-7.686693469810278,-17.629151110362972,11.105490512739712,17.131342920493697,5.402932243344937,-16.49112620937198,6.177498878502362,9.117277743645648,8.672372938549227,-10.804738333832548,16.15209263817748,12.40390210526976,11.004149509838086,-15.356076542200341,-11.14437993469545,4.6307884616309645,-8.004555870435105,6.569631673344554,19.2585193110251,0.2757909301465583,2.444280849743149,7.283681179251185,-7.091091882966984,1.732558256171847,-10.69286288226704,-18.154193301036077,-3.5443819802769285,9.126670230788706,-6.532998087414175,-12.26637529088474,7.242555550835933,-13.157353548906169,18.098948037940144,-12.040317075464603,-22.766005171151935,11.127977630036268,2.354485405069527,17.15524589540518,-2.7351313704770037,-2.7613974212303902,14.843981989536521,-0.9012744990050944,5.328752255075966,19.876507487163128,6.189563083606511,4.2218464264621005,16.660707099822048,15.286969792944747,-1.7064915813500914,-3.703347114363026,12.049856062832161,-7.918865788928455,-9.066211072307501,-13.554109403993841,16.134885604402005,-24.225447232340883,-5.621878132099204,7.284326957646304,-3.293563113030366,2.51672187050378,-20.16779575407017,10.524330389563271,11.106481690647461,6.94076545596272,8.840054295373973,-4.958658856911372,-13.892079278365493,-5.2748962135818465,15.160775337677293,7.593622401666147,-15.947006053197327,-19.215981967745023,-2.802562494495643,-5.282684808871829,-2.8198631210674168,1.0240847492961866,-2.196464285201745,-6.1811140649851675,10.417157387298824,20.256695601723873,-3.0939617880706956,13.36026712727379,-8.031137562195722,1.1404232991055412,-10.057507984575274,15.368101746215665,-10.461854439749484,9.5936727103054,17.77316692278251,-18.719192358989083,-1.7078575583132196,18.554239094808516,-0.5983560802346121,7.198201080847838,8.940268754096392,-9.72313375205041,5.024301832033986,16.1714368453956,3.4328030557754503,21.01943317360864,-4.891565138540381,9.218603201518484,8.492238764298246,2.587042978358576,3.1220362485954265,5.193099145514863,-6.829525894415971,4.535594547237999,9.220919885491305,-12.217782612310742,6.768019321302064,-4.492357267721925,2.996209842855997,-17.466523928393404,13.874558220392199,0.3390435771241149,-13.38534785176797,-2.9441044306354858,0.3077541963250336,-1.6129276489585331,9.625390123106373,20.98547110365603,29.94687339812375,0.485354279348688,-7.87918867846151,-11.842652775389102,4.017202690448127,-9.573185149987184,-14.61373112897164,-7.135017498926973,12.376902748587222,7.988579849457259,0.9006332500550911,1.5393951664227157,2.8313399546750637,12.151666585729993,5.944059776380288,-22.008098808964284,-12.504111462870396,1.6187380317878906,-0.5434939025682066,-5.745103744563509,-9.249206409559202,6.2671705460301395,17.50205906944462,-3.796331616570906,20.76529973800435,16.3525424574567,-2.663120948584169,-8.92914346133515,5.841754389352869,22.034797618725413,-16.7109594049635,0.9795922008068754,-10.601735377199812,-3.026510807459317,10.858740411463906,10.478560392678851,5.1551211367568675,12.189194083485448,-8.110257310027137,7.540714381794581,21.245269856399702,-2.941223677491702,-4.962404585905798,-8.175891830457278,7.0942647437978446,-10.629950450349408,-22.905892666501586,-31.970589710022995,-8.517182649368094,-9.695806844077758,-13.962108286914374,-24.52417181545797,-13.988031038511528,15.32927650297278,13.333105535380763,-7.7613134605946055,8.277738369017513,6.722031740991158,-12.873011224079935,4.51335642220716,22.043798144398785,8.812944894031922,5.536324548550988,5.540242743352026,13.435872538528598,7.713635441962237,-15.278717643802928,-22.89682209656814,-18.689212065165364,-8.909229840247423,-0.866908569624853,13.330208497011336,8.342558991646511,-15.847214375800414,8.832041396707906,8.556928915030694,3.4872876575476384,-10.245449096552713,-11.76526856563677,14.516911130999755,-16.021748194336787,-1.8629166497765999,9.062365516861409,17.810034364246135,-13.962949311372562,19.305318416496743,21.000015909613598,-5.920413622533526,6.120570216433588,-19.801310917542274,6.317021184623647,-18.76134051328167,-3.255295016277849,-3.996785980871775,-11.112286521341753,5.822188052935852,-13.731838595974361,5.770979547671825,1.7840883078823033,15.239667518467867,3.7483881685297917,7.541077178679128,3.4037970913597304,4.4340725821436955,-13.754590020025747,6.998158065982527,12.923577107200554,9.99371998724489,21.080702648091528,1.9006812224674445,12.96379509923473,3.0450354835941496,9.402378616582853,14.361295082068926,14.224357020972565,-9.541939803162343,23.747352495612436,-17.992287396934373,11.696026008838677,5.2673967436849995,-17.362233414939784,-3.9761583976016928,5.153616183397417,-0.8766235969489059,12.144120287996865,-1.7508593768929837,13.572065528713045,-7.851766874183999,-15.931151982820861,-0.46991492332219154,15.17885530868178,-13.46497889048888,19.038719873430825,18.029464470340713,-6.958796492851563,7.34284796551486,-6.170322752963139,-13.053576999034137,12.770348512118892,14.66386000687041,-12.515619947216784,14.496868176419122,2.0752801950365263,-3.364790103063421,-1.6546887792063103,-13.346809877431301,1.6391886850756583,-8.532926016416686,-6.575317245130268,15.142507251283511,12.820452874379358,8.110484070939028,-23.340468334940326,16.16987928840683,5.645297245752796,-2.148980092506174,2.7098998418351656,-4.440645095949457,16.843159442420756,11.645922707303422,14.412611574971358,-0.8165020934770466,-3.6450259190330754,20.396729771907236,-5.272704538543345,10.773725715628126,13.941431078275983,1.8034002276785195,12.37443845889179,-5.469511824509406,2.065664334029793,-0.11473885704613807,-14.437473769231756,-5.484211923182761,-6.1876050130256015,-10.030991983817788,-2.4510438326159067,14.234230529847691,-15.756253228935007,20.073713707640852,8.322633174487583,9.872252342129313,1.2876724456385416,10.289664611226275,-6.825498617311074,-12.879527944235907,-7.346911851763662,-0.5173287273315765,-3.778606985486011,14.914445131916898,-5.581989349945347,11.798104679719504,-24.654201705404216,-1.0861866580578534,-6.609648771520673,1.0838049878717408,-8.40022381501559,-6.136138335617452,14.710541753313425,0.14970628806542832,-8.433838930679503,19.320859058984706,2.5976899268659945,-2.770530915918923,-3.3638432639660127,-11.355911183860316,-16.023870540242154,-1.0742010891861653,-11.33927834479306,10.956802058342982,11.6683696386133,11.270819520915909,14.329653703618238,-4.282814634479105,7.339790309764054,-13.64234255617454,16.02328843827566,2.0953810918089837,-13.229099505160253,2.3060431637571184,17.81329294109714,13.326200614454526,3.0215429631717052,-2.844647696246877,-15.144004872429072,22.960691175581623,16.704649075097525,12.42548982370305,-5.676191146696159,3.4492069530557603,28.777736792013545,-11.449619818161963,6.7853073483916475,-16.007980780836043,-24.07397948339667,12.15198661893117,-14.312379342160709,-14.825706118762536,2.4630080385212727,-3.6463199924246763,-3.3964419922004336,10.11858661461596,6.40002723756332,-18.144148890510294,-9.558843118912632,0.6823074397444107,-5.54111220083196,5.4914136745744395,-12.44918599223685,-0.9238148043812213,8.435334331829605,-15.762412028550708,-7.904892500085294,3.896434520031555,-20.455420374538033,-8.844842588497928,-31.28325761011784,-1.6543474689919406,-21.83600902683371,14.933825665102265,-8.667341486522744,2.7209149490705977,5.430690629711855,0.11519193906933556,-7.0320189452951185,3.983909065466346,-0.6964723884724497,11.072646924008554,12.448706111721677,8.123180096948632,-3.8260075479050557,5.682448760933689,-10.271464631431249,18.73903136584815,-9.395059463107831,-1.6036576684300294,-4.222046741739207,-9.34084663936443,4.649439161253306,-10.781513067377,3.738709454297135,-1.7182345311797778,16.57870372925781,23.558563287660018,-0.7345439109502477,3.11807200310841,1.621498796208704,11.546600362358463,11.452437680668677,6.272478885623371,-19.884292580433737,23.609753941658283,10.12254852934855,-28.941801206594473,-5.195095079152342,2.4083884208980604,-20.00487608134115,-4.20009608181212,-0.7108872481138732,1.7610449991417925,-0.12822890697807365,7.9617565914963295,12.031510463379577,-21.216841105896634,3.9233113095444248,-9.913192964903907,-4.885567428201848,6.5279128370915505,15.892951170916179,-10.928806099885112,3.3589026112421765,10.198538213273702,-11.911045102550393,-16.01354299720872,1.8555301099757144,6.448390322038308,-18.218293145624585,-13.31146100181727,16.56487933752216,-1.2133230979358491,2.2537040405147035,11.08714143004707,-6.25477435376544,11.400745515263806,17.656503585769318,8.010049646124184,19.7032635803669,15.47505661995703,0.6333650058031489,4.820589207351595,7.4102480181522585,-19.274763931040972,-3.3179375263740374,-18.487687703349913,2.7954896587548075,-6.482531533095212,7.5447589730367595,11.651484928397077,21.3282643882628,-11.56608242690308,-4.613685263919248,-1.877299093226527,3.870212448106137,6.49719855566617,-1.9396939177148362,8.042783641141282,-11.948200130682714,2.1861413892692427,0.5318706068161171,-0.19639911968140444,-7.909314701253897,9.225238986539713,6.50401299016361,-0.9453067374677331,5.806941919554105,-21.171105773511005,20.899498635686292,0.9881893581136206,-20.886403228707966,-10.911563273486804,2.1625754351354294,-20.91380039169211,5.148861772300494,-5.171140008007003,4.387824863126996,-2.733358471753884,-0.5154794276415144,2.5357501073029387,-18.47302954136629,-4.888495896885341,-15.572315395396265,-21.846007592212953,6.954429283993761,2.4750346031995165,-14.427334318547214,12.336111204449182,-3.4552968342507127,-1.4284476730947289,9.985562987912044,0.7051750934724701,7.920946400851486,13.183261691962965,7.3558260382076455,-5.3923754496049074,-12.61302608859419,-14.01911838207107,0.9744629702422094,18.61281795221592,-10.560482759665575,2.3416617823263572,9.850026865040967,8.564619956306485,16.410109028460557,-5.013400722794741,2.724408506691506,4.107308735342399,14.751978641952414,3.885508834772758,15.384357711954223,2.7178685450347553,0.618848797903772,17.372769083806798,17.86463115647075,10.165093651201543,-0.06719583260433723,-11.777259917060526,-1.161761497359748,9.643691724027626,6.551390430317794,-7.7401395487099975,10.579254070986115,-11.226275009792264,18.90117764514691,-1.890795494404236,-17.061987273398568,1.2447115157710658,3.4377716110197554,-16.587423832145046,-0.2760896247988127,11.815485003169334,13.16269911989211,12.958995665642218,-9.33588600658672,19.160478466390817,-10.440225678205486,4.638134517257496,-4.176902192509871,13.874178224685945,-8.663563656154109,-14.27071028175966,0.7974824928353167,1.378347475206909,2.7909234585677636,-11.661546173283046,7.333305424409333,17.53159653933363,3.2586369976208047,9.74158685259008,1.3147158092840714,5.34406883767133,10.279980852809814,0.7258084289876834,-7.613419517483605,-14.814845530299356,-10.849037414515143,-17.185122996552337,9.482762170807632,3.508939264913651,8.67033513964003,1.3458027420421195,15.145999798516309,20.047393040355253,2.0623899793499616,4.773979884466821,-0.5165132504088003,1.9190483877169167,-17.371368918688223,13.728227754168262,-1.5147449929216645,-20.946381739422836,1.8161835544533391,-20.662174058224164,16.965019045731385,8.346915212848927,-4.929255916060847,-18.682380041684553,-0.6361598745408453,7.479540281011552,15.309908324393499,-9.313862667038144,3.869839819612514,17.230395081979744,-9.74838062066405,-21.48691030617725,16.87759724856583,17.86137543495372,-0.8932010295804055,6.8879553652537755,22.628522094670107,2.3986000333042536,12.874254834071067,-3.121979121658221,14.850744238420901,1.7159886180582407,10.307438678019762,-7.521301691657528,10.648380317825634,11.577856645714157,-9.060151055649145,1.104802009582759,4.338805438924045,13.23342505832813,-7.1722018714287765,-6.479592119693371,-2.096869839179795,-4.646167197000523,13.476752206705596,-12.488944006475117,21.50522603768528,3.925330052459835,2.073022028274369,-21.99266707617003,10.946950161724212,-0.9778981362876876,13.033452455204877,-6.069555660218761,17.343125414023106,1.804845751444725]}},\"id\":\"7925aedd-bfff-49cf-a0e3-b3bcb2f358cb\",\"type\":\"ColumnDataSource\"},{\"attributes\":{\"dimension\":1,\"plot\":{\"id\":\"131e3f8b-b590-483d-8932-ff5270dba88b\",\"subtype\":\"Figure\",\"type\":\"Plot\"},\"ticker\":{\"id\":\"bc2185c9-7fb4-4140-a033-5ddbdfa0edd4\",\"type\":\"BasicTicker\"}},\"id\":\"590dfeb9-a3c7-4f0d-a80c-18547fb32665\",\"type\":\"Grid\"},{\"attributes\":{\"data_source\":{\"id\":\"7925aedd-bfff-49cf-a0e3-b3bcb2f358cb\",\"type\":\"ColumnDataSource\"},\"glyph\":{\"id\":\"f4bcebb3-18b7-4cfe-b455-5e2e47993bea\",\"type\":\"Circle\"},\"hover_glyph\":null,\"nonselection_glyph\":{\"id\":\"af12addc-a6a2-440c-bc9a-dccdda1ea72f\",\"type\":\"Circle\"},\"selection_glyph\":null},\"id\":\"0bba35ed-4183-4a67-b475-a520dedfa989\",\"type\":\"GlyphRenderer\"},{\"attributes\":{\"plot\":{\"id\":\"131e3f8b-b590-483d-8932-ff5270dba88b\",\"subtype\":\"Figure\",\"type\":\"Plot\"}},\"id\":\"b5b9c9e6-3fb9-4b4a-aee2-1701dbd36eb3\",\"type\":\"WheelZoomTool\"},{\"attributes\":{\"fill_alpha\":{\"value\":0.6},\"fill_color\":{\"value\":\"red\"},\"line_alpha\":{\"value\":0.6},\"line_color\":{\"value\":\"#ff9900\"},\"size\":{\"units\":\"screen\",\"value\":5},\"x\":{\"field\":\"x\"},\"y\":{\"field\":\"y\"}},\"id\":\"f4bcebb3-18b7-4cfe-b455-5e2e47993bea\",\"type\":\"Circle\"},{\"attributes\":{\"below\":[{\"id\":\"be04132f-f094-4eaf-b6b4-89dee25f5fb4\",\"type\":\"LinearAxis\"}],\"left\":[{\"id\":\"e0befba3-9247-48a7-9241-e696f1d6caa2\",\"type\":\"LinearAxis\"}],\"plot_height\":900,\"plot_width\":900,\"renderers\":[{\"id\":\"be04132f-f094-4eaf-b6b4-89dee25f5fb4\",\"type\":\"LinearAxis\"},{\"id\":\"3f3e86b4-48e9-4eeb-9a1e-ebac99c69f98\",\"type\":\"Grid\"},{\"id\":\"e0befba3-9247-48a7-9241-e696f1d6caa2\",\"type\":\"LinearAxis\"},{\"id\":\"590dfeb9-a3c7-4f0d-a80c-18547fb32665\",\"type\":\"Grid\"},{\"id\":\"f0b73566-0c65-43ac-8add-55dd982b9658\",\"type\":\"BoxAnnotation\"},{\"id\":\"0bba35ed-4183-4a67-b475-a520dedfa989\",\"type\":\"GlyphRenderer\"},{\"id\":\"b486105b-707e-4cf3-b03c-d60f9f7678c6\",\"type\":\"LabelSet\"}],\"title\":{\"id\":\"655c903a-5e15-4f48-b729-197e91173ada\",\"type\":\"Title\"},\"tool_events\":{\"id\":\"3a974380-2d10-4b85-816d-48c9d2fa62c2\",\"type\":\"ToolEvents\"},\"toolbar\":{\"id\":\"9cf52c17-e47c-4e7a-b0e3-27d0abf5ee3e\",\"type\":\"Toolbar\"},\"x_range\":{\"id\":\"e930909a-eea1-4ba1-b97b-519bf85cff21\",\"type\":\"DataRange1d\"},\"y_range\":{\"id\":\"c2541c36-1009-4d0d-ac34-454c22e4ada2\",\"type\":\"DataRange1d\"}},\"id\":\"131e3f8b-b590-483d-8932-ff5270dba88b\",\"subtype\":\"Figure\",\"type\":\"Plot\"},{\"attributes\":{},\"id\":\"bc0479a8-4e2f-4bd6-bf69-713810ca4d38\",\"type\":\"BasicTickFormatter\"},{\"attributes\":{\"callback\":null},\"id\":\"e930909a-eea1-4ba1-b97b-519bf85cff21\",\"type\":\"DataRange1d\"},{\"attributes\":{\"formatter\":{\"id\":\"b13c9eae-70f7-44a9-bec6-c4f081f99487\",\"type\":\"BasicTickFormatter\"},\"plot\":{\"id\":\"131e3f8b-b590-483d-8932-ff5270dba88b\",\"subtype\":\"Figure\",\"type\":\"Plot\"},\"ticker\":{\"id\":\"f537a60d-421e-48c5-9307-16c8e738e7dc\",\"type\":\"BasicTicker\"}},\"id\":\"be04132f-f094-4eaf-b6b4-89dee25f5fb4\",\"type\":\"LinearAxis\"},{\"attributes\":{\"plot\":{\"id\":\"131e3f8b-b590-483d-8932-ff5270dba88b\",\"subtype\":\"Figure\",\"type\":\"Plot\"},\"ticker\":{\"id\":\"f537a60d-421e-48c5-9307-16c8e738e7dc\",\"type\":\"BasicTicker\"}},\"id\":\"3f3e86b4-48e9-4eeb-9a1e-ebac99c69f98\",\"type\":\"Grid\"},{\"attributes\":{\"plot\":null,\"text\":\"word2vec vis top 2000\"},\"id\":\"655c903a-5e15-4f48-b729-197e91173ada\",\"type\":\"Title\"},{\"attributes\":{},\"id\":\"3a974380-2d10-4b85-816d-48c9d2fa62c2\",\"type\":\"ToolEvents\"},{\"attributes\":{\"callback\":null},\"id\":\"c2541c36-1009-4d0d-ac34-454c22e4ada2\",\"type\":\"DataRange1d\"},{\"attributes\":{},\"id\":\"f537a60d-421e-48c5-9307-16c8e738e7dc\",\"type\":\"BasicTicker\"}],\"root_ids\":[\"131e3f8b-b590-483d-8932-ff5270dba88b\"]},\"title\":\"Bokeh Application\",\"version\":\"0.12.2\"}};\n",
       "            var render_items = [{\"docid\":\"9c0746a2-27d9-4c6f-9c07-58b3c8184be0\",\"elementid\":\"bdae55d7-ef61-4cdb-9dba-317a7f5a9998\",\"modelid\":\"131e3f8b-b590-483d-8932-ff5270dba88b\"}];\n",
       "            \n",
       "            Bokeh.embed.embed_items(docs_json, render_items);\n",
       "        });\n",
       "      },\n",
       "      function(Bokeh) {\n",
       "      }\n",
       "    ];\n",
       "  \n",
       "    function run_inline_js() {\n",
       "      \n",
       "      if ((window.Bokeh !== undefined) || (force === \"1\")) {\n",
       "        for (var i = 0; i < inline_js.length; i++) {\n",
       "          inline_js[i](window.Bokeh);\n",
       "        }if (force === \"1\") {\n",
       "          display_loaded();\n",
       "        }} else if (Date.now() < window._bokeh_timeout) {\n",
       "        setTimeout(run_inline_js, 100);\n",
       "      } else if (!window._bokeh_failed_load) {\n",
       "        console.log(\"Bokeh: BokehJS failed to load within specified timeout.\");\n",
       "        window._bokeh_failed_load = true;\n",
       "      } else if (!force) {\n",
       "        var cell = $(\"#bdae55d7-ef61-4cdb-9dba-317a7f5a9998\").parents('.cell').data().cell;\n",
       "        cell.output_area.append_execute_result(NB_LOAD_WARNING)\n",
       "      }\n",
       "  \n",
       "    }\n",
       "  \n",
       "    if (window._bokeh_is_loading === 0) {\n",
       "      console.log(\"Bokeh: BokehJS loaded, going straight to plotting\");\n",
       "      run_inline_js();\n",
       "    } else {\n",
       "      load_libs(js_urls, function() {\n",
       "        console.log(\"Bokeh: BokehJS plotting callback run at\", now());\n",
       "        run_inline_js();\n",
       "      });\n",
       "    }\n",
       "  }(this));\n",
       "</script>"
      ]
     },
     "metadata": {},
     "output_type": "display_data"
    }
   ],
   "source": [
    "vis_top_n(model=model, top=2000, lr=2000, n_iter=1000, perplexity=30)"
   ]
  },
  {
   "cell_type": "code",
   "execution_count": null,
   "metadata": {
    "collapsed": true
   },
   "outputs": [],
   "source": []
  },
  {
   "cell_type": "code",
   "execution_count": null,
   "metadata": {
    "collapsed": true
   },
   "outputs": [],
   "source": []
  },
  {
   "cell_type": "code",
   "execution_count": null,
   "metadata": {
    "collapsed": true
   },
   "outputs": [],
   "source": []
  }
 ],
 "metadata": {
  "kernelspec": {
   "display_name": "Python 3",
   "language": "python",
   "name": "python3"
  },
  "language_info": {
   "codemirror_mode": {
    "name": "ipython",
    "version": 3
   },
   "file_extension": ".py",
   "mimetype": "text/x-python",
   "name": "python",
   "nbconvert_exporter": "python",
   "pygments_lexer": "ipython3",
   "version": "3.6.0"
  }
 },
 "nbformat": 4,
 "nbformat_minor": 2
}
